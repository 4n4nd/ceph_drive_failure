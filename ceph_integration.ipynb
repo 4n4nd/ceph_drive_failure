{
 "cells": [
  {
   "cell_type": "markdown",
   "metadata": {},
   "source": [
    "# Metadata to Get Inference Data for Experimentation"
   ]
  },
  {
   "cell_type": "code",
   "execution_count": 71,
   "metadata": {},
   "outputs": [],
   "source": [
    "import os\n",
    "import gc\n",
    "import glob\n",
    "import json\n",
    "import utils\n",
    "import pickle\n",
    "\n",
    "import numpy as np\n",
    "import pandas as pd\n",
    "import dask.dataframe as dd\n",
    "from dask.distributed import Client\n",
    "from dask.diagnostics import ProgressBar\n",
    "\n",
    "from joblib import parallel_backend"
   ]
  },
  {
   "cell_type": "code",
   "execution_count": 23,
   "metadata": {},
   "outputs": [],
   "source": [
    "import matplotlib.pyplot as plt\n",
    "import seaborn as sns; sns.set()"
   ]
  },
  {
   "cell_type": "code",
   "execution_count": 8,
   "metadata": {},
   "outputs": [],
   "source": [
    "pbar = ProgressBar()\n",
    "pbar.register()\n",
    "# client = Client()"
   ]
  },
  {
   "cell_type": "code",
   "execution_count": 9,
   "metadata": {
    "jupyter": {
     "source_hidden": true
    }
   },
   "outputs": [],
   "source": [
    "# inferred int64 types cause a type mismatch (int vs float) error when dask sees a null value\n",
    "# null values cannot be interpreted as ints\n",
    "custom_dtypes = {\n",
    "    \"seagate\": {\n",
    "    \"date\": \"object\",\n",
    "    \"serial_number\": \"object\",\n",
    "    \"capacity_bytes\": \"float32\",\n",
    "    \"failure\": \"float32\",\n",
    "    \"smart_1_normalized\": \"float32\",\n",
    "    \"smart_1_raw\": \"float32\",\n",
    "    \"smart_5_normalized\": \"float32\",\n",
    "    \"smart_5_raw\": \"float32\",\n",
    "    \"smart_7_normalized\": \"float32\",\n",
    "    \"smart_7_raw\": \"float32\",\n",
    "    \"smart_9_normalized\": \"float32\",\n",
    "    \"smart_9_raw\": \"float32\",\n",
    "    \"smart_10_normalized\": \"float32\",\n",
    "    \"smart_10_raw\": \"float32\",\n",
    "    \"smart_184_normalized\": \"float32\",\n",
    "    \"smart_184_raw\": \"float32\",\n",
    "    \"smart_187_normalized\": \"float32\",\n",
    "    \"smart_187_raw\": \"float32\",\n",
    "    \"smart_188_normalized\": \"float32\",\n",
    "    \"smart_188_raw\": \"float32\",\n",
    "    \"smart_189_normalized\": \"float32\",\n",
    "    \"smart_189_raw\": \"float32\",\n",
    "    \"smart_190_normalized\": \"float32\",\n",
    "    \"smart_190_raw\": \"float32\",\n",
    "    \"smart_193_normalized\": \"float32\",\n",
    "    \"smart_193_raw\": \"float32\",\n",
    "    \"smart_194_normalized\": \"float32\",\n",
    "    \"smart_194_raw\": \"float32\",\n",
    "    \"smart_197_normalized\": \"float32\",\n",
    "    \"smart_197_raw\": \"float32\",\n",
    "    \"smart_198_normalized\": \"float32\",\n",
    "    \"smart_198_raw\": \"float32\",\n",
    "    \"smart_240_normalized\": \"float32\",\n",
    "    \"smart_240_raw\": \"float32\",\n",
    "    \"smart_241_normalized\": \"float32\",\n",
    "    \"smart_241_raw\": \"float32\",\n",
    "    \"smart_242_normalized\": \"float32\",\n",
    "    \"smart_242_raw\": \"float32\"\n",
    "},\n",
    "    \"hgst\": {\n",
    "    \"date\": \"object\",\n",
    "    \"serial_number\": \"object\",\n",
    "    \"model\": \"object\",\n",
    "    \"capacity_bytes\": \"float32\",\n",
    "    \"failure\": \"float32\",\n",
    "    \"smart_1_normalized\": \"float32\",\n",
    "    \"smart_1_raw\": \"float32\",\n",
    "    \"smart_2_normalized\": \"float32\",\n",
    "    \"smart_2_raw\": \"float32\",\n",
    "    \"smart_3_normalized\": \"float32\",\n",
    "    \"smart_3_raw\": \"float32\",\n",
    "    \"smart_4_normalized\": \"float32\",\n",
    "    \"smart_4_raw\": \"float32\",\n",
    "    \"smart_5_normalized\": \"float32\",\n",
    "    \"smart_5_raw\": \"float32\",\n",
    "    \"smart_7_normalized\": \"float32\",\n",
    "    \"smart_7_raw\": \"float32\",\n",
    "    \"smart_8_normalized\": \"float32\",\n",
    "    \"smart_8_raw\": \"float32\",\n",
    "    \"smart_9_normalized\": \"float32\",\n",
    "    \"smart_9_raw\": \"float32\",\n",
    "    \"smart_10_normalized\": \"float32\",\n",
    "    \"smart_10_raw\": \"float32\",\n",
    "    \"smart_12_normalized\": \"float32\",\n",
    "    \"smart_12_raw\": \"float32\",\n",
    "    \"smart_22_normalized\": \"float32\",\n",
    "    \"smart_22_raw\": \"float32\",\n",
    "    \"smart_192_normalized\": \"float32\",\n",
    "    \"smart_192_raw\": \"float32\",\n",
    "    \"smart_193_normalized\": \"float32\",\n",
    "    \"smart_193_raw\": \"float32\",\n",
    "    \"smart_194_normalized\": \"float32\",\n",
    "    \"smart_194_raw\": \"float32\",\n",
    "    \"smart_196_normalized\": \"float32\",\n",
    "    \"smart_196_raw\": \"float32\",\n",
    "    \"smart_197_normalized\": \"float32\",\n",
    "    \"smart_197_raw\": \"float32\",\n",
    "    \"smart_198_normalized\": \"float32\",\n",
    "    \"smart_198_raw\": \"float32\",\n",
    "    \"smart_199_normalized\": \"float32\",\n",
    "    \"smart_199_raw\": \"float32\"\n",
    "}}"
   ]
  },
  {
   "cell_type": "code",
   "execution_count": 10,
   "metadata": {},
   "outputs": [
    {
     "name": "stdout",
     "output_type": "stream",
     "text": [
      "[########################################] | 100% Completed |  1min 46.6s\n",
      "[########################################] | 100% Completed |  1min 46.7s\n",
      "[########################################] | 100% Completed |  1min 46.8s\n"
     ]
    }
   ],
   "source": [
    "# read all the data into one dataframe\n",
    "# NOTE: assumes aws credentials are stored as env vars or in ~/.aws/credentials\n",
    "# TODO: move to reading from Ceph after slow read blocker is removed\n",
    "DATA_ROOT_DIR = '/home/kachauha/Downloads/'\n",
    "df4 = dd.read_parquet(os.path.join(DATA_ROOT_DIR, 'data_Q4_2018_parquet'), engine='pyarrow', index=False)\n",
    "df3 = dd.read_parquet(os.path.join(DATA_ROOT_DIR, 'data_Q3_2018_parquet'), engine='pyarrow', index=False)\n",
    "df2 = dd.read_parquet(os.path.join(DATA_ROOT_DIR, 'data_Q2_2018_parquet'), engine='pyarrow', index=False)\n",
    "df1 = dd.read_parquet(os.path.join(DATA_ROOT_DIR, 'data_Q1_2018_parquet'), engine='pyarrow', index=False)\n",
    "df = dd.concat(dfs=[df1, df2, df3, df4], interleave_partitions=True)\n",
    "\n",
    "# extract only seagate\n",
    "seagate_df = utils.optimal_repartition_df(df[df['model'].str.startswith('S')])"
   ]
  },
  {
   "cell_type": "code",
   "execution_count": 11,
   "metadata": {},
   "outputs": [],
   "source": [
    "# define thresholds as timedelta\n",
    "BAD_THRESHOLD_NDAYS = np.timedelta64(14, 'D')\n",
    "WARNING_THRESHOLD_NDAYS = np.timedelta64(42, 'D')"
   ]
  },
  {
   "cell_type": "code",
   "execution_count": 12,
   "metadata": {},
   "outputs": [
    {
     "name": "stdout",
     "output_type": "stream",
     "text": [
      "[########################################] | 100% Completed | 47.6s\n",
      "[########################################] | 100% Completed | 47.6s\n",
      "[########################################] | 100% Completed | 47.7s\n"
     ]
    }
   ],
   "source": [
    "# get the serial numbers for all the failed hard drives\n",
    "failed_serials = df[df['failure']==1]['serial_number'].compute()\n",
    "working_serials = df[~df['serial_number'].isin(failed_serials)]['serial_number'].unique().compute()\n",
    "# # failed drives data. how many rows of failed data\n",
    "# failed_df = df[df['serial_number'].isin(failed_serials)]\n",
    "# dd.compute(failed_df.shape)"
   ]
  },
  {
   "cell_type": "code",
   "execution_count": 9,
   "metadata": {},
   "outputs": [],
   "source": [
    "# convert from str to datetime\n",
    "df['date'] = df['date'].astype('datetime64')\n",
    "\n",
    "# =============================== FOR DASK =============================== #\n",
    "# create meta of the resulting failed_df otherwise dask complains\n",
    "rul_meta = df._meta\n",
    "rul_meta = rul_meta.assign(rul_days=rul_meta['date'].max()-rul_meta['date'])\n",
    "# ======================================================================== #\n",
    "\n",
    "# get remaining useful life as diff(today, maxday)\n",
    "# reset index coz result is multiindexed. drop=True coz serial_number already exists as a col\n",
    "df = df.groupby('serial_number').apply(utils.append_rul_days_column, meta=rul_meta).reset_index(drop=True)"
   ]
  },
  {
   "cell_type": "code",
   "execution_count": 10,
   "metadata": {},
   "outputs": [
    {
     "name": "stdout",
     "output_type": "stream",
     "text": [
      "[########################################] | 100% Completed | 44.2s\n"
     ]
    },
    {
     "data": {
      "text/html": [
       "<div>\n",
       "<style scoped>\n",
       "    .dataframe tbody tr th:only-of-type {\n",
       "        vertical-align: middle;\n",
       "    }\n",
       "\n",
       "    .dataframe tbody tr th {\n",
       "        vertical-align: top;\n",
       "    }\n",
       "\n",
       "    .dataframe thead th {\n",
       "        text-align: right;\n",
       "    }\n",
       "</style>\n",
       "<table border=\"1\" class=\"dataframe\">\n",
       "  <thead>\n",
       "    <tr style=\"text-align: right;\">\n",
       "      <th></th>\n",
       "      <th>date</th>\n",
       "      <th>serial_number</th>\n",
       "      <th>capacity_bytes</th>\n",
       "      <th>failure</th>\n",
       "      <th>smart_1_raw</th>\n",
       "      <th>smart_5_raw</th>\n",
       "      <th>smart_7_raw</th>\n",
       "      <th>smart_9_raw</th>\n",
       "      <th>smart_10_raw</th>\n",
       "      <th>smart_184_raw</th>\n",
       "      <th>...</th>\n",
       "      <th>smart_189_normalized</th>\n",
       "      <th>smart_190_normalized</th>\n",
       "      <th>smart_193_normalized</th>\n",
       "      <th>smart_194_normalized</th>\n",
       "      <th>smart_197_normalized</th>\n",
       "      <th>smart_198_normalized</th>\n",
       "      <th>smart_240_normalized</th>\n",
       "      <th>smart_241_normalized</th>\n",
       "      <th>smart_242_normalized</th>\n",
       "      <th>rul_days</th>\n",
       "    </tr>\n",
       "  </thead>\n",
       "  <tbody>\n",
       "    <tr>\n",
       "      <th>0</th>\n",
       "      <td>2018-07-05</td>\n",
       "      <td>6VDHZLVX</td>\n",
       "      <td>3.200729e+11</td>\n",
       "      <td>0.0</td>\n",
       "      <td>230008832.0</td>\n",
       "      <td>0.0</td>\n",
       "      <td>379141760.0</td>\n",
       "      <td>39351.0</td>\n",
       "      <td>0.0</td>\n",
       "      <td>0.0</td>\n",
       "      <td>...</td>\n",
       "      <td>100.0</td>\n",
       "      <td>71.0</td>\n",
       "      <td>1.0</td>\n",
       "      <td>29.0</td>\n",
       "      <td>100.0</td>\n",
       "      <td>100.0</td>\n",
       "      <td>-100.0</td>\n",
       "      <td>-100.0</td>\n",
       "      <td>-100.0</td>\n",
       "      <td>86 days</td>\n",
       "    </tr>\n",
       "    <tr>\n",
       "      <th>1</th>\n",
       "      <td>2018-07-06</td>\n",
       "      <td>6VDHZLVX</td>\n",
       "      <td>3.200729e+11</td>\n",
       "      <td>0.0</td>\n",
       "      <td>41241224.0</td>\n",
       "      <td>0.0</td>\n",
       "      <td>379282016.0</td>\n",
       "      <td>39376.0</td>\n",
       "      <td>0.0</td>\n",
       "      <td>0.0</td>\n",
       "      <td>...</td>\n",
       "      <td>100.0</td>\n",
       "      <td>72.0</td>\n",
       "      <td>1.0</td>\n",
       "      <td>28.0</td>\n",
       "      <td>100.0</td>\n",
       "      <td>100.0</td>\n",
       "      <td>-100.0</td>\n",
       "      <td>-100.0</td>\n",
       "      <td>-100.0</td>\n",
       "      <td>85 days</td>\n",
       "    </tr>\n",
       "    <tr>\n",
       "      <th>2</th>\n",
       "      <td>2018-07-07</td>\n",
       "      <td>6VDHZLVX</td>\n",
       "      <td>3.200729e+11</td>\n",
       "      <td>0.0</td>\n",
       "      <td>96913096.0</td>\n",
       "      <td>0.0</td>\n",
       "      <td>379423968.0</td>\n",
       "      <td>39401.0</td>\n",
       "      <td>0.0</td>\n",
       "      <td>0.0</td>\n",
       "      <td>...</td>\n",
       "      <td>100.0</td>\n",
       "      <td>72.0</td>\n",
       "      <td>1.0</td>\n",
       "      <td>28.0</td>\n",
       "      <td>100.0</td>\n",
       "      <td>100.0</td>\n",
       "      <td>-100.0</td>\n",
       "      <td>-100.0</td>\n",
       "      <td>-100.0</td>\n",
       "      <td>84 days</td>\n",
       "    </tr>\n",
       "    <tr>\n",
       "      <th>3</th>\n",
       "      <td>2018-07-08</td>\n",
       "      <td>6VDHZLVX</td>\n",
       "      <td>3.200729e+11</td>\n",
       "      <td>0.0</td>\n",
       "      <td>152480320.0</td>\n",
       "      <td>0.0</td>\n",
       "      <td>379562496.0</td>\n",
       "      <td>39425.0</td>\n",
       "      <td>0.0</td>\n",
       "      <td>0.0</td>\n",
       "      <td>...</td>\n",
       "      <td>100.0</td>\n",
       "      <td>72.0</td>\n",
       "      <td>1.0</td>\n",
       "      <td>28.0</td>\n",
       "      <td>100.0</td>\n",
       "      <td>100.0</td>\n",
       "      <td>-100.0</td>\n",
       "      <td>-100.0</td>\n",
       "      <td>-100.0</td>\n",
       "      <td>83 days</td>\n",
       "    </tr>\n",
       "    <tr>\n",
       "      <th>4</th>\n",
       "      <td>2018-07-01</td>\n",
       "      <td>6VDHZLVX</td>\n",
       "      <td>3.200729e+11</td>\n",
       "      <td>0.0</td>\n",
       "      <td>6682081.0</td>\n",
       "      <td>0.0</td>\n",
       "      <td>378571296.0</td>\n",
       "      <td>39254.0</td>\n",
       "      <td>0.0</td>\n",
       "      <td>0.0</td>\n",
       "      <td>...</td>\n",
       "      <td>100.0</td>\n",
       "      <td>71.0</td>\n",
       "      <td>1.0</td>\n",
       "      <td>29.0</td>\n",
       "      <td>100.0</td>\n",
       "      <td>100.0</td>\n",
       "      <td>-100.0</td>\n",
       "      <td>-100.0</td>\n",
       "      <td>-100.0</td>\n",
       "      <td>90 days</td>\n",
       "    </tr>\n",
       "  </tbody>\n",
       "</table>\n",
       "<p>5 rows × 39 columns</p>\n",
       "</div>"
      ],
      "text/plain": [
       "        date serial_number  capacity_bytes  failure  smart_1_raw  smart_5_raw  \\\n",
       "0 2018-07-05      6VDHZLVX    3.200729e+11      0.0  230008832.0          0.0   \n",
       "1 2018-07-06      6VDHZLVX    3.200729e+11      0.0   41241224.0          0.0   \n",
       "2 2018-07-07      6VDHZLVX    3.200729e+11      0.0   96913096.0          0.0   \n",
       "3 2018-07-08      6VDHZLVX    3.200729e+11      0.0  152480320.0          0.0   \n",
       "4 2018-07-01      6VDHZLVX    3.200729e+11      0.0    6682081.0          0.0   \n",
       "\n",
       "   smart_7_raw  smart_9_raw  smart_10_raw  smart_184_raw  ...  \\\n",
       "0  379141760.0      39351.0           0.0            0.0  ...   \n",
       "1  379282016.0      39376.0           0.0            0.0  ...   \n",
       "2  379423968.0      39401.0           0.0            0.0  ...   \n",
       "3  379562496.0      39425.0           0.0            0.0  ...   \n",
       "4  378571296.0      39254.0           0.0            0.0  ...   \n",
       "\n",
       "   smart_189_normalized  smart_190_normalized  smart_193_normalized  \\\n",
       "0                 100.0                  71.0                   1.0   \n",
       "1                 100.0                  72.0                   1.0   \n",
       "2                 100.0                  72.0                   1.0   \n",
       "3                 100.0                  72.0                   1.0   \n",
       "4                 100.0                  71.0                   1.0   \n",
       "\n",
       "   smart_194_normalized  smart_197_normalized  smart_198_normalized  \\\n",
       "0                  29.0                 100.0                 100.0   \n",
       "1                  28.0                 100.0                 100.0   \n",
       "2                  28.0                 100.0                 100.0   \n",
       "3                  28.0                 100.0                 100.0   \n",
       "4                  29.0                 100.0                 100.0   \n",
       "\n",
       "   smart_240_normalized  smart_241_normalized  smart_242_normalized  rul_days  \n",
       "0                -100.0                -100.0                -100.0   86 days  \n",
       "1                -100.0                -100.0                -100.0   85 days  \n",
       "2                -100.0                -100.0                -100.0   84 days  \n",
       "3                -100.0                -100.0                -100.0   83 days  \n",
       "4                -100.0                -100.0                -100.0   90 days  \n",
       "\n",
       "[5 rows x 39 columns]"
      ]
     },
     "execution_count": 10,
     "metadata": {},
     "output_type": "execute_result"
    }
   ],
   "source": [
    "df.head()"
   ]
  },
  {
   "cell_type": "code",
   "execution_count": 11,
   "metadata": {},
   "outputs": [
    {
     "name": "stdout",
     "output_type": "stream",
     "text": [
      "[########################################] | 100% Completed |  3min 27.8s\n"
     ]
    }
   ],
   "source": [
    "# for testing, keep only the drives which either failed or \"working but had rul value at least >6weeks\"\n",
    "# NOTE: rul is meaningless for working drives. it's just used as a tool\n",
    "test_sers = df[(df['serial_number'].isin(failed_serials)) | (df['rul_days']>=WARNING_THRESHOLD_NDAYS)]['serial_number'].unique().compute()\n",
    "test_sers.to_csv('test_drive_serials.csv')"
   ]
  },
  {
   "cell_type": "code",
   "execution_count": 9,
   "metadata": {},
   "outputs": [
    {
     "name": "stdout",
     "output_type": "stream",
     "text": [
      "[########################################] | 100% Completed | 27.4s\n"
     ]
    },
    {
     "data": {
      "text/plain": [
       "(168,)"
      ]
     },
     "execution_count": 9,
     "metadata": {},
     "output_type": "execute_result"
    }
   ],
   "source": [
    "# how are failures spread out across dates\n",
    "fail_date_ct = failed_df[failed_df['failure']==1]['date'].value_counts().compute()\n",
    "fail_date_ct.shape"
   ]
  },
  {
   "cell_type": "code",
   "execution_count": 16,
   "metadata": {},
   "outputs": [
    {
     "data": {
      "text/plain": [
       "2018-12-10    13\n",
       "2018-07-26    11\n",
       "2018-12-07    10\n",
       "2018-07-13     9\n",
       "2018-11-19     9\n",
       "2018-12-17     8\n",
       "2018-11-26     8\n",
       "2018-11-05     8\n",
       "2018-08-03     8\n",
       "2018-08-06     8\n",
       "2018-07-07     8\n",
       "2018-08-13     8\n",
       "2018-12-22     8\n",
       "2018-08-20     7\n",
       "2018-12-19     7\n",
       "Name: date, dtype: int64"
      ]
     },
     "execution_count": 16,
     "metadata": {},
     "output_type": "execute_result"
    }
   ],
   "source": [
    "fail_date_ct.sort_values(ascending=False).head(15)"
   ]
  },
  {
   "cell_type": "code",
   "execution_count": 14,
   "metadata": {
    "collapsed": true,
    "jupyter": {
     "outputs_hidden": true
    }
   },
   "outputs": [
    {
     "name": "stdout",
     "output_type": "stream",
     "text": [
      "[####                                    ] | 11% Completed |  4.2s\n"
     ]
    },
    {
     "ename": "KeyboardInterrupt",
     "evalue": "",
     "output_type": "error",
     "traceback": [
      "\u001b[0;31m---------------------------------------------------------------------------\u001b[0m",
      "\u001b[0;31mKeyboardInterrupt\u001b[0m                         Traceback (most recent call last)",
      "\u001b[0;32m<ipython-input-14-fc6497e67e16>\u001b[0m in \u001b[0;36m<module>\u001b[0;34m\u001b[0m\n\u001b[1;32m      3\u001b[0m \u001b[0;34m\u001b[0m\u001b[0m\n\u001b[1;32m      4\u001b[0m \u001b[0;31m# drives that failed on fail date\u001b[0m\u001b[0;34m\u001b[0m\u001b[0;34m\u001b[0m\u001b[0;34m\u001b[0m\u001b[0m\n\u001b[0;32m----> 5\u001b[0;31m \u001b[0mfail_date_sers\u001b[0m \u001b[0;34m=\u001b[0m \u001b[0mfailed_df\u001b[0m\u001b[0;34m[\u001b[0m\u001b[0;34m(\u001b[0m\u001b[0mfailed_df\u001b[0m\u001b[0;34m[\u001b[0m\u001b[0;34m'date'\u001b[0m\u001b[0;34m]\u001b[0m\u001b[0;34m==\u001b[0m\u001b[0mFAIL_DATE\u001b[0m\u001b[0;34m)\u001b[0m \u001b[0;34m&\u001b[0m \u001b[0;34m(\u001b[0m\u001b[0mfailed_df\u001b[0m\u001b[0;34m[\u001b[0m\u001b[0;34m'failure'\u001b[0m\u001b[0;34m]\u001b[0m\u001b[0;34m==\u001b[0m\u001b[0;36m1\u001b[0m\u001b[0;34m)\u001b[0m\u001b[0;34m]\u001b[0m\u001b[0;34m[\u001b[0m\u001b[0;34m'serial_number'\u001b[0m\u001b[0;34m]\u001b[0m\u001b[0;34m.\u001b[0m\u001b[0mcompute\u001b[0m\u001b[0;34m(\u001b[0m\u001b[0;34m)\u001b[0m\u001b[0;34m\u001b[0m\u001b[0;34m\u001b[0m\u001b[0m\n\u001b[0m\u001b[1;32m      6\u001b[0m \u001b[0;34m\u001b[0m\u001b[0m\n\u001b[1;32m      7\u001b[0m \u001b[0;31m# lenght of life of drives rthat filaed on fail date\u001b[0m\u001b[0;34m\u001b[0m\u001b[0;34m\u001b[0m\u001b[0;34m\u001b[0m\u001b[0m\n",
      "\u001b[0;32m~/.local/share/virtualenvs/ceph_drive_failure-3-2yJKyM/lib/python3.7/site-packages/dask/base.py\u001b[0m in \u001b[0;36mcompute\u001b[0;34m(self, **kwargs)\u001b[0m\n\u001b[1;32m    173\u001b[0m         \u001b[0mdask\u001b[0m\u001b[0;34m.\u001b[0m\u001b[0mbase\u001b[0m\u001b[0;34m.\u001b[0m\u001b[0mcompute\u001b[0m\u001b[0;34m\u001b[0m\u001b[0;34m\u001b[0m\u001b[0m\n\u001b[1;32m    174\u001b[0m         \"\"\"\n\u001b[0;32m--> 175\u001b[0;31m         \u001b[0;34m(\u001b[0m\u001b[0mresult\u001b[0m\u001b[0;34m,\u001b[0m\u001b[0;34m)\u001b[0m \u001b[0;34m=\u001b[0m \u001b[0mcompute\u001b[0m\u001b[0;34m(\u001b[0m\u001b[0mself\u001b[0m\u001b[0;34m,\u001b[0m \u001b[0mtraverse\u001b[0m\u001b[0;34m=\u001b[0m\u001b[0;32mFalse\u001b[0m\u001b[0;34m,\u001b[0m \u001b[0;34m**\u001b[0m\u001b[0mkwargs\u001b[0m\u001b[0;34m)\u001b[0m\u001b[0;34m\u001b[0m\u001b[0;34m\u001b[0m\u001b[0m\n\u001b[0m\u001b[1;32m    176\u001b[0m         \u001b[0;32mreturn\u001b[0m \u001b[0mresult\u001b[0m\u001b[0;34m\u001b[0m\u001b[0;34m\u001b[0m\u001b[0m\n\u001b[1;32m    177\u001b[0m \u001b[0;34m\u001b[0m\u001b[0m\n",
      "\u001b[0;32m~/.local/share/virtualenvs/ceph_drive_failure-3-2yJKyM/lib/python3.7/site-packages/dask/base.py\u001b[0m in \u001b[0;36mcompute\u001b[0;34m(*args, **kwargs)\u001b[0m\n\u001b[1;32m    444\u001b[0m     \u001b[0mkeys\u001b[0m \u001b[0;34m=\u001b[0m \u001b[0;34m[\u001b[0m\u001b[0mx\u001b[0m\u001b[0;34m.\u001b[0m\u001b[0m__dask_keys__\u001b[0m\u001b[0;34m(\u001b[0m\u001b[0;34m)\u001b[0m \u001b[0;32mfor\u001b[0m \u001b[0mx\u001b[0m \u001b[0;32min\u001b[0m \u001b[0mcollections\u001b[0m\u001b[0;34m]\u001b[0m\u001b[0;34m\u001b[0m\u001b[0;34m\u001b[0m\u001b[0m\n\u001b[1;32m    445\u001b[0m     \u001b[0mpostcomputes\u001b[0m \u001b[0;34m=\u001b[0m \u001b[0;34m[\u001b[0m\u001b[0mx\u001b[0m\u001b[0;34m.\u001b[0m\u001b[0m__dask_postcompute__\u001b[0m\u001b[0;34m(\u001b[0m\u001b[0;34m)\u001b[0m \u001b[0;32mfor\u001b[0m \u001b[0mx\u001b[0m \u001b[0;32min\u001b[0m \u001b[0mcollections\u001b[0m\u001b[0;34m]\u001b[0m\u001b[0;34m\u001b[0m\u001b[0;34m\u001b[0m\u001b[0m\n\u001b[0;32m--> 446\u001b[0;31m     \u001b[0mresults\u001b[0m \u001b[0;34m=\u001b[0m \u001b[0mschedule\u001b[0m\u001b[0;34m(\u001b[0m\u001b[0mdsk\u001b[0m\u001b[0;34m,\u001b[0m \u001b[0mkeys\u001b[0m\u001b[0;34m,\u001b[0m \u001b[0;34m**\u001b[0m\u001b[0mkwargs\u001b[0m\u001b[0;34m)\u001b[0m\u001b[0;34m\u001b[0m\u001b[0;34m\u001b[0m\u001b[0m\n\u001b[0m\u001b[1;32m    447\u001b[0m     \u001b[0;32mreturn\u001b[0m \u001b[0mrepack\u001b[0m\u001b[0;34m(\u001b[0m\u001b[0;34m[\u001b[0m\u001b[0mf\u001b[0m\u001b[0;34m(\u001b[0m\u001b[0mr\u001b[0m\u001b[0;34m,\u001b[0m \u001b[0;34m*\u001b[0m\u001b[0ma\u001b[0m\u001b[0;34m)\u001b[0m \u001b[0;32mfor\u001b[0m \u001b[0mr\u001b[0m\u001b[0;34m,\u001b[0m \u001b[0;34m(\u001b[0m\u001b[0mf\u001b[0m\u001b[0;34m,\u001b[0m \u001b[0ma\u001b[0m\u001b[0;34m)\u001b[0m \u001b[0;32min\u001b[0m \u001b[0mzip\u001b[0m\u001b[0;34m(\u001b[0m\u001b[0mresults\u001b[0m\u001b[0;34m,\u001b[0m \u001b[0mpostcomputes\u001b[0m\u001b[0;34m)\u001b[0m\u001b[0;34m]\u001b[0m\u001b[0;34m)\u001b[0m\u001b[0;34m\u001b[0m\u001b[0;34m\u001b[0m\u001b[0m\n\u001b[1;32m    448\u001b[0m \u001b[0;34m\u001b[0m\u001b[0m\n",
      "\u001b[0;32m~/.local/share/virtualenvs/ceph_drive_failure-3-2yJKyM/lib/python3.7/site-packages/dask/threaded.py\u001b[0m in \u001b[0;36mget\u001b[0;34m(dsk, result, cache, num_workers, pool, **kwargs)\u001b[0m\n\u001b[1;32m     80\u001b[0m         \u001b[0mget_id\u001b[0m\u001b[0;34m=\u001b[0m\u001b[0m_thread_get_id\u001b[0m\u001b[0;34m,\u001b[0m\u001b[0;34m\u001b[0m\u001b[0;34m\u001b[0m\u001b[0m\n\u001b[1;32m     81\u001b[0m         \u001b[0mpack_exception\u001b[0m\u001b[0;34m=\u001b[0m\u001b[0mpack_exception\u001b[0m\u001b[0;34m,\u001b[0m\u001b[0;34m\u001b[0m\u001b[0;34m\u001b[0m\u001b[0m\n\u001b[0;32m---> 82\u001b[0;31m         \u001b[0;34m**\u001b[0m\u001b[0mkwargs\u001b[0m\u001b[0;34m\u001b[0m\u001b[0;34m\u001b[0m\u001b[0m\n\u001b[0m\u001b[1;32m     83\u001b[0m     )\n\u001b[1;32m     84\u001b[0m \u001b[0;34m\u001b[0m\u001b[0m\n",
      "\u001b[0;32m~/.local/share/virtualenvs/ceph_drive_failure-3-2yJKyM/lib/python3.7/site-packages/dask/local.py\u001b[0m in \u001b[0;36mget_async\u001b[0;34m(apply_async, num_workers, dsk, result, cache, get_id, rerun_exceptions_locally, pack_exception, raise_exception, callbacks, dumps, loads, **kwargs)\u001b[0m\n\u001b[1;32m    478\u001b[0m             \u001b[0;31m# Main loop, wait on tasks to finish, insert new ones\u001b[0m\u001b[0;34m\u001b[0m\u001b[0;34m\u001b[0m\u001b[0;34m\u001b[0m\u001b[0m\n\u001b[1;32m    479\u001b[0m             \u001b[0;32mwhile\u001b[0m \u001b[0mstate\u001b[0m\u001b[0;34m[\u001b[0m\u001b[0;34m\"waiting\"\u001b[0m\u001b[0;34m]\u001b[0m \u001b[0;32mor\u001b[0m \u001b[0mstate\u001b[0m\u001b[0;34m[\u001b[0m\u001b[0;34m\"ready\"\u001b[0m\u001b[0;34m]\u001b[0m \u001b[0;32mor\u001b[0m \u001b[0mstate\u001b[0m\u001b[0;34m[\u001b[0m\u001b[0;34m\"running\"\u001b[0m\u001b[0;34m]\u001b[0m\u001b[0;34m:\u001b[0m\u001b[0;34m\u001b[0m\u001b[0;34m\u001b[0m\u001b[0m\n\u001b[0;32m--> 480\u001b[0;31m                 \u001b[0mkey\u001b[0m\u001b[0;34m,\u001b[0m \u001b[0mres_info\u001b[0m\u001b[0;34m,\u001b[0m \u001b[0mfailed\u001b[0m \u001b[0;34m=\u001b[0m \u001b[0mqueue_get\u001b[0m\u001b[0;34m(\u001b[0m\u001b[0mqueue\u001b[0m\u001b[0;34m)\u001b[0m\u001b[0;34m\u001b[0m\u001b[0;34m\u001b[0m\u001b[0m\n\u001b[0m\u001b[1;32m    481\u001b[0m                 \u001b[0;32mif\u001b[0m \u001b[0mfailed\u001b[0m\u001b[0;34m:\u001b[0m\u001b[0;34m\u001b[0m\u001b[0;34m\u001b[0m\u001b[0m\n\u001b[1;32m    482\u001b[0m                     \u001b[0mexc\u001b[0m\u001b[0;34m,\u001b[0m \u001b[0mtb\u001b[0m \u001b[0;34m=\u001b[0m \u001b[0mloads\u001b[0m\u001b[0;34m(\u001b[0m\u001b[0mres_info\u001b[0m\u001b[0;34m)\u001b[0m\u001b[0;34m\u001b[0m\u001b[0;34m\u001b[0m\u001b[0m\n",
      "\u001b[0;32m~/.local/share/virtualenvs/ceph_drive_failure-3-2yJKyM/lib/python3.7/site-packages/dask/local.py\u001b[0m in \u001b[0;36mqueue_get\u001b[0;34m(q)\u001b[0m\n\u001b[1;32m    142\u001b[0m \u001b[0;34m\u001b[0m\u001b[0m\n\u001b[1;32m    143\u001b[0m     \u001b[0;32mdef\u001b[0m \u001b[0mqueue_get\u001b[0m\u001b[0;34m(\u001b[0m\u001b[0mq\u001b[0m\u001b[0;34m)\u001b[0m\u001b[0;34m:\u001b[0m\u001b[0;34m\u001b[0m\u001b[0;34m\u001b[0m\u001b[0m\n\u001b[0;32m--> 144\u001b[0;31m         \u001b[0;32mreturn\u001b[0m \u001b[0mq\u001b[0m\u001b[0;34m.\u001b[0m\u001b[0mget\u001b[0m\u001b[0;34m(\u001b[0m\u001b[0;34m)\u001b[0m\u001b[0;34m\u001b[0m\u001b[0;34m\u001b[0m\u001b[0m\n\u001b[0m\u001b[1;32m    145\u001b[0m \u001b[0;34m\u001b[0m\u001b[0m\n\u001b[1;32m    146\u001b[0m \u001b[0;34m\u001b[0m\u001b[0m\n",
      "\u001b[0;32m/usr/lib64/python3.7/queue.py\u001b[0m in \u001b[0;36mget\u001b[0;34m(self, block, timeout)\u001b[0m\n\u001b[1;32m    168\u001b[0m             \u001b[0;32melif\u001b[0m \u001b[0mtimeout\u001b[0m \u001b[0;32mis\u001b[0m \u001b[0;32mNone\u001b[0m\u001b[0;34m:\u001b[0m\u001b[0;34m\u001b[0m\u001b[0;34m\u001b[0m\u001b[0m\n\u001b[1;32m    169\u001b[0m                 \u001b[0;32mwhile\u001b[0m \u001b[0;32mnot\u001b[0m \u001b[0mself\u001b[0m\u001b[0;34m.\u001b[0m\u001b[0m_qsize\u001b[0m\u001b[0;34m(\u001b[0m\u001b[0;34m)\u001b[0m\u001b[0;34m:\u001b[0m\u001b[0;34m\u001b[0m\u001b[0;34m\u001b[0m\u001b[0m\n\u001b[0;32m--> 170\u001b[0;31m                     \u001b[0mself\u001b[0m\u001b[0;34m.\u001b[0m\u001b[0mnot_empty\u001b[0m\u001b[0;34m.\u001b[0m\u001b[0mwait\u001b[0m\u001b[0;34m(\u001b[0m\u001b[0;34m)\u001b[0m\u001b[0;34m\u001b[0m\u001b[0;34m\u001b[0m\u001b[0m\n\u001b[0m\u001b[1;32m    171\u001b[0m             \u001b[0;32melif\u001b[0m \u001b[0mtimeout\u001b[0m \u001b[0;34m<\u001b[0m \u001b[0;36m0\u001b[0m\u001b[0;34m:\u001b[0m\u001b[0;34m\u001b[0m\u001b[0;34m\u001b[0m\u001b[0m\n\u001b[1;32m    172\u001b[0m                 \u001b[0;32mraise\u001b[0m \u001b[0mValueError\u001b[0m\u001b[0;34m(\u001b[0m\u001b[0;34m\"'timeout' must be a non-negative number\"\u001b[0m\u001b[0;34m)\u001b[0m\u001b[0;34m\u001b[0m\u001b[0;34m\u001b[0m\u001b[0m\n",
      "\u001b[0;32m/usr/lib64/python3.7/threading.py\u001b[0m in \u001b[0;36mwait\u001b[0;34m(self, timeout)\u001b[0m\n\u001b[1;32m    294\u001b[0m         \u001b[0;32mtry\u001b[0m\u001b[0;34m:\u001b[0m    \u001b[0;31m# restore state no matter what (e.g., KeyboardInterrupt)\u001b[0m\u001b[0;34m\u001b[0m\u001b[0;34m\u001b[0m\u001b[0m\n\u001b[1;32m    295\u001b[0m             \u001b[0;32mif\u001b[0m \u001b[0mtimeout\u001b[0m \u001b[0;32mis\u001b[0m \u001b[0;32mNone\u001b[0m\u001b[0;34m:\u001b[0m\u001b[0;34m\u001b[0m\u001b[0;34m\u001b[0m\u001b[0m\n\u001b[0;32m--> 296\u001b[0;31m                 \u001b[0mwaiter\u001b[0m\u001b[0;34m.\u001b[0m\u001b[0macquire\u001b[0m\u001b[0;34m(\u001b[0m\u001b[0;34m)\u001b[0m\u001b[0;34m\u001b[0m\u001b[0;34m\u001b[0m\u001b[0m\n\u001b[0m\u001b[1;32m    297\u001b[0m                 \u001b[0mgotit\u001b[0m \u001b[0;34m=\u001b[0m \u001b[0;32mTrue\u001b[0m\u001b[0;34m\u001b[0m\u001b[0;34m\u001b[0m\u001b[0m\n\u001b[1;32m    298\u001b[0m             \u001b[0;32melse\u001b[0m\u001b[0;34m:\u001b[0m\u001b[0;34m\u001b[0m\u001b[0;34m\u001b[0m\u001b[0m\n",
      "\u001b[0;31mKeyboardInterrupt\u001b[0m: "
     ]
    }
   ],
   "source": [
    "# select a day on which considerable number of failures occured\n",
    "FAIL_DATE = '2018-11-05'\n",
    "\n",
    "# drives that failed on fail date\n",
    "fail_date_sers = failed_df[(failed_df['date']==FAIL_DATE) & (failed_df['failure']==1)]['serial_number'].compute()\n",
    "\n",
    "# lenght of life of drives rthat filaed on fail date\n",
    "g = failed_df[failed_df['serial_number'].isin(fail_date_sers)][['serial_number', 'date']].groupby('serial_number')\n",
    "g.size().compute()"
   ]
  },
  {
   "cell_type": "code",
   "execution_count": 8,
   "metadata": {},
   "outputs": [
    {
     "name": "stdout",
     "output_type": "stream",
     "text": [
      "[########################################] | 100% Completed | 14.2s\n"
     ]
    },
    {
     "data": {
      "text/plain": [
       "0    Z305B2QN\n",
       "1    ZJV0XJQ4\n",
       "2    ZJV0XJQ0\n",
       "3    ZA16NQJR\n",
       "4    ZJV02XWG\n",
       "Name: serial_number, dtype: object"
      ]
     },
     "execution_count": 8,
     "metadata": {},
     "output_type": "execute_result"
    }
   ],
   "source": [
    "# drives that have not failed  a of quarter end, and also whose serial beings with 'Z' (so that we choose drives of similar hd model types)\n",
    "working_sers = df[(df['date']==FAIL_DATE) \\\n",
    "                  & ~df['serial_number'].isin(failed_serials) \\\n",
    "                  & (df['serial_number'].str.startswith('Z'))]\\\n",
    "                ['serial_number']\n",
    "working_sers = working_sers.compute()\n",
    "working_sers.head()"
   ]
  },
  {
   "cell_type": "code",
   "execution_count": 52,
   "metadata": {},
   "outputs": [
    {
     "name": "stdout",
     "output_type": "stream",
     "text": [
      "[########################################] | 100% Completed | 55.4s\n",
      "[########################################] | 100% Completed | 55.5s\n",
      "[########################################] | 100% Completed | 55.5s\n"
     ]
    },
    {
     "data": {
      "text/plain": [
       "Timestamp('2018-12-31 00:00:00')"
      ]
     },
     "execution_count": 52,
     "metadata": {},
     "output_type": "execute_result"
    }
   ],
   "source": [
    "df[df['serial_number']=='Z305B2QN']['date'].max().compute()"
   ]
  },
  {
   "cell_type": "code",
   "execution_count": 13,
   "metadata": {},
   "outputs": [],
   "source": [
    "# save susbet for failed drives\n",
    "fail_test_df = utils.get_drive_data_from_json(fnames=glob.glob('smart_data_data_Q4_2018_2018-11-*.json'), serial_numbers=fail_date_sers)\n",
    "fail_test_df.to_json('fail_test.json', orient='records', lines=True)"
   ]
  },
  {
   "cell_type": "code",
   "execution_count": 9,
   "metadata": {},
   "outputs": [],
   "source": [
    "# save susbet for failed drives\n",
    "working_test_df = utils.get_drive_data_from_json(fnames=glob.glob('smart_data_data_Q4_2018_2018-11-*.json'), serial_numbers=working_sers.sample(n=10))\n",
    "working_test_df.to_json('working_test.json', orient='records', lines=True)"
   ]
  },
  {
   "cell_type": "markdown",
   "metadata": {},
   "source": [
    "# Get inference data\n",
    "This is the format of the current setup on ceph upstream. So get a tiny subsample from the dataset into this format"
   ]
  },
  {
   "cell_type": "markdown",
   "metadata": {},
   "source": [
    "### Drivewise Data\n",
    "Instead of jsons being datewise, we need them drivewise. Then n(=6) day window worth of data can be extracted in a sliding way"
   ]
  },
  {
   "cell_type": "code",
   "execution_count": 42,
   "metadata": {},
   "outputs": [
    {
     "data": {
      "text/plain": [
       "(array([736695., 736754., 736815., 736876., 736938., 736999., 737060.]),\n",
       " <a list of 7 Text xticklabel objects>)"
      ]
     },
     "execution_count": 42,
     "metadata": {},
     "output_type": "execute_result"
    },
    {
     "data": {
      "image/png": "[encoded data removed]",
      "text/plain": [
       "<Figure size 432x288 with 1 Axes>"
      ]
     },
     "metadata": {},
     "output_type": "display_data"
    }
   ],
   "source": [
    "fail_dates = df[df['failure']==1]['date'].compute().astype(np.datetime64)\n",
    "plt.hist(fail_dates)\n",
    "plt.xticks(rotation=90)"
   ]
  },
  {
   "cell_type": "markdown",
   "metadata": {},
   "source": [
    "**NOTE** most of the failed drives data comes from quarters 3 and 4. therefore start digging there first"
   ]
  },
  {
   "cell_type": "code",
   "execution_count": 87,
   "metadata": {},
   "outputs": [],
   "source": [
    "# need to subsample otherwise we'l; end up with 125k files\n",
    "failed_serials_sub = failed_serials.sample(n=50)\n",
    "working_serials_sub = working_serials.sample(n=50)"
   ]
  },
  {
   "cell_type": "code",
   "execution_count": 88,
   "metadata": {},
   "outputs": [],
   "source": [
    "# key=serial number, value=(dictionary with key=date, value=(dictioary with key=smartname, value=smartvalue))\n",
    "failed_drive_datas = dict()\n",
    "working_drive_datas = dict()"
   ]
  },
  {
   "cell_type": "code",
   "execution_count": 89,
   "metadata": {},
   "outputs": [],
   "source": [
    "data_dirs = ['smart_data_Q4_2018']\n",
    "for curr_quart_dir in data_dirs:\n",
    "    for json_path in glob.glob(os.path.join(DATA_ROOT_DIR, curr_quart_dir, '*.json')):\n",
    "        # read each file and check for relevant content\n",
    "        with open(json_path) as f:\n",
    "            for line in f.readlines():\n",
    "                # check if this line contains relevant data\n",
    "                useful = False\n",
    "                work_ser = None\n",
    "                fail_ser = None\n",
    "                curr_ser = None\n",
    "                for fail_ser, work_ser in zip(failed_serials_sub, working_serials_sub):\n",
    "                    if fail_ser in line:\n",
    "                        useful = True\n",
    "                        curr_ser = fail_ser\n",
    "                        break\n",
    "                    elif work_ser in line:\n",
    "                        useful = True\n",
    "                        curr_ser = work_ser\n",
    "                        break\n",
    "                        \n",
    "                # add data to appropriate bucket\n",
    "                if useful:\n",
    "                    curr_date = json_path.split('/')[-1].split('.')[0].split('_')[-1]\n",
    "                    # if failed, work will be none. if work, fail will be none\n",
    "                    if fail_ser is not None:\n",
    "                        if curr_ser not in failed_drive_datas:\n",
    "                            failed_drive_datas[curr_ser] = {}\n",
    "                        failed_drive_datas[curr_ser][curr_date] = json.loads(line)['smartctl_json']\n",
    "                    elif work_ser is not None:\n",
    "                        if curr_ser not in working_drive_datas:\n",
    "                            working_drive_datas[curr_ser] = {}\n",
    "                        working_drive_datas[curr_ser][curr_date] = json.loads(line)['smartctl_json']\n",
    "\n",
    "# save the dictionaries for testing later\n",
    "with open('failed_drive_datas.pkl', 'wb') as f:\n",
    "    pickle.dump(failed_drive_datas, f)\n",
    "with open('working_drive_datas.pkl', 'wb') as f:\n",
    "    pickle.dump(working_drive_datas, f)"
   ]
  },
  {
   "cell_type": "code",
   "execution_count": 91,
   "metadata": {},
   "outputs": [
    {
     "data": {
      "text/plain": [
       "dict_keys(['Z305APCP', 'PL1331LAGTTZLH', 'ZA14BGPC', 'ZCH0BBX5', 'ZJV0KNST', 'VKGJPN3X', 'Z305F4B5', 'Z302B11W', 'ZA180Z4C', '8HJ9JWTH', 'ZA16LSWP', 'ZJV2EFHJ', 'ZA181GVA', 'ZCH07VQQ', 'ZA13H0MN', 'ZCH09GNA', 'ZCH01MPM', '8HJ9NHXH', 'ZCH0B9N8', 'Z305B6V2', 'ZA219KMM', 'PL2331LAHB31TJ', 'Z304JW0R', 'ZCH0CPFN', 'ZJV056F2', 'ZCH0AF29', 'Z303XYZ1', 'ZCH0D443', 'PL1331LAHD39YH', 'Z302FC6T', 'Z305D5ZT', 'Z304JZGD', 'ZA10BY67', 'ZA12JTDR', 'S300WFKD', 'PL2331LAGN062J', 'S300VLFH', 'ZJV121TA', 'ZJV137XF', 'ZJV0EC7L', 'ZJV04PFD', 'S3010T39', 'PL2331LAH2UZVJ', 'ZA16ASZE', 'PL2331LAGMMARJ', 'ZCH08P7M', 'ZA16SNFJ', 'Z301DBXX', 'ZCH0C660', '57HDTBTFT', 'Z3041NC6', 'Z30149XG', 'Z304JGS4', 'ZCH06ESZ', 'Z300K8TE', 'S3000FZ5', 'ZA14JF8Z', 'S301PS5R', 'S301GRZ4', 'ZCH07GNX', 'Z3041N6P', 'Z304KBS4'])"
      ]
     },
     "execution_count": 91,
     "metadata": {},
     "output_type": "execute_result"
    }
   ],
   "source": [
    "len(failed_drive_datas.keys())\n",
    "failed_drive_datas.keys()"
   ]
  },
  {
   "cell_type": "code",
   "execution_count": null,
   "metadata": {},
   "outputs": [],
   "source": []
  },
  {
   "cell_type": "code",
   "execution_count": null,
   "metadata": {},
   "outputs": [],
   "source": []
  },
  {
   "cell_type": "code",
   "execution_count": 10,
   "metadata": {},
   "outputs": [
    {
     "name": "stdout",
     "output_type": "stream",
     "text": [
      "30\n"
     ]
    }
   ],
   "source": [
    "# number of days of data that ceph upstream predictor reads as of now\n",
    "NUM_DAYS = 6\n",
    "\n",
    "# list of dicts that is passed as of now\n",
    "predict_datas = []\n",
    "\n",
    "# NOTE: this setup is just for testing out the parsing and pipeline of predictipon\n",
    "# in reality, the list would contain data of the same drive from different days but here we have same day different drives\n",
    "# the format is the same though. hence works out for testing purposes\n",
    "# with open('smart_data_data_Q4_2018_2018-11-03.json') as json_file:\n",
    "#     day_idx = 0\n",
    "#     for line in json_file.readlines():\n",
    "#         attr_dict = json.loads(line)['smartctl_json']\n",
    "#         # take only seagate data\n",
    "#         if not attr_dict['model_name'].startswith('S'):\n",
    "#             continue\n",
    "#         predict_datas.append(attr_dict)\n",
    "#         day_idx += 1\n",
    "#         if day_idx == NUM_DAYS:\n",
    "#             break\n",
    "predict_datas = []\n",
    "with open('working_test.json') as json_file:\n",
    "    for line in json_file.readlines():\n",
    "        predict_datas.append(json.loads(line)['smartctl_json'])\n",
    "\n",
    "print(len(predict_datas))\n",
    "# predict_datas[0]"
   ]
  },
  {
   "cell_type": "markdown",
   "metadata": {},
   "source": [
    "# Flatten/Clean data"
   ]
  },
  {
   "cell_type": "code",
   "execution_count": 11,
   "metadata": {},
   "outputs": [
    {
     "data": {
      "text/html": [
       "<div>\n",
       "<style scoped>\n",
       "    .dataframe tbody tr th:only-of-type {\n",
       "        vertical-align: middle;\n",
       "    }\n",
       "\n",
       "    .dataframe tbody tr th {\n",
       "        vertical-align: top;\n",
       "    }\n",
       "\n",
       "    .dataframe thead th {\n",
       "        text-align: right;\n",
       "    }\n",
       "</style>\n",
       "<table border=\"1\" class=\"dataframe\">\n",
       "  <thead>\n",
       "    <tr style=\"text-align: right;\">\n",
       "      <th></th>\n",
       "      <th>model_name</th>\n",
       "      <th>serial_number</th>\n",
       "      <th>model_family</th>\n",
       "      <th>user_capacity</th>\n",
       "      <th>smart_1_raw</th>\n",
       "      <th>smart_1_normalized</th>\n",
       "      <th>smart_3_raw</th>\n",
       "      <th>smart_3_normalized</th>\n",
       "      <th>smart_4_raw</th>\n",
       "      <th>smart_4_normalized</th>\n",
       "      <th>...</th>\n",
       "      <th>smart_198_raw</th>\n",
       "      <th>smart_198_normalized</th>\n",
       "      <th>smart_199_raw</th>\n",
       "      <th>smart_199_normalized</th>\n",
       "      <th>smart_240_raw</th>\n",
       "      <th>smart_240_normalized</th>\n",
       "      <th>smart_241_raw</th>\n",
       "      <th>smart_241_normalized</th>\n",
       "      <th>smart_242_raw</th>\n",
       "      <th>smart_242_normalized</th>\n",
       "    </tr>\n",
       "  </thead>\n",
       "  <tbody>\n",
       "    <tr>\n",
       "      <th>0</th>\n",
       "      <td>ST4000DM000</td>\n",
       "      <td>Z305Q0ML</td>\n",
       "      <td>ST4000DM000</td>\n",
       "      <td>4000787030016</td>\n",
       "      <td>236277024.0</td>\n",
       "      <td>120.0</td>\n",
       "      <td>0.0</td>\n",
       "      <td>91.0</td>\n",
       "      <td>10.0</td>\n",
       "      <td>100.0</td>\n",
       "      <td>...</td>\n",
       "      <td>0.0</td>\n",
       "      <td>100.0</td>\n",
       "      <td>0.0</td>\n",
       "      <td>200.0</td>\n",
       "      <td>23270.0</td>\n",
       "      <td>100.0</td>\n",
       "      <td>3.771288e+10</td>\n",
       "      <td>100.0</td>\n",
       "      <td>1.020387e+11</td>\n",
       "      <td>100.0</td>\n",
       "    </tr>\n",
       "    <tr>\n",
       "      <th>1</th>\n",
       "      <td>ST4000DM000</td>\n",
       "      <td>Z305D56C</td>\n",
       "      <td>ST4000DM000</td>\n",
       "      <td>4000787030016</td>\n",
       "      <td>236277024.0</td>\n",
       "      <td>120.0</td>\n",
       "      <td>0.0</td>\n",
       "      <td>91.0</td>\n",
       "      <td>10.0</td>\n",
       "      <td>100.0</td>\n",
       "      <td>...</td>\n",
       "      <td>0.0</td>\n",
       "      <td>100.0</td>\n",
       "      <td>0.0</td>\n",
       "      <td>200.0</td>\n",
       "      <td>23270.0</td>\n",
       "      <td>100.0</td>\n",
       "      <td>3.771288e+10</td>\n",
       "      <td>100.0</td>\n",
       "      <td>1.020387e+11</td>\n",
       "      <td>100.0</td>\n",
       "    </tr>\n",
       "    <tr>\n",
       "      <th>2</th>\n",
       "      <td>ST6000DX000</td>\n",
       "      <td>Z4D0A04H</td>\n",
       "      <td>ST6000DX000</td>\n",
       "      <td>6001175126016</td>\n",
       "      <td>236277024.0</td>\n",
       "      <td>120.0</td>\n",
       "      <td>0.0</td>\n",
       "      <td>91.0</td>\n",
       "      <td>10.0</td>\n",
       "      <td>100.0</td>\n",
       "      <td>...</td>\n",
       "      <td>0.0</td>\n",
       "      <td>100.0</td>\n",
       "      <td>0.0</td>\n",
       "      <td>200.0</td>\n",
       "      <td>23270.0</td>\n",
       "      <td>100.0</td>\n",
       "      <td>3.771288e+10</td>\n",
       "      <td>100.0</td>\n",
       "      <td>1.020387e+11</td>\n",
       "      <td>100.0</td>\n",
       "    </tr>\n",
       "    <tr>\n",
       "      <th>3</th>\n",
       "      <td>ST8000NM0055</td>\n",
       "      <td>ZA180R2Y</td>\n",
       "      <td>ST8000NM0055</td>\n",
       "      <td>8001563222016</td>\n",
       "      <td>236277024.0</td>\n",
       "      <td>120.0</td>\n",
       "      <td>0.0</td>\n",
       "      <td>91.0</td>\n",
       "      <td>10.0</td>\n",
       "      <td>100.0</td>\n",
       "      <td>...</td>\n",
       "      <td>0.0</td>\n",
       "      <td>100.0</td>\n",
       "      <td>0.0</td>\n",
       "      <td>200.0</td>\n",
       "      <td>23270.0</td>\n",
       "      <td>100.0</td>\n",
       "      <td>3.771288e+10</td>\n",
       "      <td>100.0</td>\n",
       "      <td>1.020387e+11</td>\n",
       "      <td>100.0</td>\n",
       "    </tr>\n",
       "    <tr>\n",
       "      <th>4</th>\n",
       "      <td>ST4000DM000</td>\n",
       "      <td>Z305D601</td>\n",
       "      <td>ST4000DM000</td>\n",
       "      <td>4000787030016</td>\n",
       "      <td>236277024.0</td>\n",
       "      <td>120.0</td>\n",
       "      <td>0.0</td>\n",
       "      <td>91.0</td>\n",
       "      <td>10.0</td>\n",
       "      <td>100.0</td>\n",
       "      <td>...</td>\n",
       "      <td>0.0</td>\n",
       "      <td>100.0</td>\n",
       "      <td>0.0</td>\n",
       "      <td>200.0</td>\n",
       "      <td>23270.0</td>\n",
       "      <td>100.0</td>\n",
       "      <td>3.771288e+10</td>\n",
       "      <td>100.0</td>\n",
       "      <td>1.020387e+11</td>\n",
       "      <td>100.0</td>\n",
       "    </tr>\n",
       "  </tbody>\n",
       "</table>\n",
       "<p>5 rows × 52 columns</p>\n",
       "</div>"
      ],
      "text/plain": [
       "     model_name serial_number  model_family  user_capacity  smart_1_raw  \\\n",
       "0   ST4000DM000      Z305Q0ML   ST4000DM000  4000787030016  236277024.0   \n",
       "1   ST4000DM000      Z305D56C   ST4000DM000  4000787030016  236277024.0   \n",
       "2   ST6000DX000      Z4D0A04H   ST6000DX000  6001175126016  236277024.0   \n",
       "3  ST8000NM0055      ZA180R2Y  ST8000NM0055  8001563222016  236277024.0   \n",
       "4   ST4000DM000      Z305D601   ST4000DM000  4000787030016  236277024.0   \n",
       "\n",
       "   smart_1_normalized  smart_3_raw  smart_3_normalized  smart_4_raw  \\\n",
       "0               120.0          0.0                91.0         10.0   \n",
       "1               120.0          0.0                91.0         10.0   \n",
       "2               120.0          0.0                91.0         10.0   \n",
       "3               120.0          0.0                91.0         10.0   \n",
       "4               120.0          0.0                91.0         10.0   \n",
       "\n",
       "   smart_4_normalized  ...  smart_198_raw  smart_198_normalized  \\\n",
       "0               100.0  ...            0.0                 100.0   \n",
       "1               100.0  ...            0.0                 100.0   \n",
       "2               100.0  ...            0.0                 100.0   \n",
       "3               100.0  ...            0.0                 100.0   \n",
       "4               100.0  ...            0.0                 100.0   \n",
       "\n",
       "   smart_199_raw  smart_199_normalized  smart_240_raw  smart_240_normalized  \\\n",
       "0            0.0                 200.0        23270.0                 100.0   \n",
       "1            0.0                 200.0        23270.0                 100.0   \n",
       "2            0.0                 200.0        23270.0                 100.0   \n",
       "3            0.0                 200.0        23270.0                 100.0   \n",
       "4            0.0                 200.0        23270.0                 100.0   \n",
       "\n",
       "   smart_241_raw  smart_241_normalized  smart_242_raw  smart_242_normalized  \n",
       "0   3.771288e+10                 100.0   1.020387e+11                 100.0  \n",
       "1   3.771288e+10                 100.0   1.020387e+11                 100.0  \n",
       "2   3.771288e+10                 100.0   1.020387e+11                 100.0  \n",
       "3   3.771288e+10                 100.0   1.020387e+11                 100.0  \n",
       "4   3.771288e+10                 100.0   1.020387e+11                 100.0  \n",
       "\n",
       "[5 rows x 52 columns]"
      ]
     },
     "execution_count": 11,
     "metadata": {},
     "output_type": "execute_result"
    }
   ],
   "source": [
    "# list of dicts to df\n",
    "df = pd.DataFrame(predict_datas)\n",
    "\n",
    "# change from dict type {'bytes': 123} to just int64 type 123\n",
    "df['user_capacity'] = df['user_capacity'].apply(lambda x: x['bytes'])\n",
    "\n",
    "# change from dict type {'table': [{}, {}, {}]}  to list type [{}, {}, {}]\n",
    "df['ata_smart_attributes'] = df['ata_smart_attributes'].apply(lambda x: x['table'])\n",
    "\n",
    "# make raw nad norm values of each smart id its own column\n",
    "for day_idx in range(len(predict_datas)):\n",
    "    for attr_dict in df.iloc[0]['ata_smart_attributes']:\n",
    "        smart_id = attr_dict['id']\n",
    "        df.at[day_idx, 'smart_{}_raw'.format(smart_id)] = int(attr_dict['raw']['value'])\n",
    "        df.at[day_idx, 'smart_{}_normalized'.format(smart_id)] = int(attr_dict['value'])\n",
    "\n",
    "# now redundant column\n",
    "df = df.drop('ata_smart_attributes', axis=1)\n",
    "df.head()"
   ]
  },
  {
   "cell_type": "code",
   "execution_count": 17,
   "metadata": {},
   "outputs": [
    {
     "data": {
      "text/html": [
       "<div>\n",
       "<style scoped>\n",
       "    .dataframe tbody tr th:only-of-type {\n",
       "        vertical-align: middle;\n",
       "    }\n",
       "\n",
       "    .dataframe tbody tr th {\n",
       "        vertical-align: top;\n",
       "    }\n",
       "\n",
       "    .dataframe thead th {\n",
       "        text-align: right;\n",
       "    }\n",
       "</style>\n",
       "<table border=\"1\" class=\"dataframe\">\n",
       "  <thead>\n",
       "    <tr style=\"text-align: right;\">\n",
       "      <th></th>\n",
       "      <th>model_name</th>\n",
       "      <th>serial_number</th>\n",
       "      <th>model_family</th>\n",
       "      <th>user_capacity</th>\n",
       "      <th>smart_1_raw</th>\n",
       "      <th>smart_1_normalized</th>\n",
       "      <th>smart_3_raw</th>\n",
       "      <th>smart_3_normalized</th>\n",
       "      <th>smart_4_raw</th>\n",
       "      <th>smart_4_normalized</th>\n",
       "      <th>...</th>\n",
       "      <th>smart_198_raw</th>\n",
       "      <th>smart_198_normalized</th>\n",
       "      <th>smart_199_raw</th>\n",
       "      <th>smart_199_normalized</th>\n",
       "      <th>smart_240_raw</th>\n",
       "      <th>smart_240_normalized</th>\n",
       "      <th>smart_241_raw</th>\n",
       "      <th>smart_241_normalized</th>\n",
       "      <th>smart_242_raw</th>\n",
       "      <th>smart_242_normalized</th>\n",
       "    </tr>\n",
       "  </thead>\n",
       "  <tbody>\n",
       "    <tr>\n",
       "      <th>6</th>\n",
       "      <td>ST12000NM0007</td>\n",
       "      <td>ZCH07WEV</td>\n",
       "      <td>ST12000NM0007</td>\n",
       "      <td>12000138625024</td>\n",
       "      <td>236277024.0</td>\n",
       "      <td>120.0</td>\n",
       "      <td>0.0</td>\n",
       "      <td>91.0</td>\n",
       "      <td>10.0</td>\n",
       "      <td>100.0</td>\n",
       "      <td>...</td>\n",
       "      <td>0.0</td>\n",
       "      <td>100.0</td>\n",
       "      <td>0.0</td>\n",
       "      <td>200.0</td>\n",
       "      <td>23270.0</td>\n",
       "      <td>100.0</td>\n",
       "      <td>3.771288e+10</td>\n",
       "      <td>100.0</td>\n",
       "      <td>1.020387e+11</td>\n",
       "      <td>100.0</td>\n",
       "    </tr>\n",
       "    <tr>\n",
       "      <th>16</th>\n",
       "      <td>ST12000NM0007</td>\n",
       "      <td>ZCH07WEV</td>\n",
       "      <td>ST12000NM0007</td>\n",
       "      <td>12000138625024</td>\n",
       "      <td>236277024.0</td>\n",
       "      <td>120.0</td>\n",
       "      <td>0.0</td>\n",
       "      <td>91.0</td>\n",
       "      <td>10.0</td>\n",
       "      <td>100.0</td>\n",
       "      <td>...</td>\n",
       "      <td>0.0</td>\n",
       "      <td>100.0</td>\n",
       "      <td>0.0</td>\n",
       "      <td>200.0</td>\n",
       "      <td>23270.0</td>\n",
       "      <td>100.0</td>\n",
       "      <td>3.771288e+10</td>\n",
       "      <td>100.0</td>\n",
       "      <td>1.020387e+11</td>\n",
       "      <td>100.0</td>\n",
       "    </tr>\n",
       "    <tr>\n",
       "      <th>26</th>\n",
       "      <td>ST12000NM0007</td>\n",
       "      <td>ZCH07WEV</td>\n",
       "      <td>ST12000NM0007</td>\n",
       "      <td>12000138625024</td>\n",
       "      <td>236277024.0</td>\n",
       "      <td>120.0</td>\n",
       "      <td>0.0</td>\n",
       "      <td>91.0</td>\n",
       "      <td>10.0</td>\n",
       "      <td>100.0</td>\n",
       "      <td>...</td>\n",
       "      <td>0.0</td>\n",
       "      <td>100.0</td>\n",
       "      <td>0.0</td>\n",
       "      <td>200.0</td>\n",
       "      <td>23270.0</td>\n",
       "      <td>100.0</td>\n",
       "      <td>3.771288e+10</td>\n",
       "      <td>100.0</td>\n",
       "      <td>1.020387e+11</td>\n",
       "      <td>100.0</td>\n",
       "    </tr>\n",
       "  </tbody>\n",
       "</table>\n",
       "<p>3 rows × 52 columns</p>\n",
       "</div>"
      ],
      "text/plain": [
       "       model_name serial_number   model_family   user_capacity  smart_1_raw  \\\n",
       "6   ST12000NM0007      ZCH07WEV  ST12000NM0007  12000138625024  236277024.0   \n",
       "16  ST12000NM0007      ZCH07WEV  ST12000NM0007  12000138625024  236277024.0   \n",
       "26  ST12000NM0007      ZCH07WEV  ST12000NM0007  12000138625024  236277024.0   \n",
       "\n",
       "    smart_1_normalized  smart_3_raw  smart_3_normalized  smart_4_raw  \\\n",
       "6                120.0          0.0                91.0         10.0   \n",
       "16               120.0          0.0                91.0         10.0   \n",
       "26               120.0          0.0                91.0         10.0   \n",
       "\n",
       "    smart_4_normalized  ...  smart_198_raw  smart_198_normalized  \\\n",
       "6                100.0  ...            0.0                 100.0   \n",
       "16               100.0  ...            0.0                 100.0   \n",
       "26               100.0  ...            0.0                 100.0   \n",
       "\n",
       "    smart_199_raw  smart_199_normalized  smart_240_raw  smart_240_normalized  \\\n",
       "6             0.0                 200.0        23270.0                 100.0   \n",
       "16            0.0                 200.0        23270.0                 100.0   \n",
       "26            0.0                 200.0        23270.0                 100.0   \n",
       "\n",
       "    smart_241_raw  smart_241_normalized  smart_242_raw  smart_242_normalized  \n",
       "6    3.771288e+10                 100.0   1.020387e+11                 100.0  \n",
       "16   3.771288e+10                 100.0   1.020387e+11                 100.0  \n",
       "26   3.771288e+10                 100.0   1.020387e+11                 100.0  \n",
       "\n",
       "[3 rows x 52 columns]"
      ]
     },
     "execution_count": 17,
     "metadata": {},
     "output_type": "execute_result"
    }
   ],
   "source": [
    "df[df['serial_number']=='ZCH07WEV']"
   ]
  },
  {
   "cell_type": "markdown",
   "metadata": {},
   "source": [
    "**TODO**: dont generate columns that wont be used"
   ]
  },
  {
   "cell_type": "code",
   "execution_count": 15,
   "metadata": {},
   "outputs": [],
   "source": [
    "# columns used for predictionm for seagate\n",
    "seagate_predict_sids= [1, 5, 7, 9, 10, 184, 187, 188, 189, 190, 193, 194, 197, 198, 240, 241, 242]\n",
    "seagate_predict_cols = ['user_capacity'] \\\n",
    "                        + ['smart_{}_raw'.format(i) for i in seagate_predict_sids]\\\n",
    "                        + ['smart_{}_normalized'.format(i) for i in seagate_predict_sids]\n",
    "\n",
    "# df = df[seagate_predict_cols]\n",
    "# df.head()"
   ]
  },
  {
   "cell_type": "markdown",
   "metadata": {},
   "source": [
    "**TODO**: remove nans"
   ]
  },
  {
   "cell_type": "code",
   "execution_count": 31,
   "metadata": {},
   "outputs": [
    {
     "data": {
      "text/plain": [
       "False"
      ]
     },
     "execution_count": 31,
     "metadata": {},
     "output_type": "execute_result"
    }
   ],
   "source": [
    "# no nans in this case\n",
    "df.isna().any().any()"
   ]
  },
  {
   "cell_type": "markdown",
   "metadata": {},
   "source": [
    "# Preprocess"
   ]
  },
  {
   "cell_type": "markdown",
   "metadata": {},
   "source": [
    "**TODO**: for a decision tree based model, do we really need a scaler? what if there is weight regularization involved?"
   ]
  },
  {
   "cell_type": "code",
   "execution_count": null,
   "metadata": {},
   "outputs": [],
   "source": []
  }
 ],
 "metadata": {
  "kernelspec": {
   "display_name": "Python 3",
   "language": "python",
   "name": "python3"
  },
  "language_info": {
   "codemirror_mode": {
    "name": "ipython",
    "version": 3
   },
   "file_extension": ".py",
   "mimetype": "text/x-python",
   "name": "python",
   "nbconvert_exporter": "python",
   "pygments_lexer": "ipython3",
   "version": "3.7.4"
  }
 },
 "nbformat": 4,
 "nbformat_minor": 4
}
