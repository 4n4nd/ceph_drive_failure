{
 "cells": [
  {
   "cell_type": "markdown",
   "metadata": {},
   "source": [
    "# Step 3: Clustering + Model Exploration\n",
    "\n",
    "In this notebook, dataset is visualized and clustered, and some classification models are explored.\n",
    "\n",
    "First, dimensionality reduction is done using PCA and UMAP. This serves two purposes - to visualize the data, and to try to increase training speed and reduce overfitting.\n",
    "\n",
    "Data reduced to 3 dimentions is visualized to get a better understanding of how it is distributed and if there are any intrinsic patterns. This helps in forming the classification strategy. The interactive plots are stored as html files in the img directory.\n",
    "\n",
    "Since human-understandable visualization is limited to 3 dimensions, clustering methods are used to look for inherent patterns and clusterings. If well defined clusters are formed, then these methods could also be used for classification.\n",
    "\n",
    "Finally, some models are implemented and tested. These include SVM, Adaboost SVM Ensemble, XGBoost, and RGF. The models may or may not be able to learn well from a dataset reduced using PCA or UMAP, but it's worth a shot.\n",
    "\n",
    "The following models will be explored in future versions:\n",
    "1. Neural network\n",
    "2. Classifiers based on embeddings learned from semi-supervised UMAP"
   ]
  },
  {
   "cell_type": "code",
   "execution_count": 1,
   "metadata": {},
   "outputs": [],
   "source": [
    "import os\n",
    "import gc\n",
    "import datetime\n",
    "import cloudpickle\n",
    "\n",
    "import numpy as np\n",
    "import pandas as pd\n",
    "import dask.array as da\n",
    "import dask.dataframe as dd\n",
    "\n",
    "from joblib import parallel_backend"
   ]
  },
  {
   "cell_type": "code",
   "execution_count": 2,
   "metadata": {},
   "outputs": [],
   "source": [
    "from matplotlib import pyplot as plt\n",
    "import seaborn as sns\n",
    "import plotly\n",
    "\n",
    "# Display all cell outputs\n",
    "from IPython.core.interactiveshell import InteractiveShell\n",
    "InteractiveShell.ast_node_interactivity = 'all'"
   ]
  },
  {
   "cell_type": "code",
   "execution_count": 3,
   "metadata": {},
   "outputs": [],
   "source": [
    "# start a local Dask client\n",
    "# use the daskboard at http://localhost:8787/status\n",
    "# NOTE: ProgressBar does not show up when client is initialized\n",
    "from dask.distributed import Client \n",
    "client = Client()"
   ]
  },
  {
   "cell_type": "code",
   "execution_count": 4,
   "metadata": {},
   "outputs": [],
   "source": [
    "# inferred int64 types cause a type mismatch (int vs float) error when dask sees a null value\n",
    "# null values cannot be interpreted as ints\n",
    "custom_dtypes = {\n",
    "    \"date\": \"object\",\n",
    "    \"serial_number\": \"object\",\n",
    "    \"capacity_bytes\": \"float32\",\n",
    "    \"failure\": \"float32\",\n",
    "    \"smart_1_normalized\": \"float32\",\n",
    "    \"smart_1_raw\": \"float32\",\n",
    "    \"smart_5_normalized\": \"float32\",\n",
    "    \"smart_5_raw\": \"float32\",\n",
    "    \"smart_7_normalized\": \"float32\",\n",
    "    \"smart_7_raw\": \"float32\",\n",
    "    \"smart_10_normalized\": \"float32\",\n",
    "    \"smart_10_raw\": \"float32\",\n",
    "    \"smart_184_normalized\": \"float32\",\n",
    "    \"smart_184_raw\": \"float32\",\n",
    "    \"smart_187_normalized\": \"float32\",\n",
    "    \"smart_187_raw\": \"float32\",\n",
    "    \"smart_188_normalized\": \"float32\",\n",
    "    \"smart_188_raw\": \"float32\",\n",
    "    \"smart_189_normalized\": \"float32\",\n",
    "    \"smart_189_raw\": \"float32\",\n",
    "    \"smart_190_normalized\": \"float32\",\n",
    "    \"smart_190_raw\": \"float32\",\n",
    "    \"smart_193_normalized\": \"float32\",\n",
    "    \"smart_193_raw\": \"float32\",\n",
    "    \"smart_194_normalized\": \"float32\",\n",
    "    \"smart_194_raw\": \"float32\",\n",
    "    \"smart_197_normalized\": \"float32\",\n",
    "    \"smart_197_raw\": \"float32\",\n",
    "    \"smart_198_normalized\": \"float32\",\n",
    "    \"smart_198_raw\": \"float32\",\n",
    "    \"smart_240_normalized\": \"float32\",\n",
    "    \"smart_240_raw\": \"float32\",\n",
    "    \"smart_241_normalized\": \"float32\",\n",
    "    \"smart_241_raw\": \"float32\",\n",
    "    \"smart_242_normalized\": \"float32\",\n",
    "    \"smart_242_raw\": \"float32\"\n",
    "}"
   ]
  },
  {
   "cell_type": "code",
   "execution_count": 5,
   "metadata": {},
   "outputs": [],
   "source": [
    "# read all the cleaned seagate data into one dataframe\n",
    "DATA_DIR = \"/home/kachauha/Downloads/data_Q4_2018_clean\"\n",
    "seagate_df = dd.read_csv(os.path.join(DATA_DIR, '*.csv'), dtype=custom_dtypes)"
   ]
  },
  {
   "cell_type": "code",
   "execution_count": 6,
   "metadata": {},
   "outputs": [],
   "source": [
    "# get the serial numbers for all the failed hard drives\n",
    "failed_serials = seagate_df[seagate_df['failure']==1]['serial_number']"
   ]
  },
  {
   "cell_type": "markdown",
   "metadata": {},
   "source": [
    "## Collapse Time Dimension\n",
    "\n",
    "Most of the classification models discussed cannot be directly applied to time series data, especially considering that the time series may be of different lengths. Therefore, time series are reduced to fixed-length feature vectors.\n",
    "\n",
    "The simplest and easiest method of collapsing time dimension is implemented for now. See https://trello.com/c/kIoGk9T1 for a full list of representation techniques that could be explored."
   ]
  },
  {
   "cell_type": "code",
   "execution_count": 7,
   "metadata": {},
   "outputs": [],
   "source": [
    "# collapse time dim, drop cols that are unncessary for train data\n",
    "seagate_df_grouped = seagate_df.drop(['date', 'failure'], axis=1).groupby('serial_number')\n",
    "\n",
    "# characterize a time series by simple stats - mean,std,max,min,size,kurtosis\n",
    "means = seagate_df_grouped.mean()\n",
    "means = means.rename(columns={col: 'mean_' + col for col in means.columns})\n",
    "\n",
    "stds = seagate_df_grouped.std(ddof=0)\n",
    "stds = stds.rename(columns={col: 'std_' + col for col in stds.columns})\n",
    "stds = stds.fillna(0)    # FIXME: std returns nans even for ddof=0\n",
    "\n",
    "# maxs = seagate_df_grouped.max()\n",
    "# maxs = maxs.rename(columns={col: 'max_' + col for col in maxs.columns})\n",
    "\n",
    "# mins = seagate_df_grouped.min()\n",
    "# mins = mins.rename(columns={col: 'min_' + col for col in mins.columns})\n",
    "\n",
    "days = seagate_df_grouped.size().to_frame('days')"
   ]
  },
  {
   "cell_type": "code",
   "execution_count": 8,
   "metadata": {},
   "outputs": [],
   "source": [
    "# join stats into one df\n",
    "X_df = means.merge(right=stds, left_index=True, right_index=True)\n",
    "# X_df = X_df.merge(right=maxs, left_index=True, right_index=True)\n",
    "# X_df = X_df.merge(right=mins, left_index=True, right_index=True)\n",
    "X_df = X_df.merge(right=days, left_index=True, right_index=True)"
   ]
  },
  {
   "cell_type": "code",
   "execution_count": 9,
   "metadata": {},
   "outputs": [],
   "source": [
    "# convert to dask array - some algos dont like dataframes\n",
    "X_arr = X_df.to_dask_array(lengths=True)"
   ]
  },
  {
   "cell_type": "code",
   "execution_count": null,
   "metadata": {},
   "outputs": [],
   "source": [
    "# sanity check - ensure no nans\n",
    "X_df.isna().any().any().compute()"
   ]
  },
  {
   "cell_type": "code",
   "execution_count": 10,
   "metadata": {},
   "outputs": [
    {
     "data": {
      "text/plain": [
       "557"
      ]
     },
     "execution_count": 10,
     "metadata": {},
     "output_type": "execute_result"
    }
   ],
   "source": [
    "# clean up memory\n",
    "del means\n",
    "del stds\n",
    "del days\n",
    "gc.collect()"
   ]
  },
  {
   "cell_type": "code",
   "execution_count": 11,
   "metadata": {},
   "outputs": [
    {
     "data": {
      "text/plain": [
       "(82993,)"
      ]
     },
     "execution_count": 11,
     "metadata": {},
     "output_type": "execute_result"
    }
   ],
   "source": [
    "# get ground truth labels\n",
    "# NOTE: dask-xgboost needs this to be dask obejct\n",
    "# NOTE: if not converted to dask array, it is of nan shape\n",
    "Y_arr = da.from_array(X_df.index.isin(failed_serials.values.compute()).compute())\n",
    "Y_arr.shape"
   ]
  },
  {
   "cell_type": "code",
   "execution_count": 12,
   "metadata": {},
   "outputs": [
    {
     "data": {
      "text/plain": [
       "341"
      ]
     },
     "execution_count": 12,
     "metadata": {},
     "output_type": "execute_result"
    }
   ],
   "source": [
    "# true if drive had failed. used for indexing into Xtrain dask array\n",
    "failed_idx = (Y_arr==1).compute()\n",
    "failed_idx.sum()"
   ]
  },
  {
   "cell_type": "markdown",
   "metadata": {},
   "source": [
    "## Preprocess"
   ]
  },
  {
   "cell_type": "code",
   "execution_count": 13,
   "metadata": {},
   "outputs": [],
   "source": [
    "from dask_ml.preprocessing import StandardScaler, RobustScaler"
   ]
  },
  {
   "cell_type": "code",
   "execution_count": 14,
   "metadata": {},
   "outputs": [],
   "source": [
    "std_scaler = StandardScaler()\n",
    "# rob_scaler = RobustScaler()\n",
    "\n",
    "X_arr = std_scaler.fit_transform(X_arr)\n",
    "# X = rob_scaler.fit_transform(X)"
   ]
  },
  {
   "cell_type": "markdown",
   "metadata": {},
   "source": [
    "## Visualize"
   ]
  },
  {
   "cell_type": "code",
   "execution_count": 19,
   "metadata": {},
   "outputs": [],
   "source": [
    "from sklearn.decomposition import PCA, KernelPCA"
   ]
  },
  {
   "cell_type": "code",
   "execution_count": 23,
   "metadata": {},
   "outputs": [],
   "source": [
    "# vanilla pca for visualization in 3d\n",
    "with parallel_backend('dask'):\n",
    "    pcs = PCA(n_components=3)\n",
    "    X_pca = pcs.fit_transform(X_arr)"
   ]
  },
  {
   "cell_type": "code",
   "execution_count": 57,
   "metadata": {},
   "outputs": [],
   "source": [
    "# plot\n",
    "working_pca = dict(\n",
    "    mode = \"markers\",\n",
    "    name = \"Working\",\n",
    "    type = \"scatter3d\",    \n",
    "    x = X_pca[~failed_idx, 0],\n",
    "    y = X_pca[~failed_idx, 1],\n",
    "    z = X_pca[~failed_idx, 2],\n",
    "    marker = dict( size=2, color=\"rgb(0, 0, 200)\" )\n",
    ")\n",
    "\n",
    "failed_pca = dict(\n",
    "    mode = \"markers\",\n",
    "    name = \"Failed\",\n",
    "    type = \"scatter3d\",    \n",
    "    x = X_pca[failed_idx, 0],\n",
    "    y = X_pca[failed_idx, 1],\n",
    "    z = X_pca[failed_idx, 2],\n",
    "    marker = dict( size=2, color=\"rgb(200, 0, 0)\" )\n",
    ")\n",
    "\n",
    "layout_pca = dict(\n",
    "    title = 'Simple Reduction Euclidean PCA',\n",
    "    scene = dict(\n",
    "        xaxis = dict( zeroline=False ),\n",
    "        yaxis = dict( zeroline=False ),\n",
    "        zaxis = dict( zeroline=False ),\n",
    "    )\n",
    ")"
   ]
  },
  {
   "cell_type": "code",
   "execution_count": 56,
   "metadata": {},
   "outputs": [
    {
     "data": {
      "text/plain": [
       "'seagate_pca_scatter.html'"
      ]
     },
     "execution_count": 56,
     "metadata": {},
     "output_type": "execute_result"
    }
   ],
   "source": [
    "fig = dict( data=[working_pca, failed_pca], layout=layout_pca )\n",
    "plotly.offline.plot(fig, filename='img/pca/seagate_simple_euclidean.html', auto_open=True)"
   ]
  },
  {
   "cell_type": "code",
   "execution_count": null,
   "metadata": {
    "scrolled": true
   },
   "outputs": [],
   "source": [
    "#################################################################\n",
    "#   KERNEL PCA RUNS OUT OF MEMORY for rbf, sigmoid, cosine      #\n",
    "#################################################################\n",
    "# # euclidean is not good enough for the dims we have. go nonlinear\n",
    "# with parallel_backend('dask'):\n",
    "#     kpca = KernelPCA(n_components=3, kernel='cosine', random_state=42)\n",
    "#     X_kpca = kpca.fit_transform(X_arr)"
   ]
  },
  {
   "cell_type": "code",
   "execution_count": null,
   "metadata": {},
   "outputs": [],
   "source": [
    "# # plot\n",
    "# working_kpca = dict(\n",
    "#     mode = \"markers\",\n",
    "#     name = \"Working\",\n",
    "#     type = \"scatter3d\",    \n",
    "#     x = X_kpca[~failed_idx, 0],\n",
    "#     y = X_kpca[~failed_idx, 1],\n",
    "#     z = X_kpca[~failed_idx, 2],\n",
    "#     marker = dict( size=2, color=\"rgb(0, 0, 200)\" )\n",
    "# )\n",
    "\n",
    "# failed_kpca = dict(\n",
    "#     mode = \"markers\",\n",
    "#     name = \"Failed\",\n",
    "#     type = \"scatter3d\",    \n",
    "#     x = X_kpca[failed_idx, 0],\n",
    "#     y = X_kpca[failed_idx, 1],\n",
    "#     z = X_kpca[failed_idx, 2],\n",
    "#     marker = dict( size=2, color=\"rgb(200, 0, 0)\" )\n",
    "# )\n",
    "\n",
    "# layout_kpca = dict(\n",
    "#     title = 'Simple Reduction RBF PCA',\n",
    "#     scene = dict(\n",
    "#         xaxis = dict( zeroline=False ),\n",
    "#         yaxis = dict( zeroline=False ),\n",
    "#         zaxis = dict( zeroline=False ),\n",
    "#     )\n",
    "# )"
   ]
  },
  {
   "cell_type": "code",
   "execution_count": null,
   "metadata": {},
   "outputs": [],
   "source": [
    "# fig = dict( data=[working_kpca, failed_kpca], layout=layout_kpca )\n",
    "# plotly.offline.plot(fig, filename='seagate_kpca_rbf.html', auto_open=True)"
   ]
  },
  {
   "cell_type": "code",
   "execution_count": 19,
   "metadata": {},
   "outputs": [],
   "source": [
    "from umap import UMAP"
   ]
  },
  {
   "cell_type": "code",
   "execution_count": 40,
   "metadata": {},
   "outputs": [
    {
     "name": "stderr",
     "output_type": "stream",
     "text": [
      "/home/kachauha/.local/share/virtualenvs/ceph_drive_failure-3-2yJKyM/lib/python3.7/site-packages/numba/compiler.py:588: NumbaPerformanceWarning:\n",
      "\n",
      "\u001b[1m\n",
      "The keyword argument 'parallel=True' was specified but no transformation for parallel execution was possible.\n",
      "\n",
      "To find out why, try turning on parallel diagnostics, see http://numba.pydata.org/numba-doc/latest/user/parallel.html#diagnostics for help.\n",
      "\u001b[1m\n",
      "File \"../../.local/share/virtualenvs/ceph_drive_failure-3-2yJKyM/lib/python3.7/site-packages/umap/nndescent.py\", line 47:\u001b[0m\n",
      "\u001b[1m    @numba.njit(parallel=True)\n",
      "\u001b[1m    def nn_descent(\n",
      "\u001b[0m    \u001b[1m^\u001b[0m\u001b[0m\n",
      "\u001b[0m\n",
      "\n",
      "/home/kachauha/.local/share/virtualenvs/ceph_drive_failure-3-2yJKyM/lib/python3.7/site-packages/umap/umap_.py:569: NumbaWarning:\n",
      "\n",
      "\u001b[1m\n",
      "Compilation is falling back to object mode WITH looplifting enabled because Function \"categorical_simplicial_set_intersection\" failed type inference due to: \u001b[1m\u001b[1mnon-precise type pyobject\u001b[0m\n",
      "\u001b[0m\u001b[1m[1] During: typing of argument at /home/kachauha/.local/share/virtualenvs/ceph_drive_failure-3-2yJKyM/lib/python3.7/site-packages/umap/umap_.py (599)\u001b[0m\n",
      "\u001b[1m\n",
      "File \"../../.local/share/virtualenvs/ceph_drive_failure-3-2yJKyM/lib/python3.7/site-packages/umap/umap_.py\", line 599:\u001b[0m\n",
      "\u001b[1mdef categorical_simplicial_set_intersection(\n",
      "    <source elided>\n",
      "    \"\"\"\n",
      "\u001b[1m    simplicial_set = simplicial_set.tocoo()\n",
      "\u001b[0m    \u001b[1m^\u001b[0m\u001b[0m\n",
      "\u001b[0m\n",
      "\n",
      "/home/kachauha/.local/share/virtualenvs/ceph_drive_failure-3-2yJKyM/lib/python3.7/site-packages/numba/compiler.py:725: NumbaWarning:\n",
      "\n",
      "\u001b[1mFunction \"categorical_simplicial_set_intersection\" was compiled in object mode without forceobj=True.\n",
      "\u001b[1m\n",
      "File \"../../.local/share/virtualenvs/ceph_drive_failure-3-2yJKyM/lib/python3.7/site-packages/umap/umap_.py\", line 570:\u001b[0m\n",
      "\u001b[1m@numba.jit()\n",
      "\u001b[1mdef categorical_simplicial_set_intersection(\n",
      "\u001b[0m\u001b[1m^\u001b[0m\u001b[0m\n",
      "\u001b[0m\n",
      "\n",
      "/home/kachauha/.local/share/virtualenvs/ceph_drive_failure-3-2yJKyM/lib/python3.7/site-packages/numba/compiler.py:734: NumbaDeprecationWarning:\n",
      "\n",
      "\u001b[1m\n",
      "Fall-back from the nopython compilation path to the object mode compilation path has been detected, this is deprecated behaviour.\n",
      "\n",
      "For more information visit http://numba.pydata.org/numba-doc/latest/reference/deprecation.html#deprecation-of-object-mode-fall-back-behaviour-when-using-jit\n",
      "\u001b[1m\n",
      "File \"../../.local/share/virtualenvs/ceph_drive_failure-3-2yJKyM/lib/python3.7/site-packages/umap/umap_.py\", line 570:\u001b[0m\n",
      "\u001b[1m@numba.jit()\n",
      "\u001b[1mdef categorical_simplicial_set_intersection(\n",
      "\u001b[0m\u001b[1m^\u001b[0m\u001b[0m\n",
      "\u001b[0m\n",
      "\n",
      "/home/kachauha/.local/share/virtualenvs/ceph_drive_failure-3-2yJKyM/lib/python3.7/site-packages/umap/umap_.py:541: NumbaWarning:\n",
      "\n",
      "\u001b[1m\n",
      "Compilation is falling back to object mode WITH looplifting enabled because Function \"reset_local_connectivity\" failed type inference due to: \u001b[1mUntyped global name 'normalize':\u001b[0m \u001b[1m\u001b[1mcannot determine Numba type of <class 'function'>\u001b[0m\n",
      "\u001b[1m\n",
      "File \"../../.local/share/virtualenvs/ceph_drive_failure-3-2yJKyM/lib/python3.7/site-packages/umap/umap_.py\", line 560:\u001b[0m\n",
      "\u001b[1mdef reset_local_connectivity(simplicial_set):\n",
      "    <source elided>\n",
      "    \"\"\"\n",
      "\u001b[1m    simplicial_set = normalize(simplicial_set, norm=\"max\")\n",
      "\u001b[0m    \u001b[1m^\u001b[0m\u001b[0m\n",
      "\u001b[0m\u001b[0m\n",
      "\n",
      "/home/kachauha/.local/share/virtualenvs/ceph_drive_failure-3-2yJKyM/lib/python3.7/site-packages/numba/compiler.py:725: NumbaWarning:\n",
      "\n",
      "\u001b[1mFunction \"reset_local_connectivity\" was compiled in object mode without forceobj=True.\n",
      "\u001b[1m\n",
      "File \"../../.local/share/virtualenvs/ceph_drive_failure-3-2yJKyM/lib/python3.7/site-packages/umap/umap_.py\", line 542:\u001b[0m\n",
      "\u001b[1m@numba.jit()\n",
      "\u001b[1mdef reset_local_connectivity(simplicial_set):\n",
      "\u001b[0m\u001b[1m^\u001b[0m\u001b[0m\n",
      "\u001b[0m\n",
      "\n",
      "/home/kachauha/.local/share/virtualenvs/ceph_drive_failure-3-2yJKyM/lib/python3.7/site-packages/numba/compiler.py:734: NumbaDeprecationWarning:\n",
      "\n",
      "\u001b[1m\n",
      "Fall-back from the nopython compilation path to the object mode compilation path has been detected, this is deprecated behaviour.\n",
      "\n",
      "For more information visit http://numba.pydata.org/numba-doc/latest/reference/deprecation.html#deprecation-of-object-mode-fall-back-behaviour-when-using-jit\n",
      "\u001b[1m\n",
      "File \"../../.local/share/virtualenvs/ceph_drive_failure-3-2yJKyM/lib/python3.7/site-packages/umap/umap_.py\", line 542:\u001b[0m\n",
      "\u001b[1m@numba.jit()\n",
      "\u001b[1mdef reset_local_connectivity(simplicial_set):\n",
      "\u001b[0m\u001b[1m^\u001b[0m\u001b[0m\n",
      "\u001b[0m\n",
      "\n",
      "/home/kachauha/.local/share/virtualenvs/ceph_drive_failure-3-2yJKyM/lib/python3.7/site-packages/umap/spectral.py:229: UserWarning:\n",
      "\n",
      "Embedding a total of 3 separate connected components using meta-embedding (experimental)\n",
      "\n"
     ]
    }
   ],
   "source": [
    "# visualize using umap (tsne may be too expensive)\n",
    "with parallel_backend('dask'):\n",
    "    ucs = UMAP(n_components=3,\n",
    "               metric='canberra',\n",
    "               n_neighbors=32,\n",
    "               random_state=42)\n",
    "    X_umap = ucs.fit_transform(X_arr, y=da.where(Y_arr==0, -1, Y_arr))"
   ]
  },
  {
   "cell_type": "code",
   "execution_count": 41,
   "metadata": {},
   "outputs": [],
   "source": [
    "# plot\n",
    "working_umap = dict(\n",
    "    mode = \"markers\",\n",
    "    name = \"Working\",\n",
    "    type = \"scatter3d\",    \n",
    "    x = X_umap[~failed_idx, 0],\n",
    "    y = X_umap[~failed_idx, 1],\n",
    "    z = X_umap[~failed_idx, 2],\n",
    "    marker = dict( size=2, color=\"rgb(0, 0, 200)\" )\n",
    ")\n",
    "\n",
    "failed_umap = dict(\n",
    "    mode = \"markers\",\n",
    "    name = \"Failed\",\n",
    "    type = \"scatter3d\",    \n",
    "    x = X_umap[failed_idx, 0],\n",
    "    y = X_umap[failed_idx, 1],\n",
    "    z = X_umap[failed_idx, 2],\n",
    "    marker = dict( size=2, color=\"rgb(200, 0, 0)\" )\n",
    ")\n",
    "\n",
    "layout_umap = dict(\n",
    "    title = 'Simple Reduction Canberra UMAP, Semisupervised',\n",
    "    scene = dict(\n",
    "        xaxis = dict( zeroline=False ),\n",
    "        yaxis = dict( zeroline=False ),\n",
    "        zaxis = dict( zeroline=False ),\n",
    "    )\n",
    ")"
   ]
  },
  {
   "cell_type": "code",
   "execution_count": 42,
   "metadata": {},
   "outputs": [
    {
     "data": {
      "text/plain": [
       "'seagate_umapn32_canberra_ss.html'"
      ]
     },
     "execution_count": 42,
     "metadata": {},
     "output_type": "execute_result"
    }
   ],
   "source": [
    "fig = dict( data=[working_umap, failed_umap], layout=layout_umap )\n",
    "plotly.offline.plot(fig, filename='img/umap/seagate_n32_canberra_ss.html', auto_open=True)"
   ]
  },
  {
   "cell_type": "markdown",
   "metadata": {},
   "source": [
    "## Reduce Data\n",
    "Since UMAP seems to be creating useful embeddings, we can use the embeddings as the reduced dataset and classify on that instead. There is some description of this method in the original paper, and a lot of description and documentation in umap-learn"
   ]
  },
  {
   "cell_type": "code",
   "execution_count": 156,
   "metadata": {},
   "outputs": [
    {
     "name": "stderr",
     "output_type": "stream",
     "text": [
      "/home/kachauha/.local/share/virtualenvs/ceph_drive_failure-3-2yJKyM/lib/python3.7/site-packages/numba/compiler.py:588: NumbaPerformanceWarning:\n",
      "\n",
      "\u001b[1m\n",
      "The keyword argument 'parallel=True' was specified but no transformation for parallel execution was possible.\n",
      "\n",
      "To find out why, try turning on parallel diagnostics, see http://numba.pydata.org/numba-doc/latest/user/parallel.html#diagnostics for help.\n",
      "\u001b[1m\n",
      "File \"../../.local/share/virtualenvs/ceph_drive_failure-3-2yJKyM/lib/python3.7/site-packages/umap/nndescent.py\", line 47:\u001b[0m\n",
      "\u001b[1m    @numba.njit(parallel=True)\n",
      "\u001b[1m    def nn_descent(\n",
      "\u001b[0m    \u001b[1m^\u001b[0m\u001b[0m\n",
      "\u001b[0m\n",
      "\n",
      "/home/kachauha/.local/share/virtualenvs/ceph_drive_failure-3-2yJKyM/lib/python3.7/site-packages/umap/spectral.py:229: UserWarning:\n",
      "\n",
      "Embedding a total of 3 separate connected components using meta-embedding (experimental)\n",
      "\n"
     ]
    }
   ],
   "source": [
    "# keep 20 out of 67 dimensions\n",
    "feat_reducer = UMAP(n_components=20, \n",
    "                    metric='chebyshev', \n",
    "                    n_neighbors=15,\n",
    "                    random_state=42)\n",
    "X_umap = feat_reducer.fit_transform(X_arr)"
   ]
  },
  {
   "cell_type": "markdown",
   "metadata": {},
   "source": [
    "## Dask Model Saving Utility\n",
    "\n",
    "Since models could be either dask models or sklearn models, using just pickle or joblib may not suffice because dask models contain delayed objects. Therefore, models are saved using cloudpickle, which has been tested to work (for trivial cases, at least)."
   ]
  },
  {
   "cell_type": "code",
   "execution_count": 1,
   "metadata": {},
   "outputs": [],
   "source": [
    "def save_model(model, fname, suffix=None):\n",
    "    \"\"\"Serialize and save a dask or sklearn model\n",
    "    \n",
    "    Arguments:\n",
    "        model {dask_ml or sklearn object} -- trained model to save\n",
    "        fname {str} -- name of file to write to\n",
    "    \n",
    "    Keyword Arguments:\n",
    "        suffix {str} -- suffix in the filename (default: {None})\n",
    "                        This serves as the identifier of the current\n",
    "                        state of the model\n",
    "                        If not provided, the current timestamp is used\n",
    "    \"\"\"\n",
    "    # generate default suffix if needed\n",
    "    if suffix is None:\n",
    "        suffix = datetime.datetime.now().strftime(\"%b_%d_%Y_%H_%M_%S\")\n",
    "    \n",
    "    # serialize and write\n",
    "    with open(fname + '_' + suffix + '.cpkl', 'wb') as file:\n",
    "        cloudpickle.dump(model, file)"
   ]
  },
  {
   "cell_type": "markdown",
   "metadata": {},
   "source": [
    "## Clusters"
   ]
  },
  {
   "cell_type": "code",
   "execution_count": 17,
   "metadata": {},
   "outputs": [],
   "source": [
    "from sklearn.cluster import KMeans, SpectralClustering, DBSCAN\n",
    "from sklearn.metrics import confusion_matrix, homogeneity_completeness_v_measure, precision_recall_fscore_support"
   ]
  },
  {
   "cell_type": "markdown",
   "metadata": {},
   "source": [
    "### Distance Based"
   ]
  },
  {
   "cell_type": "code",
   "execution_count": 93,
   "metadata": {
    "collapsed": true
   },
   "outputs": [
    {
     "name": "stdout",
     "output_type": "stream",
     "text": [
      "========================================\n",
      "k= 2: H=6.848515299160378e-05, C=1.9800378535589948e-05, V=3.071923405442396e-05\n",
      "conf mat:\n",
      "[[81119  1533]\n",
      " [  336     5]]\n",
      "========================================\n",
      "k= 3: H=0.00037707201658545404, C=0.00010120982184295491, V=0.0001595853681000266\n",
      "conf mat:\n",
      "[[81118  1338   196]\n",
      " [  336     5     0]\n",
      " [    0     0     0]]\n",
      "========================================\n",
      "k= 4: H=0.0004120967325706981, C=0.00010087610130649623, V=0.00016207763451594342\n",
      "conf mat:\n",
      "[[81118   908   148   478]\n",
      " [  336     4     0     1]\n",
      " [    0     0     0     0]\n",
      " [    0     0     0     0]]\n",
      "========================================\n",
      "k= 5: H=0.0004702256468091204, C=0.00011183461948498203, V=0.0001806943690480539\n",
      "conf mat:\n",
      "[[81089   906   149   478    30]\n",
      " [  336     4     0     1     0]\n",
      " [    0     0     0     0     0]\n",
      " [    0     0     0     0     0]\n",
      " [    0     0     0     0     0]]\n",
      "========================================\n",
      "k= 6: H=0.00044448513054675645, C=9.974303213248817e-05, V=0.00016292539673169366\n",
      "conf mat:\n",
      "[[81089   624   130   326   454    29]\n",
      " [  336     3     0     1     1     0]\n",
      " [    0     0     0     0     0     0]\n",
      " [    0     0     0     0     0     0]\n",
      " [    0     0     0     0     0     0]\n",
      " [    0     0     0     0     0     0]]\n",
      "========================================\n",
      "k= 7: H=0.00047757221853384613, C=0.00010564183528245437, V=0.00017301231105696234\n",
      "conf mat:\n",
      "[[81089   684    69   272   125   384    29]\n",
      " [  336     3     0     1     0     1     0]\n",
      " [    0     0     0     0     0     0     0]\n",
      " [    0     0     0     0     0     0     0]\n",
      " [    0     0     0     0     0     0     0]\n",
      " [    0     0     0     0     0     0     0]\n",
      " [    0     0     0     0     0     0     0]]\n",
      "========================================\n",
      "k= 8: H=0.0008230870194975019, C=0.00017629472566943523, V=0.0002903913364560139\n",
      "conf mat:\n",
      "[[81089   553   106   197   332    29   301    45]\n",
      " [  336     2     0     0     1     0     2     0]\n",
      " [    0     0     0     0     0     0     0     0]\n",
      " [    0     0     0     0     0     0     0     0]\n",
      " [    0     0     0     0     0     0     0     0]\n",
      " [    0     0     0     0     0     0     0     0]\n",
      " [    0     0     0     0     0     0     0     0]\n",
      " [    0     0     0     0     0     0     0     0]]\n",
      "========================================\n",
      "k= 9: H=0.0009658610061478699, C=0.0002026164729450131, V=0.0003349646936674023\n",
      "conf mat:\n",
      "[[81089   329    94   176    29   275   500   127    33]\n",
      " [  336     1     0     0     0     1     3     0     0]\n",
      " [    0     0     0     0     0     0     0     0     0]\n",
      " [    0     0     0     0     0     0     0     0     0]\n",
      " [    0     0     0     0     0     0     0     0     0]\n",
      " [    0     0     0     0     0     0     0     0     0]\n",
      " [    0     0     0     0     0     0     0     0     0]\n",
      " [    0     0     0     0     0     0     0     0     0]\n",
      " [    0     0     0     0     0     0     0     0     0]]\n"
     ]
    }
   ],
   "source": [
    "with parallel_backend('dask'):\n",
    "    for k in range(2, 10):\n",
    "        # find kmeans clusters for current k\n",
    "        km = KMeans(n_clusters=k, random_state=42)\n",
    "        km.fit(X_arr)\n",
    "        \n",
    "        # get metrics for current k\n",
    "        h, c, v = homogeneity_completeness_v_measure(Y_train, km.labels_)\n",
    "        print(\"========================================\")\n",
    "        print(\"k={}: H={}, C={}, V={}\".format(k, h, c, v))\n",
    "        print(\"conf mat:\")\n",
    "        print(confusion_matrix(Y_train, km.labels_))"
   ]
  },
  {
   "cell_type": "code",
   "execution_count": 16,
   "metadata": {
    "collapsed": true
   },
   "outputs": [
    {
     "ename": "MemoryError",
     "evalue": "",
     "output_type": "error",
     "traceback": [
      "\u001b[0;31m---------------------------------------------------------------------------\u001b[0m",
      "\u001b[0;31mMemoryError\u001b[0m                               Traceback (most recent call last)",
      "\u001b[0;32m<ipython-input-16-7411fa244531>\u001b[0m in \u001b[0;36m<module>\u001b[0;34m\u001b[0m\n\u001b[1;32m      3\u001b[0m         \u001b[0;31m# find kmeans clusters for current k\u001b[0m\u001b[0;34m\u001b[0m\u001b[0;34m\u001b[0m\u001b[0;34m\u001b[0m\u001b[0m\n\u001b[1;32m      4\u001b[0m         \u001b[0msc\u001b[0m \u001b[0;34m=\u001b[0m \u001b[0mSpectralClustering\u001b[0m\u001b[0;34m(\u001b[0m\u001b[0mn_clusters\u001b[0m\u001b[0;34m=\u001b[0m\u001b[0mk\u001b[0m\u001b[0;34m,\u001b[0m \u001b[0mrandom_state\u001b[0m\u001b[0;34m=\u001b[0m\u001b[0;36m42\u001b[0m\u001b[0;34m)\u001b[0m\u001b[0;34m\u001b[0m\u001b[0;34m\u001b[0m\u001b[0m\n\u001b[0;32m----> 5\u001b[0;31m         \u001b[0msc\u001b[0m\u001b[0;34m.\u001b[0m\u001b[0mfit\u001b[0m\u001b[0;34m(\u001b[0m\u001b[0mX_train\u001b[0m\u001b[0;34m)\u001b[0m\u001b[0;34m\u001b[0m\u001b[0;34m\u001b[0m\u001b[0m\n\u001b[0m\u001b[1;32m      6\u001b[0m \u001b[0;34m\u001b[0m\u001b[0m\n\u001b[1;32m      7\u001b[0m         \u001b[0;31m# get metrics for current k\u001b[0m\u001b[0;34m\u001b[0m\u001b[0;34m\u001b[0m\u001b[0;34m\u001b[0m\u001b[0m\n",
      "\u001b[0;32m~/.local/share/virtualenvs/ceph_drive_failure-3-2yJKyM/lib/python3.7/site-packages/sklearn/cluster/spectral.py\u001b[0m in \u001b[0;36mfit\u001b[0;34m(self, X, y)\u001b[0m\n\u001b[1;32m    482\u001b[0m             self.affinity_matrix_ = pairwise_kernels(X, metric=self.affinity,\n\u001b[1;32m    483\u001b[0m                                                      \u001b[0mfilter_params\u001b[0m\u001b[0;34m=\u001b[0m\u001b[0;32mTrue\u001b[0m\u001b[0;34m,\u001b[0m\u001b[0;34m\u001b[0m\u001b[0;34m\u001b[0m\u001b[0m\n\u001b[0;32m--> 484\u001b[0;31m                                                      **params)\n\u001b[0m\u001b[1;32m    485\u001b[0m \u001b[0;34m\u001b[0m\u001b[0m\n\u001b[1;32m    486\u001b[0m         \u001b[0mrandom_state\u001b[0m \u001b[0;34m=\u001b[0m \u001b[0mcheck_random_state\u001b[0m\u001b[0;34m(\u001b[0m\u001b[0mself\u001b[0m\u001b[0;34m.\u001b[0m\u001b[0mrandom_state\u001b[0m\u001b[0;34m)\u001b[0m\u001b[0;34m\u001b[0m\u001b[0;34m\u001b[0m\u001b[0m\n",
      "\u001b[0;32m~/.local/share/virtualenvs/ceph_drive_failure-3-2yJKyM/lib/python3.7/site-packages/sklearn/metrics/pairwise.py\u001b[0m in \u001b[0;36mpairwise_kernels\u001b[0;34m(X, Y, metric, filter_params, n_jobs, **kwds)\u001b[0m\n\u001b[1;32m   1743\u001b[0m         \u001b[0;32mraise\u001b[0m \u001b[0mValueError\u001b[0m\u001b[0;34m(\u001b[0m\u001b[0;34m\"Unknown kernel %r\"\u001b[0m \u001b[0;34m%\u001b[0m \u001b[0mmetric\u001b[0m\u001b[0;34m)\u001b[0m\u001b[0;34m\u001b[0m\u001b[0;34m\u001b[0m\u001b[0m\n\u001b[1;32m   1744\u001b[0m \u001b[0;34m\u001b[0m\u001b[0m\n\u001b[0;32m-> 1745\u001b[0;31m     \u001b[0;32mreturn\u001b[0m \u001b[0m_parallel_pairwise\u001b[0m\u001b[0;34m(\u001b[0m\u001b[0mX\u001b[0m\u001b[0;34m,\u001b[0m \u001b[0mY\u001b[0m\u001b[0;34m,\u001b[0m \u001b[0mfunc\u001b[0m\u001b[0;34m,\u001b[0m \u001b[0mn_jobs\u001b[0m\u001b[0;34m,\u001b[0m \u001b[0;34m**\u001b[0m\u001b[0mkwds\u001b[0m\u001b[0;34m)\u001b[0m\u001b[0;34m\u001b[0m\u001b[0;34m\u001b[0m\u001b[0m\n\u001b[0m",
      "\u001b[0;32m~/.local/share/virtualenvs/ceph_drive_failure-3-2yJKyM/lib/python3.7/site-packages/sklearn/metrics/pairwise.py\u001b[0m in \u001b[0;36m_parallel_pairwise\u001b[0;34m(X, Y, func, n_jobs, **kwds)\u001b[0m\n\u001b[1;32m   1208\u001b[0m     \u001b[0;31m# enforce a threading backend to prevent data communication overhead\u001b[0m\u001b[0;34m\u001b[0m\u001b[0;34m\u001b[0m\u001b[0;34m\u001b[0m\u001b[0m\n\u001b[1;32m   1209\u001b[0m     \u001b[0mfd\u001b[0m \u001b[0;34m=\u001b[0m \u001b[0mdelayed\u001b[0m\u001b[0;34m(\u001b[0m\u001b[0m_dist_wrapper\u001b[0m\u001b[0;34m)\u001b[0m\u001b[0;34m\u001b[0m\u001b[0;34m\u001b[0m\u001b[0m\n\u001b[0;32m-> 1210\u001b[0;31m     \u001b[0mret\u001b[0m \u001b[0;34m=\u001b[0m \u001b[0mnp\u001b[0m\u001b[0;34m.\u001b[0m\u001b[0mempty\u001b[0m\u001b[0;34m(\u001b[0m\u001b[0;34m(\u001b[0m\u001b[0mX\u001b[0m\u001b[0;34m.\u001b[0m\u001b[0mshape\u001b[0m\u001b[0;34m[\u001b[0m\u001b[0;36m0\u001b[0m\u001b[0;34m]\u001b[0m\u001b[0;34m,\u001b[0m \u001b[0mY\u001b[0m\u001b[0;34m.\u001b[0m\u001b[0mshape\u001b[0m\u001b[0;34m[\u001b[0m\u001b[0;36m0\u001b[0m\u001b[0;34m]\u001b[0m\u001b[0;34m)\u001b[0m\u001b[0;34m,\u001b[0m \u001b[0mdtype\u001b[0m\u001b[0;34m=\u001b[0m\u001b[0mdtype\u001b[0m\u001b[0;34m,\u001b[0m \u001b[0morder\u001b[0m\u001b[0;34m=\u001b[0m\u001b[0;34m'F'\u001b[0m\u001b[0;34m)\u001b[0m\u001b[0;34m\u001b[0m\u001b[0;34m\u001b[0m\u001b[0m\n\u001b[0m\u001b[1;32m   1211\u001b[0m     Parallel(backend=\"threading\", n_jobs=n_jobs)(\n\u001b[1;32m   1212\u001b[0m         \u001b[0mfd\u001b[0m\u001b[0;34m(\u001b[0m\u001b[0mfunc\u001b[0m\u001b[0;34m,\u001b[0m \u001b[0mret\u001b[0m\u001b[0;34m,\u001b[0m \u001b[0ms\u001b[0m\u001b[0;34m,\u001b[0m \u001b[0mX\u001b[0m\u001b[0;34m,\u001b[0m \u001b[0mY\u001b[0m\u001b[0;34m[\u001b[0m\u001b[0ms\u001b[0m\u001b[0;34m]\u001b[0m\u001b[0;34m,\u001b[0m \u001b[0;34m**\u001b[0m\u001b[0mkwds\u001b[0m\u001b[0;34m)\u001b[0m\u001b[0;34m\u001b[0m\u001b[0;34m\u001b[0m\u001b[0m\n",
      "\u001b[0;31mMemoryError\u001b[0m: "
     ]
    }
   ],
   "source": [
    "with parallel_backend('dask'):\n",
    "    for k in range(2, 6):\n",
    "        # find kmeans clusters for current k\n",
    "        sc = SpectralClustering(n_clusters=k, random_state=42)\n",
    "        sc.fit(X_arr)\n",
    "        \n",
    "        # get metrics for current k\n",
    "        h, c, v = homogeneity_completeness_v_measure(Y_train, sc.labels_)\n",
    "        print(\"========================================\")\n",
    "        print(\"k={}: H={}, C={}, V={}\".format(k, h, c, v))\n",
    "        print(\"conf mat:\")\n",
    "        print(confusion_matrix(Y_train, sc.labels_))"
   ]
  },
  {
   "cell_type": "markdown",
   "metadata": {},
   "source": [
    "### Density Based\n",
    "To use density based clkustering, we must find a good metric and its \"threshold\" value for points belonging in a cluster. This requires tuning."
   ]
  },
  {
   "cell_type": "code",
   "execution_count": 25,
   "metadata": {},
   "outputs": [
    {
     "data": {
      "text/plain": [
       "Index(['6VDHZ9H9', '6VDHZAKY', '6VDHZATY', '6VDHZAXD', '6VDHZB48'], dtype='object', name='serial_number')"
      ]
     },
     "execution_count": 25,
     "metadata": {},
     "output_type": "execute_result"
    }
   ],
   "source": [
    "from sklearn.neighbors import DistanceMetric\n",
    "man = DistanceMetric.get_metric('manhattan')\n",
    "X_df.index.head()"
   ]
  },
  {
   "cell_type": "code",
   "execution_count": 36,
   "metadata": {},
   "outputs": [
    {
     "data": {
      "text/plain": [
       "38.522346242013505"
      ]
     },
     "execution_count": 36,
     "metadata": {},
     "output_type": "execute_result"
    }
   ],
   "source": [
    "foo = X_df.loc['6VDHZAXD', :].compute()\n",
    "# bar = X_df.loc['6VDHZATY', :].compute()\n",
    "import scipy\n",
    "scipy.spatial.distance.cityblock(foo, bar)"
   ]
  },
  {
   "cell_type": "code",
   "execution_count": 39,
   "metadata": {
    "collapsed": true
   },
   "outputs": [
    {
     "name": "stdout",
     "output_type": "stream",
     "text": [
      "========================================\n",
      "e=1: H=0.0040969275756273325, C=0.0005331403538892181, V=0.0009435012404910959\n",
      "conf mat:\n",
      "[[    0     0     0 ...     0     0     0]\n",
      " [80478     5    11 ...     5     6     4]\n",
      " [  341     0     0 ...     0     0     0]\n",
      " ...\n",
      " [    0     0     0 ...     0     0     0]\n",
      " [    0     0     0 ...     0     0     0]\n",
      " [    0     0     0 ...     0     0     0]]\n",
      "========================================\n",
      "e=2: H=0.1669530204593021, C=0.0017809033841935226, V=0.00352421365383619\n",
      "conf mat:\n",
      "[[    0     0     0 ...     0     0     0]\n",
      " [26300 13254   119 ...     5     3     3]\n",
      " [  337     1     0 ...     0     0     0]\n",
      " ...\n",
      " [    0     0     0 ...     0     0     0]\n",
      " [    0     0     0 ...     0     0     0]\n",
      " [    0     0     0 ...     0     0     0]]\n",
      "========================================\n",
      "e=3: H=0.32776595457007096, C=0.004098996279768483, V=0.008096735885950135\n",
      "conf mat:\n",
      "[[    0     0     0 ...     0     0     0]\n",
      " [ 8132 16991    21 ...    21     5     5]\n",
      " [  331     4     0 ...     0     0     0]\n",
      " ...\n",
      " [    0     0     0 ...     0     0     0]\n",
      " [    0     0     0 ...     0     0     0]\n",
      " [    0     0     0 ...     0     0     0]]\n",
      "========================================\n",
      "e=4: H=0.4098237829785913, C=0.006056014861894233, V=0.011935655126138254\n",
      "conf mat:\n",
      "[[    0     0     0 ...     0     0     0]\n",
      " [ 3825    10 21214 ...     8  1199    32]\n",
      " [  321     0     5 ...     0     0     0]\n",
      " ...\n",
      " [    0     0     0 ...     0     0     0]\n",
      " [    0     0     0 ...     0     0     0]\n",
      " [    0     0     0 ...     0     0     0]]\n",
      "========================================\n",
      "e=5: H=0.43639244244612746, C=0.00710538602028686, V=0.013983097823219073\n",
      "conf mat:\n",
      "[[    0     0     0 ...     0     0     0]\n",
      " [ 2300    11 22560 ...    12    12  1199]\n",
      " [  305     0    10 ...     0     0     0]\n",
      " ...\n",
      " [    0     0     0 ...     0     0     0]\n",
      " [    0     0     0 ...     0     0     0]\n",
      " [    0     0     0 ...     0     0     0]]\n"
     ]
    }
   ],
   "source": [
    "with parallel_backend('dask'):\n",
    "    for epsilon in range(1, 6):\n",
    "        # find kmeans clusters for current k\n",
    "        db = DBSCAN(metric='manhattan', eps=epsilon)\n",
    "        db.fit(X_arr)\n",
    "        \n",
    "        # get metrics for current k\n",
    "        h, c, v = homogeneity_completeness_v_measure(Y_train, db.labels_)\n",
    "        print(\"========================================\")\n",
    "        print(\"e={}: H={}, C={}, V={}\".format(epsilon, h, c, v))\n",
    "        print(\"conf mat:\")\n",
    "        print(confusion_matrix(Y_train, db.labels_))"
   ]
  },
  {
   "cell_type": "markdown",
   "metadata": {},
   "source": [
    "## Split Data for Models\n",
    "\n",
    "Since there is a large class imbalance in the dataset, the splitting must be done such that the percentages of classes in the splits is the same as those in the overall data."
   ]
  },
  {
   "cell_type": "code",
   "execution_count": 2,
   "metadata": {},
   "outputs": [],
   "source": [
    "from sklearn.model_selection import train_test_split"
   ]
  },
  {
   "cell_type": "code",
   "execution_count": 18,
   "metadata": {},
   "outputs": [],
   "source": [
    "# split the original dataset\n",
    "with parallel_backend('dask'):\n",
    "    X_train, X_test, Y_train, Y_test = train_test_split(X_arr, Y_arr, stratify=Y_arr)"
   ]
  },
  {
   "cell_type": "code",
   "execution_count": 157,
   "metadata": {},
   "outputs": [],
   "source": [
    "# split the reduced dataset\n",
    "with parallel_backend('dask'):\n",
    "    X_train_umap, X_test_umap, Y_train_umap, Y_test_umap = train_test_split(X_umap, Y_arr, stratify=Y_arr)"
   ]
  },
  {
   "cell_type": "markdown",
   "metadata": {},
   "source": [
    "## NOTE\n",
    "All the following models except svm have been fit on the entire dataset. They all do poorly (cant overfit)."
   ]
  },
  {
   "cell_type": "markdown",
   "metadata": {},
   "source": [
    "## XGBoost (vanilla + UMAP reduced)"
   ]
  },
  {
   "cell_type": "code",
   "execution_count": 16,
   "metadata": {},
   "outputs": [],
   "source": [
    "from dask_ml.xgboost import XGBClassifier"
   ]
  },
  {
   "cell_type": "code",
   "execution_count": 30,
   "metadata": {},
   "outputs": [
    {
     "data": {
      "text/plain": [
       "XGBClassifier(base_score=0.5, booster='gbtree', colsample_bylevel=1,\n",
       "              colsample_bynode=1, colsample_bytree=1, gamma=0,\n",
       "              learning_rate=0.1, max_delta_step=0, max_depth=6,\n",
       "              min_child_weight=1, missing=None, n_estimators=100, n_jobs=1,\n",
       "              nthread=None, objective='binary:logistic', random_state=42,\n",
       "              reg_alpha=0, reg_lambda=1, scale_pos_weight=1, seed=None,\n",
       "              silent=None, subsample=1, verbosity=1)"
      ]
     },
     "execution_count": 30,
     "metadata": {},
     "output_type": "execute_result"
    }
   ],
   "source": [
    "# vanilla classifier\n",
    "xgbc = XGBClassifier(max_depth=6, random_state=42)\n",
    "xgbc.fit(X_train_arr, Y_train)"
   ]
  },
  {
   "cell_type": "code",
   "execution_count": 32,
   "metadata": {},
   "outputs": [
    {
     "data": {
      "text/plain": [
       "array([[    0, 82652],\n",
       "       [    0,   341]])"
      ]
     },
     "execution_count": 32,
     "metadata": {},
     "output_type": "execute_result"
    }
   ],
   "source": [
    "preds = xgbc.predict(X_train_arr)\n",
    "confusion_matrix(Y_train.compute(), preds.compute())"
   ]
  },
  {
   "cell_type": "code",
   "execution_count": 33,
   "metadata": {},
   "outputs": [
    {
     "data": {
      "text/plain": [
       "XGBClassifier(base_score=0.5, booster='gbtree', colsample_bylevel=1,\n",
       "              colsample_bynode=1, colsample_bytree=1, gamma=0,\n",
       "              learning_rate=0.1, max_delta_step=0, max_depth=6,\n",
       "              min_child_weight=1, missing=None, n_estimators=100, n_jobs=1,\n",
       "              nthread=None, objective='binary:logistic', random_state=42,\n",
       "              reg_alpha=0, reg_lambda=1, scale_pos_weight=1, seed=None,\n",
       "              silent=None, subsample=1, verbosity=1)"
      ]
     },
     "execution_count": 33,
     "metadata": {},
     "output_type": "execute_result"
    }
   ],
   "source": [
    "# reduced data classifier\n",
    "xgbc_umap = XGBClassifier(max_depth=6, random_state=42)\n",
    "# xgbc_umap = XGBClassifier(learning_rate=0.1,\n",
    "#                                max_depth=3,\n",
    "#                                min_child_weight=0.5,\n",
    "#                                reg_lambda=0.01,\n",
    "#                                reg_alpha=0.01,\n",
    "#                                random_state=42)\n",
    "xgbc_umap.fit(da.from_array(X_train_umap), Y_train)"
   ]
  },
  {
   "cell_type": "code",
   "execution_count": 34,
   "metadata": {},
   "outputs": [
    {
     "data": {
      "text/plain": [
       "array([[    0, 82652],\n",
       "       [    0,   341]])"
      ]
     },
     "execution_count": 34,
     "metadata": {},
     "output_type": "execute_result"
    }
   ],
   "source": [
    "preds = xgbc_umap.predict(da.from_array(X_train_umap))\n",
    "confusion_matrix(Y_train.compute(), preds.compute())"
   ]
  },
  {
   "cell_type": "code",
   "execution_count": 35,
   "metadata": {},
   "outputs": [
    {
     "data": {
      "text/plain": [
       "2649"
      ]
     },
     "execution_count": 35,
     "metadata": {},
     "output_type": "execute_result"
    }
   ],
   "source": [
    "gc.collect()"
   ]
  },
  {
   "cell_type": "markdown",
   "metadata": {},
   "source": [
    "## SVM"
   ]
  },
  {
   "cell_type": "code",
   "execution_count": 44,
   "metadata": {},
   "outputs": [],
   "source": [
    "from sklearn.svm import SVC"
   ]
  },
  {
   "cell_type": "code",
   "execution_count": 76,
   "metadata": {},
   "outputs": [
    {
     "name": "stderr",
     "output_type": "stream",
     "text": [
      "/home/kachauha/.local/share/virtualenvs/ceph_drive_failure-3-2yJKyM/lib/python3.7/site-packages/sklearn/svm/base.py:193: FutureWarning:\n",
      "\n",
      "The default value of gamma will change from 'auto' to 'scale' in version 0.22 to account better for unscaled features. Set gamma explicitly to 'auto' or 'scale' to avoid this warning.\n",
      "\n"
     ]
    },
    {
     "data": {
      "text/plain": [
       "SVC(C=5, cache_size=200, class_weight='balanced', coef0=0.0,\n",
       "    decision_function_shape='ovr', degree=3, gamma='auto_deprecated',\n",
       "    kernel='rbf', max_iter=-1, probability=True, random_state=42,\n",
       "    shrinking=True, tol=0.001, verbose=False)"
      ]
     },
     "execution_count": 76,
     "metadata": {},
     "output_type": "execute_result"
    }
   ],
   "source": [
    "with parallel_backend('dask'):\n",
    "    svc = SVC(C=5, class_weight='balanced', probability=True, random_state=42)\n",
    "    svc.fit(X_train, Y_train)"
   ]
  },
  {
   "cell_type": "code",
   "execution_count": 77,
   "metadata": {},
   "outputs": [],
   "source": [
    "with parallel_backend('dask'):\n",
    "    prob_preds_train = svc.predict_proba(X_train)\n",
    "    prob_preds_test = svc.predict_proba(X_test)"
   ]
  },
  {
   "cell_type": "code",
   "execution_count": 78,
   "metadata": {},
   "outputs": [
    {
     "data": {
      "text/plain": [
       "<matplotlib.axes._subplots.AxesSubplot at 0x7f0847eeddd8>"
      ]
     },
     "execution_count": 78,
     "metadata": {},
     "output_type": "execute_result"
    },
    {
     "data": {
      "image/png": "[encoded data removed]",
      "text/plain": [
       "<Figure size 432x288 with 2 Axes>"
      ]
     },
     "metadata": {
      "needs_background": "light"
     },
     "output_type": "display_data"
    }
   ],
   "source": [
    "# threshold probability for model train on all data = ~0.3\n",
    "TRAIN_THRESHOLD_PROBA = 0.5\n",
    "\n",
    "# how well did it fit on the train data\n",
    "confmat_train = confusion_matrix(Y_train, prob_preds_train[:, 1] > TRAIN_THRESHOLD_PROBA)\n",
    "sns.heatmap(confmat_train / confmat_train.sum(axis=1, keepdims=True),\n",
    "            vmin=0,\n",
    "            vmax=1,\n",
    "            annot=True,\n",
    "            cmap=\"Blues\")"
   ]
  },
  {
   "cell_type": "code",
   "execution_count": 84,
   "metadata": {},
   "outputs": [
    {
     "data": {
      "text/plain": [
       "<matplotlib.axes._subplots.AxesSubplot at 0x7f0853382fd0>"
      ]
     },
     "execution_count": 84,
     "metadata": {},
     "output_type": "execute_result"
    },
    {
     "data": {
      "image/png": "[encoded data removed]",
      "text/plain": [
       "<Figure size 432x288 with 2 Axes>"
      ]
     },
     "metadata": {
      "needs_background": "light"
     },
     "output_type": "display_data"
    }
   ],
   "source": [
    "# how well does it generalize\n",
    "TEST_THRESHOLD_PROBA = 0.005\n",
    "confmat_test = confusion_matrix(Y_test, prob_preds_test[:, 1] > TEST_THRESHOLD_PROBA)\n",
    "sns.heatmap(confmat_test / confmat_test.sum(axis=1, keepdims=True),\n",
    "            vmin=0,\n",
    "            vmax=1,\n",
    "            annot=True,\n",
    "            cmap=\"Blues\")"
   ]
  },
  {
   "cell_type": "code",
   "execution_count": 149,
   "metadata": {},
   "outputs": [
    {
     "name": "stdout",
     "output_type": "stream",
     "text": [
      "p=0.330000, prec=0.656716, rec=0.517647, f=0.578947\n",
      "p=0.335000, prec=0.676923, rec=0.517647, f=0.586667\n",
      "p=0.340000, prec=0.671875, rec=0.505882, f=0.577181\n",
      "p=0.345000, prec=0.671875, rec=0.505882, f=0.577181\n",
      "p=0.350000, prec=0.666667, rec=0.494118, f=0.567568\n",
      "p=0.355000, prec=0.672131, rec=0.482353, f=0.561644\n"
     ]
    }
   ],
   "source": [
    "# grid search for best threshold proba\n",
    "for prob in np.arange(0.33, 0.36, 0.005):\n",
    "    curr_preds = prob_preds_test[:, 1] > prob\n",
    "    p, r, f, _ = precision_recall_fscore_support(y_true=Y_test, y_pred=curr_preds, average='binary')\n",
    "    print('p={:2f}, prec={:2f}, rec={:2f}, f={:2f}'.format(prob, p, r, f))"
   ]
  },
  {
   "cell_type": "markdown",
   "metadata": {},
   "source": [
    "## SVM Ensemble"
   ]
  },
  {
   "cell_type": "code",
   "execution_count": 43,
   "metadata": {},
   "outputs": [],
   "source": [
    "from sklearn.ensemble import AdaBoostClassifier"
   ]
  },
  {
   "cell_type": "code",
   "execution_count": null,
   "metadata": {},
   "outputs": [
    {
     "name": "stderr",
     "output_type": "stream",
     "text": [
      "/home/kachauha/.local/share/virtualenvs/ceph_drive_failure-3-2yJKyM/lib/python3.7/site-packages/sklearn/svm/base.py:193: FutureWarning:\n",
      "\n",
      "The default value of gamma will change from 'auto' to 'scale' in version 0.22 to account better for unscaled features. Set gamma explicitly to 'auto' or 'scale' to avoid this warning.\n",
      "\n",
      "/home/kachauha/.local/share/virtualenvs/ceph_drive_failure-3-2yJKyM/lib/python3.7/site-packages/sklearn/svm/base.py:193: FutureWarning:\n",
      "\n",
      "The default value of gamma will change from 'auto' to 'scale' in version 0.22 to account better for unscaled features. Set gamma explicitly to 'auto' or 'scale' to avoid this warning.\n",
      "\n",
      "/home/kachauha/.local/share/virtualenvs/ceph_drive_failure-3-2yJKyM/lib/python3.7/site-packages/sklearn/svm/base.py:193: FutureWarning:\n",
      "\n",
      "The default value of gamma will change from 'auto' to 'scale' in version 0.22 to account better for unscaled features. Set gamma explicitly to 'auto' or 'scale' to avoid this warning.\n",
      "\n",
      "distributed.nanny - WARNING - Restarting worker\n",
      "distributed.nanny - WARNING - Restarting worker\n",
      "distributed.nanny - WARNING - Restarting worker\n",
      "distributed.nanny - WARNING - Restarting worker\n",
      "distributed.nanny - WARNING - Restarting worker\n",
      "distributed.nanny - WARNING - Restarting worker\n",
      "distributed.nanny - WARNING - Restarting worker\n",
      "distributed.nanny - WARNING - Restarting worker\n",
      "distributed.nanny - WARNING - Restarting worker\n",
      "distributed.nanny - WARNING - Restarting worker\n",
      "distributed.nanny - WARNING - Restarting worker\n",
      "distributed.nanny - WARNING - Restarting worker\n",
      "distributed.nanny - WARNING - Worker process 30959 exited with status 1\n",
      "distributed.nanny - WARNING - Worker process 30961 exited with status 1\n",
      "distributed.nanny - WARNING - Worker process 30964 exited with status 1\n",
      "distributed.nanny - WARNING - Worker process 30956 exited with status 1\n",
      "distributed.nanny - WARNING - Restarting worker\n",
      "distributed.nanny - WARNING - Restarting worker\n",
      "distributed.nanny - WARNING - Restarting worker\n",
      "distributed.nanny - WARNING - Restarting worker\n",
      "distributed.nanny - WARNING - Worker process 31002 exited with status 1\n",
      "distributed.nanny - WARNING - Worker process 30999 exited with status 1\n",
      "distributed.nanny - WARNING - Worker process 31004 exited with status 1\n",
      "distributed.nanny - WARNING - Worker process 30996 exited with status 1\n",
      "distributed.nanny - WARNING - Restarting worker\n",
      "distributed.nanny - WARNING - Restarting worker\n",
      "distributed.nanny - WARNING - Restarting worker\n",
      "distributed.nanny - WARNING - Restarting worker\n",
      "distributed.nanny - WARNING - Worker process 31039 exited with status 1\n",
      "distributed.nanny - WARNING - Worker process 31042 exited with status 1\n",
      "distributed.nanny - WARNING - Worker process 31036 exited with status 1\n",
      "distributed.nanny - WARNING - Worker process 31058 exited with status 1\n",
      "distributed.nanny - WARNING - Restarting worker\n",
      "distributed.nanny - WARNING - Restarting worker\n",
      "distributed.nanny - WARNING - Restarting worker\n",
      "distributed.nanny - WARNING - Restarting worker\n",
      "distributed.nanny - WARNING - Worker process 31078 exited with status 1\n",
      "distributed.nanny - WARNING - Worker process 31076 exited with status 1\n",
      "distributed.nanny - WARNING - Worker process 31084 exited with status 1\n",
      "distributed.nanny - WARNING - Worker process 31082 exited with status 1\n",
      "distributed.nanny - WARNING - Restarting worker\n",
      "distributed.nanny - WARNING - Restarting worker\n",
      "distributed.nanny - WARNING - Restarting worker\n",
      "distributed.nanny - WARNING - Restarting worker\n",
      "distributed.nanny - WARNING - Worker process 31124 exited with status 1\n",
      "distributed.nanny - WARNING - Worker process 31121 exited with status 1\n",
      "distributed.nanny - WARNING - Worker process 31116 exited with status 1\n",
      "distributed.nanny - WARNING - Worker process 31119 exited with status 1\n",
      "distributed.nanny - WARNING - Restarting worker\n",
      "distributed.nanny - WARNING - Restarting worker\n",
      "distributed.nanny - WARNING - Restarting worker\n",
      "distributed.nanny - WARNING - Restarting worker\n",
      "distributed.nanny - WARNING - Worker process 31163 exited with status 1\n",
      "distributed.nanny - WARNING - Worker process 31165 exited with status 1\n",
      "distributed.nanny - WARNING - Worker process 31157 exited with status 1\n",
      "distributed.nanny - WARNING - Worker process 31160 exited with status 1\n",
      "distributed.nanny - WARNING - Restarting worker\n",
      "distributed.nanny - WARNING - Restarting worker\n",
      "distributed.nanny - WARNING - Restarting worker\n",
      "distributed.nanny - WARNING - Restarting worker\n",
      "distributed.nanny - WARNING - Worker process 31202 exited with status 1\n",
      "distributed.nanny - WARNING - Worker process 31200 exited with status 1\n",
      "distributed.nanny - WARNING - Worker process 31205 exited with status 1\n",
      "distributed.nanny - WARNING - Worker process 31196 exited with status 1\n",
      "distributed.nanny - WARNING - Restarting worker\n",
      "distributed.nanny - WARNING - Restarting worker\n",
      "distributed.nanny - WARNING - Restarting worker\n",
      "distributed.nanny - WARNING - Restarting worker\n",
      "distributed.nanny - WARNING - Worker process 31243 exited with status 1\n",
      "distributed.nanny - WARNING - Worker process 31237 exited with status 1\n",
      "distributed.nanny - WARNING - Worker process 31240 exited with status 1\n",
      "distributed.nanny - WARNING - Worker process 31245 exited with status 1\n",
      "distributed.nanny - WARNING - Restarting worker\n",
      "distributed.nanny - WARNING - Restarting worker\n",
      "distributed.nanny - WARNING - Restarting worker\n",
      "distributed.nanny - WARNING - Restarting worker\n",
      "distributed.nanny - WARNING - Worker process 31283 exited with status 1\n",
      "distributed.nanny - WARNING - Worker process 31280 exited with status 1\n",
      "distributed.nanny - WARNING - Worker process 31277 exited with status 1\n",
      "distributed.nanny - WARNING - Worker process 31285 exited with status 1\n",
      "distributed.nanny - WARNING - Restarting worker\n",
      "distributed.nanny - WARNING - Restarting worker\n",
      "distributed.nanny - WARNING - Restarting worker\n",
      "distributed.nanny - WARNING - Restarting worker\n"
     ]
    }
   ],
   "source": [
    "with parallel_backend('dask'):\n",
    "    # init adaboosted ensemble of svm classifiers\n",
    "    ada_base_learner = SVC(C=2.5, class_weight='balanced', probability=True, random_state=42)\n",
    "    ada_clf = AdaBoostClassifier(base_estimator=ada_base_learner,\n",
    "                                n_estimators=100,\n",
    "                                learning_rate=0.5,\n",
    "                                random_state=42)\n",
    "    # training time\n",
    "    ada_clf.fit(X_train, Y_train)"
   ]
  },
  {
   "cell_type": "code",
   "execution_count": null,
   "metadata": {},
   "outputs": [],
   "source": [
    "# how well did it do\n",
    "with parallel_backend('dask'):\n",
    "    ada_probs_train = ada_clf.predict_proba(X_train)\n",
    "    ada_probs_test = ada_clf.predict_proba(X_test)"
   ]
  },
  {
   "cell_type": "code",
   "execution_count": null,
   "metadata": {},
   "outputs": [],
   "source": [
    "TRAIN_THRESHOLD_PROBA = 0.5\n",
    "ada_confmat_train = confusion_matrix(Y_train, ada_probs_train[:, 1] > TRAIN_THRESHOLD_PROBA)\n",
    "sns.heatmap(ada_confmat_train / ada_confmat_train.sum(axis=1, keepdims=True),\n",
    "            vmin=0,\n",
    "            vmax=1,\n",
    "            annot=True,\n",
    "            cmap=\"Blues\")"
   ]
  },
  {
   "cell_type": "code",
   "execution_count": null,
   "metadata": {},
   "outputs": [],
   "source": [
    "TEST_THRESHOLD_PROBA = 0.005\n",
    "ada_confmat_test = confusion_matrix(Y_test, ada_probs_test[:, 1] > TEST_THRESHOLD_PROBA)\n",
    "sns.heatmap(ada_confmat_test / ada_confmat_test.sum(axis=1, keepdims=True),\n",
    "            vmin=0,\n",
    "            vmax=1,\n",
    "            annot=True,\n",
    "            cmap=\"Blues\")"
   ]
  },
  {
   "cell_type": "markdown",
   "metadata": {},
   "source": [
    "## RGF"
   ]
  },
  {
   "cell_type": "code",
   "execution_count": 19,
   "metadata": {},
   "outputs": [
    {
     "name": "stderr",
     "output_type": "stream",
     "text": [
      "/home/kachauha/.local/share/virtualenvs/ceph_drive_failure-3-2yJKyM/lib/python3.7/site-packages/sklearn/externals/joblib/__init__.py:15: DeprecationWarning:\n",
      "\n",
      "sklearn.externals.joblib is deprecated in 0.21 and will be removed in 0.23. Please import this functionality directly from joblib, which can be installed with: pip install joblib. If this warning is raised when loading pickled models, you may need to re-serialize those models with scikit-learn 0.21+.\n",
      "\n",
      "/home/kachauha/.local/share/virtualenvs/ceph_drive_failure-3-2yJKyM/lib/python3.7/site-packages/sklearn/externals/six.py:31: DeprecationWarning:\n",
      "\n",
      "The module is deprecated in version 0.21 and will be removed in version 0.23 since we've dropped support for Python 2.7. Please rely on the official version of six (https://pypi.org/project/six/).\n",
      "\n"
     ]
    }
   ],
   "source": [
    "from rgf.sklearn import RGFClassifier"
   ]
  },
  {
   "cell_type": "code",
   "execution_count": 21,
   "metadata": {},
   "outputs": [
    {
     "data": {
      "text/plain": [
       "RGFClassifier(algorithm='RGF', calc_prob='sigmoid', init_model=None, l2=1e-10,\n",
       "              learning_rate=0.01, loss='Log', max_leaf=5000,\n",
       "              memory_policy='generous', min_samples_leaf=10, n_iter=None,\n",
       "              n_jobs=-1, n_tree_search=1, normalize=False, opt_interval=100,\n",
       "              reg_depth=1.0, sl2=None, test_interval=100, verbose=0)"
      ]
     },
     "execution_count": 21,
     "metadata": {},
     "output_type": "execute_result"
    }
   ],
   "source": [
    "with parallel_backend('dask'):\n",
    "    rgfc = RGFClassifier(max_leaf=5000, l2=1e-10, learning_rate=0.01)\n",
    "    rgfc.fit(X_train, Y_train)"
   ]
  },
  {
   "cell_type": "code",
   "execution_count": 22,
   "metadata": {},
   "outputs": [],
   "source": [
    "with parallel_backend('dask'):\n",
    "    rgf_prob_preds_train = rgfc.predict_proba(X_train)\n",
    "    rgf_prob_preds_test = rgfc.predict_proba(X_test)"
   ]
  },
  {
   "cell_type": "code",
   "execution_count": 31,
   "metadata": {},
   "outputs": [
    {
     "data": {
      "text/plain": [
       "<matplotlib.axes._subplots.AxesSubplot at 0x7f687843e358>"
      ]
     },
     "execution_count": 31,
     "metadata": {},
     "output_type": "execute_result"
    },
    {
     "data": {
      "image/png": "[encoded data removed]",
      "text/plain": [
       "<Figure size 432x288 with 2 Axes>"
      ]
     },
     "metadata": {
      "needs_background": "light"
     },
     "output_type": "display_data"
    }
   ],
   "source": [
    "# threshold probability for model test on all data = ~0.3\n",
    "TEST_THRESHOLD_PROBA = 0.001\n",
    "\n",
    "# how well did it fit on the test data\n",
    "rgf_confmat_test = confusion_matrix(Y_test, rgf_prob_preds_test[:, 1] > TEST_THRESHOLD_PROBA)\n",
    "sns.heatmap(rgf_confmat_test / rgf_confmat_test.sum(axis=1, keepdims=True),\n",
    "            vmin=0,\n",
    "            vmax=1,\n",
    "            annot=True,\n",
    "            cmap=\"Blues\")"
   ]
  },
  {
   "cell_type": "code",
   "execution_count": 34,
   "metadata": {},
   "outputs": [
    {
     "name": "stdout",
     "output_type": "stream",
     "text": [
      "p=0.000100, prec=0.912088, rec=0.976471, f=0.943182\n",
      "p=0.000200, prec=0.931818, rec=0.964706, f=0.947977\n",
      "p=0.000300, prec=0.942529, rec=0.964706, f=0.953488\n",
      "p=0.000400, prec=0.942529, rec=0.964706, f=0.953488\n",
      "p=0.000500, prec=0.942529, rec=0.964706, f=0.953488\n",
      "p=0.000600, prec=0.942529, rec=0.964706, f=0.953488\n",
      "p=0.000700, prec=0.942529, rec=0.964706, f=0.953488\n",
      "p=0.000800, prec=0.942529, rec=0.964706, f=0.953488\n",
      "p=0.000900, prec=0.942529, rec=0.964706, f=0.953488\n",
      "p=0.001000, prec=0.942529, rec=0.964706, f=0.953488\n",
      "p=0.001100, prec=0.942529, rec=0.964706, f=0.953488\n",
      "p=0.001200, prec=0.942529, rec=0.964706, f=0.953488\n",
      "p=0.001300, prec=0.942529, rec=0.964706, f=0.953488\n",
      "p=0.001400, prec=0.942529, rec=0.964706, f=0.953488\n",
      "p=0.001500, prec=0.942529, rec=0.964706, f=0.953488\n",
      "p=0.001600, prec=0.942529, rec=0.964706, f=0.953488\n",
      "p=0.001700, prec=0.942529, rec=0.964706, f=0.953488\n",
      "p=0.001800, prec=0.942529, rec=0.964706, f=0.953488\n",
      "p=0.001900, prec=0.942529, rec=0.964706, f=0.953488\n",
      "p=0.002000, prec=0.942529, rec=0.964706, f=0.953488\n",
      "p=0.002100, prec=0.941860, rec=0.952941, f=0.947368\n",
      "p=0.002200, prec=0.952941, rec=0.952941, f=0.952941\n",
      "p=0.002300, prec=0.952941, rec=0.952941, f=0.952941\n",
      "p=0.002400, prec=0.952941, rec=0.952941, f=0.952941\n",
      "p=0.002500, prec=0.952941, rec=0.952941, f=0.952941\n",
      "p=0.002600, prec=0.964286, rec=0.952941, f=0.958580\n",
      "p=0.002700, prec=0.964286, rec=0.952941, f=0.958580\n",
      "p=0.002800, prec=0.964286, rec=0.952941, f=0.958580\n",
      "p=0.002900, prec=0.964286, rec=0.952941, f=0.958580\n",
      "p=0.003000, prec=0.964286, rec=0.952941, f=0.958580\n",
      "p=0.003100, prec=0.964286, rec=0.952941, f=0.958580\n",
      "p=0.003200, prec=0.964286, rec=0.952941, f=0.958580\n",
      "p=0.003300, prec=0.964286, rec=0.952941, f=0.958580\n",
      "p=0.003400, prec=0.963855, rec=0.941176, f=0.952381\n",
      "p=0.003500, prec=0.963855, rec=0.941176, f=0.952381\n",
      "p=0.003600, prec=0.963855, rec=0.941176, f=0.952381\n",
      "p=0.003700, prec=0.963855, rec=0.941176, f=0.952381\n",
      "p=0.003800, prec=0.963855, rec=0.941176, f=0.952381\n",
      "p=0.003900, prec=0.963855, rec=0.941176, f=0.952381\n",
      "p=0.004000, prec=0.963855, rec=0.941176, f=0.952381\n",
      "p=0.004100, prec=0.963855, rec=0.941176, f=0.952381\n",
      "p=0.004200, prec=0.963855, rec=0.941176, f=0.952381\n",
      "p=0.004300, prec=0.963855, rec=0.941176, f=0.952381\n",
      "p=0.004400, prec=0.963855, rec=0.941176, f=0.952381\n",
      "p=0.004500, prec=0.963855, rec=0.941176, f=0.952381\n",
      "p=0.004600, prec=0.963855, rec=0.941176, f=0.952381\n",
      "p=0.004700, prec=0.963855, rec=0.941176, f=0.952381\n",
      "p=0.004800, prec=0.963855, rec=0.941176, f=0.952381\n",
      "p=0.004900, prec=0.963415, rec=0.929412, f=0.946108\n",
      "p=0.005000, prec=0.963415, rec=0.929412, f=0.946108\n",
      "p=0.005100, prec=0.963415, rec=0.929412, f=0.946108\n",
      "p=0.005200, prec=0.963415, rec=0.929412, f=0.946108\n",
      "p=0.005300, prec=0.963415, rec=0.929412, f=0.946108\n",
      "p=0.005400, prec=0.963415, rec=0.929412, f=0.946108\n",
      "p=0.005500, prec=0.963415, rec=0.929412, f=0.946108\n",
      "p=0.005600, prec=0.963415, rec=0.929412, f=0.946108\n",
      "p=0.005700, prec=0.963415, rec=0.929412, f=0.946108\n",
      "p=0.005800, prec=0.963415, rec=0.929412, f=0.946108\n",
      "p=0.005900, prec=0.963415, rec=0.929412, f=0.946108\n",
      "p=0.006000, prec=0.963415, rec=0.929412, f=0.946108\n",
      "p=0.006100, prec=0.963415, rec=0.929412, f=0.946108\n",
      "p=0.006200, prec=0.963415, rec=0.929412, f=0.946108\n",
      "p=0.006300, prec=0.963415, rec=0.929412, f=0.946108\n",
      "p=0.006400, prec=0.963415, rec=0.929412, f=0.946108\n",
      "p=0.006500, prec=0.963415, rec=0.929412, f=0.946108\n",
      "p=0.006600, prec=0.963415, rec=0.929412, f=0.946108\n",
      "p=0.006700, prec=0.963415, rec=0.929412, f=0.946108\n",
      "p=0.006800, prec=0.975309, rec=0.929412, f=0.951807\n",
      "p=0.006900, prec=0.975309, rec=0.929412, f=0.951807\n",
      "p=0.007000, prec=0.975309, rec=0.929412, f=0.951807\n",
      "p=0.007100, prec=0.975309, rec=0.929412, f=0.951807\n",
      "p=0.007200, prec=0.975309, rec=0.929412, f=0.951807\n",
      "p=0.007300, prec=0.975309, rec=0.929412, f=0.951807\n",
      "p=0.007400, prec=0.975309, rec=0.929412, f=0.951807\n",
      "p=0.007500, prec=0.975309, rec=0.929412, f=0.951807\n",
      "p=0.007600, prec=0.975309, rec=0.929412, f=0.951807\n",
      "p=0.007700, prec=0.975309, rec=0.929412, f=0.951807\n",
      "p=0.007800, prec=0.975309, rec=0.929412, f=0.951807\n",
      "p=0.007900, prec=0.975309, rec=0.929412, f=0.951807\n",
      "p=0.008000, prec=0.975309, rec=0.929412, f=0.951807\n",
      "p=0.008100, prec=0.975309, rec=0.929412, f=0.951807\n",
      "p=0.008200, prec=0.975309, rec=0.929412, f=0.951807\n",
      "p=0.008300, prec=0.975309, rec=0.929412, f=0.951807\n",
      "p=0.008400, prec=0.975309, rec=0.929412, f=0.951807\n",
      "p=0.008500, prec=0.975309, rec=0.929412, f=0.951807\n",
      "p=0.008600, prec=0.975309, rec=0.929412, f=0.951807\n",
      "p=0.008700, prec=0.975309, rec=0.929412, f=0.951807\n",
      "p=0.008800, prec=0.975309, rec=0.929412, f=0.951807\n",
      "p=0.008900, prec=0.975309, rec=0.929412, f=0.951807\n",
      "p=0.009000, prec=0.975309, rec=0.929412, f=0.951807\n",
      "p=0.009100, prec=0.975309, rec=0.929412, f=0.951807\n",
      "p=0.009200, prec=0.975309, rec=0.929412, f=0.951807\n",
      "p=0.009300, prec=0.975309, rec=0.929412, f=0.951807\n",
      "p=0.009400, prec=0.975309, rec=0.929412, f=0.951807\n",
      "p=0.009500, prec=0.975309, rec=0.929412, f=0.951807\n",
      "p=0.009600, prec=0.975309, rec=0.929412, f=0.951807\n",
      "p=0.009700, prec=0.975309, rec=0.929412, f=0.951807\n",
      "p=0.009800, prec=0.975309, rec=0.929412, f=0.951807\n"
     ]
    },
    {
     "name": "stderr",
     "output_type": "stream",
     "text": [
      "distributed.nanny - WARNING - Restarting worker\n"
     ]
    },
    {
     "name": "stdout",
     "output_type": "stream",
     "text": [
      "p=0.009900, prec=0.975309, rec=0.929412, f=0.951807\n"
     ]
    },
    {
     "name": "stderr",
     "output_type": "stream",
     "text": [
      "distributed.nanny - WARNING - Restarting worker\n",
      "distributed.nanny - WARNING - Restarting worker\n",
      "distributed.nanny - WARNING - Restarting worker\n"
     ]
    },
    {
     "name": "stdout",
     "output_type": "stream",
     "text": [
      "p=0.010000, prec=0.975309, rec=0.929412, f=0.951807\n",
      "p=0.010100, prec=0.975309, rec=0.929412, f=0.951807\n",
      "p=0.010200, prec=0.975309, rec=0.929412, f=0.951807\n",
      "p=0.010300, prec=0.975309, rec=0.929412, f=0.951807\n",
      "p=0.010400, prec=0.975309, rec=0.929412, f=0.951807\n",
      "p=0.010500, prec=0.975309, rec=0.929412, f=0.951807\n",
      "p=0.010600, prec=0.975309, rec=0.929412, f=0.951807\n",
      "p=0.010700, prec=0.975309, rec=0.929412, f=0.951807\n",
      "p=0.010800, prec=0.975309, rec=0.929412, f=0.951807\n",
      "p=0.010900, prec=0.975309, rec=0.929412, f=0.951807\n",
      "p=0.011000, prec=0.975309, rec=0.929412, f=0.951807\n",
      "p=0.011100, prec=0.975309, rec=0.929412, f=0.951807\n",
      "p=0.011200, prec=0.975309, rec=0.929412, f=0.951807\n",
      "p=0.011300, prec=0.975309, rec=0.929412, f=0.951807\n",
      "p=0.011400, prec=0.975309, rec=0.929412, f=0.951807\n",
      "p=0.011500, prec=0.975309, rec=0.929412, f=0.951807\n",
      "p=0.011600, prec=0.975309, rec=0.929412, f=0.951807\n",
      "p=0.011700, prec=0.975309, rec=0.929412, f=0.951807\n",
      "p=0.011800, prec=0.975309, rec=0.929412, f=0.951807\n",
      "p=0.011900, prec=0.975309, rec=0.929412, f=0.951807\n",
      "p=0.012000, prec=0.975309, rec=0.929412, f=0.951807\n",
      "p=0.012100, prec=0.975309, rec=0.929412, f=0.951807\n",
      "p=0.012200, prec=0.975309, rec=0.929412, f=0.951807\n",
      "p=0.012300, prec=0.975309, rec=0.929412, f=0.951807\n",
      "p=0.012400, prec=0.975309, rec=0.929412, f=0.951807\n",
      "p=0.012500, prec=0.975309, rec=0.929412, f=0.951807\n",
      "p=0.012600, prec=0.975309, rec=0.929412, f=0.951807\n",
      "p=0.012700, prec=0.975309, rec=0.929412, f=0.951807\n",
      "p=0.012800, prec=0.975309, rec=0.929412, f=0.951807\n",
      "p=0.012900, prec=0.975309, rec=0.929412, f=0.951807\n",
      "p=0.013000, prec=0.975309, rec=0.929412, f=0.951807\n",
      "p=0.013100, prec=0.975309, rec=0.929412, f=0.951807\n",
      "p=0.013200, prec=0.975309, rec=0.929412, f=0.951807\n",
      "p=0.013300, prec=0.975309, rec=0.929412, f=0.951807\n",
      "p=0.013400, prec=0.975309, rec=0.929412, f=0.951807\n",
      "p=0.013500, prec=0.975309, rec=0.929412, f=0.951807\n",
      "p=0.013600, prec=0.975309, rec=0.929412, f=0.951807\n",
      "p=0.013700, prec=0.975309, rec=0.929412, f=0.951807\n",
      "p=0.013800, prec=0.975309, rec=0.929412, f=0.951807\n",
      "p=0.013900, prec=0.975309, rec=0.929412, f=0.951807\n",
      "p=0.014000, prec=0.975309, rec=0.929412, f=0.951807\n",
      "p=0.014100, prec=0.975309, rec=0.929412, f=0.951807\n",
      "p=0.014200, prec=0.975309, rec=0.929412, f=0.951807\n",
      "p=0.014300, prec=0.975309, rec=0.929412, f=0.951807\n",
      "p=0.014400, prec=0.975309, rec=0.929412, f=0.951807\n",
      "p=0.014500, prec=0.975309, rec=0.929412, f=0.951807\n",
      "p=0.014600, prec=0.975309, rec=0.929412, f=0.951807\n",
      "p=0.014700, prec=0.975309, rec=0.929412, f=0.951807\n",
      "p=0.014800, prec=0.975309, rec=0.929412, f=0.951807\n",
      "p=0.014900, prec=0.975309, rec=0.929412, f=0.951807\n",
      "p=0.015000, prec=0.975309, rec=0.929412, f=0.951807\n",
      "p=0.015100, prec=0.975309, rec=0.929412, f=0.951807\n",
      "p=0.015200, prec=0.975309, rec=0.929412, f=0.951807\n",
      "p=0.015300, prec=0.975309, rec=0.929412, f=0.951807\n",
      "p=0.015400, prec=0.975309, rec=0.929412, f=0.951807\n",
      "p=0.015500, prec=0.975309, rec=0.929412, f=0.951807\n",
      "p=0.015600, prec=0.975309, rec=0.929412, f=0.951807\n",
      "p=0.015700, prec=0.975309, rec=0.929412, f=0.951807\n",
      "p=0.015800, prec=0.975309, rec=0.929412, f=0.951807\n",
      "p=0.015900, prec=0.975309, rec=0.929412, f=0.951807\n",
      "p=0.016000, prec=0.975309, rec=0.929412, f=0.951807\n",
      "p=0.016100, prec=0.975309, rec=0.929412, f=0.951807\n",
      "p=0.016200, prec=0.975309, rec=0.929412, f=0.951807\n",
      "p=0.016300, prec=0.975309, rec=0.929412, f=0.951807\n",
      "p=0.016400, prec=0.975309, rec=0.929412, f=0.951807\n",
      "p=0.016500, prec=0.975309, rec=0.929412, f=0.951807\n",
      "p=0.016600, prec=0.975309, rec=0.929412, f=0.951807\n",
      "p=0.016700, prec=0.975309, rec=0.929412, f=0.951807\n",
      "p=0.016800, prec=0.975309, rec=0.929412, f=0.951807\n",
      "p=0.016900, prec=0.975309, rec=0.929412, f=0.951807\n",
      "p=0.017000, prec=0.975309, rec=0.929412, f=0.951807\n",
      "p=0.017100, prec=0.975309, rec=0.929412, f=0.951807\n",
      "p=0.017200, prec=0.975309, rec=0.929412, f=0.951807\n",
      "p=0.017300, prec=0.975309, rec=0.929412, f=0.951807\n",
      "p=0.017400, prec=0.975309, rec=0.929412, f=0.951807\n",
      "p=0.017500, prec=0.975309, rec=0.929412, f=0.951807\n",
      "p=0.017600, prec=0.975309, rec=0.929412, f=0.951807\n",
      "p=0.017700, prec=0.975309, rec=0.929412, f=0.951807\n",
      "p=0.017800, prec=0.975309, rec=0.929412, f=0.951807\n",
      "p=0.017900, prec=0.975309, rec=0.929412, f=0.951807\n",
      "p=0.018000, prec=0.975309, rec=0.929412, f=0.951807\n",
      "p=0.018100, prec=0.975309, rec=0.929412, f=0.951807\n",
      "p=0.018200, prec=0.975309, rec=0.929412, f=0.951807\n",
      "p=0.018300, prec=0.975309, rec=0.929412, f=0.951807\n",
      "p=0.018400, prec=0.975309, rec=0.929412, f=0.951807\n",
      "p=0.018500, prec=0.975309, rec=0.929412, f=0.951807\n",
      "p=0.018600, prec=0.975309, rec=0.929412, f=0.951807\n",
      "p=0.018700, prec=0.975309, rec=0.929412, f=0.951807\n",
      "p=0.018800, prec=0.975309, rec=0.929412, f=0.951807\n",
      "p=0.018900, prec=0.975309, rec=0.929412, f=0.951807\n",
      "p=0.019000, prec=0.975309, rec=0.929412, f=0.951807\n",
      "p=0.019100, prec=0.975309, rec=0.929412, f=0.951807\n",
      "p=0.019200, prec=0.975309, rec=0.929412, f=0.951807\n",
      "p=0.019300, prec=0.975309, rec=0.929412, f=0.951807\n",
      "p=0.019400, prec=0.975309, rec=0.929412, f=0.951807\n",
      "p=0.019500, prec=0.975309, rec=0.929412, f=0.951807\n",
      "p=0.019600, prec=0.975309, rec=0.929412, f=0.951807\n",
      "p=0.019700, prec=0.975309, rec=0.929412, f=0.951807\n",
      "p=0.019800, prec=0.975309, rec=0.929412, f=0.951807\n",
      "p=0.019900, prec=0.975309, rec=0.929412, f=0.951807\n",
      "p=0.020000, prec=0.975309, rec=0.929412, f=0.951807\n",
      "p=0.020100, prec=0.975309, rec=0.929412, f=0.951807\n",
      "p=0.020200, prec=0.975309, rec=0.929412, f=0.951807\n",
      "p=0.020300, prec=0.975309, rec=0.929412, f=0.951807\n",
      "p=0.020400, prec=0.975309, rec=0.929412, f=0.951807\n",
      "p=0.020500, prec=0.975309, rec=0.929412, f=0.951807\n",
      "p=0.020600, prec=0.975309, rec=0.929412, f=0.951807\n",
      "p=0.020700, prec=0.975309, rec=0.929412, f=0.951807\n",
      "p=0.020800, prec=0.975309, rec=0.929412, f=0.951807\n",
      "p=0.020900, prec=0.975309, rec=0.929412, f=0.951807\n",
      "p=0.021000, prec=0.975309, rec=0.929412, f=0.951807\n",
      "p=0.021100, prec=0.975309, rec=0.929412, f=0.951807\n",
      "p=0.021200, prec=0.975309, rec=0.929412, f=0.951807\n",
      "p=0.021300, prec=0.975309, rec=0.929412, f=0.951807\n",
      "p=0.021400, prec=0.975309, rec=0.929412, f=0.951807\n",
      "p=0.021500, prec=0.975309, rec=0.929412, f=0.951807\n",
      "p=0.021600, prec=0.975309, rec=0.929412, f=0.951807\n",
      "p=0.021700, prec=0.975309, rec=0.929412, f=0.951807\n",
      "p=0.021800, prec=0.975309, rec=0.929412, f=0.951807\n",
      "p=0.021900, prec=0.975309, rec=0.929412, f=0.951807\n",
      "p=0.022000, prec=0.975309, rec=0.929412, f=0.951807\n",
      "p=0.022100, prec=0.975309, rec=0.929412, f=0.951807\n",
      "p=0.022200, prec=0.975309, rec=0.929412, f=0.951807\n",
      "p=0.022300, prec=0.975309, rec=0.929412, f=0.951807\n",
      "p=0.022400, prec=0.975309, rec=0.929412, f=0.951807\n",
      "p=0.022500, prec=0.975309, rec=0.929412, f=0.951807\n",
      "p=0.022600, prec=0.975309, rec=0.929412, f=0.951807\n",
      "p=0.022700, prec=0.975309, rec=0.929412, f=0.951807\n",
      "p=0.022800, prec=0.975309, rec=0.929412, f=0.951807\n",
      "p=0.022900, prec=0.975309, rec=0.929412, f=0.951807\n",
      "p=0.023000, prec=0.975309, rec=0.929412, f=0.951807\n",
      "p=0.023100, prec=0.975309, rec=0.929412, f=0.951807\n",
      "p=0.023200, prec=0.975309, rec=0.929412, f=0.951807\n",
      "p=0.023300, prec=0.975309, rec=0.929412, f=0.951807\n",
      "p=0.023400, prec=0.975309, rec=0.929412, f=0.951807\n",
      "p=0.023500, prec=0.975309, rec=0.929412, f=0.951807\n",
      "p=0.023600, prec=0.975309, rec=0.929412, f=0.951807\n",
      "p=0.023700, prec=0.975309, rec=0.929412, f=0.951807\n",
      "p=0.023800, prec=0.975309, rec=0.929412, f=0.951807\n",
      "p=0.023900, prec=0.975309, rec=0.929412, f=0.951807\n",
      "p=0.024000, prec=0.975309, rec=0.929412, f=0.951807\n"
     ]
    },
    {
     "name": "stderr",
     "output_type": "stream",
     "text": [
      "distributed.utils - ERROR - \"('getitem-2a343a01291f87e528b657e62f326656', 0)\"\n",
      "Traceback (most recent call last):\n",
      "  File \"/home/kachauha/.local/share/virtualenvs/ceph_drive_failure-3-2yJKyM/lib/python3.7/site-packages/distributed/utils.py\", line 713, in log_errors\n",
      "    yield\n",
      "  File \"/home/kachauha/.local/share/virtualenvs/ceph_drive_failure-3-2yJKyM/lib/python3.7/site-packages/distributed/scheduler.py\", line 2538, in gather\n",
      "    ts = self.tasks[key]\n",
      "KeyError: \"('getitem-2a343a01291f87e528b657e62f326656', 0)\"\n",
      "distributed.core - ERROR - \"('getitem-2a343a01291f87e528b657e62f326656', 0)\"\n",
      "Traceback (most recent call last):\n",
      "  File \"/home/kachauha/.local/share/virtualenvs/ceph_drive_failure-3-2yJKyM/lib/python3.7/site-packages/distributed/core.py\", line 412, in handle_comm\n",
      "    result = yield result\n",
      "  File \"/home/kachauha/.local/share/virtualenvs/ceph_drive_failure-3-2yJKyM/lib/python3.7/site-packages/tornado/gen.py\", line 729, in run\n",
      "    value = future.result()\n",
      "  File \"/home/kachauha/.local/share/virtualenvs/ceph_drive_failure-3-2yJKyM/lib/python3.7/site-packages/tornado/gen.py\", line 742, in run\n",
      "    yielded = self.gen.send(value)\n",
      "  File \"/home/kachauha/.local/share/virtualenvs/ceph_drive_failure-3-2yJKyM/lib/python3.7/site-packages/distributed/scheduler.py\", line 2538, in gather\n",
      "    ts = self.tasks[key]\n",
      "KeyError: \"('getitem-2a343a01291f87e528b657e62f326656', 0)\"\n",
      "distributed.nanny - WARNING - Restarting worker\n"
     ]
    },
    {
     "name": "stdout",
     "output_type": "stream",
     "text": [
      "p=0.024100, prec=0.975309, rec=0.929412, f=0.951807\n"
     ]
    },
    {
     "name": "stderr",
     "output_type": "stream",
     "text": [
      "distributed.nanny - WARNING - Restarting worker\n",
      "distributed.nanny - WARNING - Restarting worker\n",
      "distributed.nanny - WARNING - Restarting worker\n",
      "ERROR:root:Internal Python error in the inspect module.\n",
      "Below is the traceback from this internal error.\n",
      "\n",
      "distributed.nanny - WARNING - Worker process 19198 exited with status 1\n",
      "distributed.nanny - WARNING - Worker process 19196 exited with status 1\n",
      "distributed.nanny - WARNING - Worker process 19190 exited with status 1\n",
      "distributed.nanny - WARNING - Worker process 19193 exited with status 1\n",
      "distributed.nanny - WARNING - Restarting worker\n",
      "distributed.nanny - WARNING - Restarting worker\n"
     ]
    },
    {
     "name": "stdout",
     "output_type": "stream",
     "text": [
      "Traceback (most recent call last):\n",
      "  File \"/home/kachauha/.local/share/virtualenvs/ceph_drive_failure-3-2yJKyM/lib/python3.7/site-packages/IPython/core/interactiveshell.py\", line 3296, in run_code\n",
      "    exec(code_obj, self.user_global_ns, self.user_ns)\n",
      "  File \"<ipython-input-34-cbfbb1ea0c74>\", line 4, in <module>\n",
      "    p, r, f, _ = precision_recall_fscore_support(y_true=Y_test, y_pred=curr_preds, average='binary')\n",
      "  File \"/home/kachauha/.local/share/virtualenvs/ceph_drive_failure-3-2yJKyM/lib/python3.7/site-packages/sklearn/metrics/classification.py\", line 1421, in precision_recall_fscore_support\n",
      "    labels=labels, samplewise=samplewise)\n",
      "  File \"/home/kachauha/.local/share/virtualenvs/ceph_drive_failure-3-2yJKyM/lib/python3.7/site-packages/sklearn/metrics/classification.py\", line 396, in multilabel_confusion_matrix\n",
      "    y_type, y_true, y_pred = _check_targets(y_true, y_pred)\n",
      "  File \"/home/kachauha/.local/share/virtualenvs/ceph_drive_failure-3-2yJKyM/lib/python3.7/site-packages/sklearn/metrics/classification.py\", line 72, in _check_targets\n",
      "    type_true = type_of_target(y_true)\n",
      "  File \"/home/kachauha/.local/share/virtualenvs/ceph_drive_failure-3-2yJKyM/lib/python3.7/site-packages/sklearn/utils/multiclass.py\", line 251, in type_of_target\n",
      "    y = np.asarray(y)\n",
      "  File \"/home/kachauha/.local/share/virtualenvs/ceph_drive_failure-3-2yJKyM/lib/python3.7/site-packages/numpy/core/numeric.py\", line 538, in asarray\n",
      "    return array(a, dtype, copy=False, order=order)\n",
      "  File \"/home/kachauha/.local/share/virtualenvs/ceph_drive_failure-3-2yJKyM/lib/python3.7/site-packages/dask/array/core.py\", line 1201, in __array__\n",
      "    x = self.compute()\n",
      "  File \"/home/kachauha/.local/share/virtualenvs/ceph_drive_failure-3-2yJKyM/lib/python3.7/site-packages/dask/base.py\", line 175, in compute\n",
      "    (result,) = compute(self, traverse=False, **kwargs)\n",
      "  File \"/home/kachauha/.local/share/virtualenvs/ceph_drive_failure-3-2yJKyM/lib/python3.7/site-packages/dask/base.py\", line 446, in compute\n",
      "    results = schedule(dsk, keys, **kwargs)\n",
      "  File \"/home/kachauha/.local/share/virtualenvs/ceph_drive_failure-3-2yJKyM/lib/python3.7/site-packages/distributed/client.py\", line 2568, in get\n",
      "    results = self.gather(packed, asynchronous=asynchronous, direct=direct)\n",
      "  File \"/home/kachauha/.local/share/virtualenvs/ceph_drive_failure-3-2yJKyM/lib/python3.7/site-packages/distributed/client.py\", line 1822, in gather\n",
      "    asynchronous=asynchronous,\n",
      "  File \"/home/kachauha/.local/share/virtualenvs/ceph_drive_failure-3-2yJKyM/lib/python3.7/site-packages/distributed/client.py\", line 753, in sync\n",
      "    return sync(self.loop, func, *args, **kwargs)\n",
      "  File \"/home/kachauha/.local/share/virtualenvs/ceph_drive_failure-3-2yJKyM/lib/python3.7/site-packages/distributed/utils.py\", line 329, in sync\n",
      "    e.wait(10)\n",
      "  File \"/usr/lib64/python3.7/threading.py\", line 552, in wait\n",
      "    signaled = self._cond.wait(timeout)\n",
      "  File \"/usr/lib64/python3.7/threading.py\", line 300, in wait\n",
      "    gotit = waiter.acquire(True, timeout)\n",
      "KeyboardInterrupt\n",
      "\n",
      "During handling of the above exception, another exception occurred:\n",
      "\n",
      "Traceback (most recent call last):\n",
      "  File \"/home/kachauha/.local/share/virtualenvs/ceph_drive_failure-3-2yJKyM/lib/python3.7/site-packages/IPython/core/interactiveshell.py\", line 2033, in showtraceback\n",
      "    stb = value._render_traceback_()\n",
      "AttributeError: 'KeyboardInterrupt' object has no attribute '_render_traceback_'\n",
      "\n",
      "During handling of the above exception, another exception occurred:\n",
      "\n",
      "Traceback (most recent call last):\n",
      "  File \"/home/kachauha/.local/share/virtualenvs/ceph_drive_failure-3-2yJKyM/lib/python3.7/site-packages/IPython/core/ultratb.py\", line 1095, in get_records\n",
      "    return _fixed_getinnerframes(etb, number_of_lines_of_context, tb_offset)\n",
      "  File \"/home/kachauha/.local/share/virtualenvs/ceph_drive_failure-3-2yJKyM/lib/python3.7/site-packages/IPython/core/ultratb.py\", line 313, in wrapped\n",
      "    return f(*args, **kwargs)\n",
      "  File \"/home/kachauha/.local/share/virtualenvs/ceph_drive_failure-3-2yJKyM/lib/python3.7/site-packages/IPython/core/ultratb.py\", line 347, in _fixed_getinnerframes\n",
      "    records = fix_frame_records_filenames(inspect.getinnerframes(etb, context))\n",
      "  File \"/usr/lib64/python3.7/inspect.py\", line 1502, in getinnerframes\n",
      "    frameinfo = (tb.tb_frame,) + getframeinfo(tb, context)\n",
      "  File \"/usr/lib64/python3.7/inspect.py\", line 1460, in getframeinfo\n",
      "    filename = getsourcefile(frame) or getfile(frame)\n",
      "  File \"/usr/lib64/python3.7/inspect.py\", line 696, in getsourcefile\n",
      "    if getattr(getmodule(object, filename), '__loader__', None) is not None:\n",
      "  File \"/usr/lib64/python3.7/inspect.py\", line 742, in getmodule\n",
      "    os.path.realpath(f)] = module.__name__\n",
      "  File \"/home/kachauha/.local/share/virtualenvs/ceph_drive_failure-3-2yJKyM/lib64/python3.7/posixpath.py\", line 395, in realpath\n",
      "    path, ok = _joinrealpath(filename[:0], filename, {})\n",
      "  File \"/home/kachauha/.local/share/virtualenvs/ceph_drive_failure-3-2yJKyM/lib64/python3.7/posixpath.py\", line 429, in _joinrealpath\n",
      "    if not islink(newpath):\n",
      "  File \"/home/kachauha/.local/share/virtualenvs/ceph_drive_failure-3-2yJKyM/lib64/python3.7/posixpath.py\", line 171, in islink\n",
      "    st = os.lstat(path)\n",
      "KeyboardInterrupt\n"
     ]
    },
    {
     "ename": "KeyboardInterrupt",
     "evalue": "",
     "output_type": "error",
     "traceback": [
      "\u001b[0;31m---------------------------------------------------------------------------\u001b[0m"
     ]
    },
    {
     "name": "stderr",
     "output_type": "stream",
     "text": [
      "distributed.nanny - WARNING - Restarting worker\n"
     ]
    }
   ],
   "source": [
    "# grid search for best threshold proba\n",
    "for prob in np.arange(10e-5, 10e-2, 10e-5):\n",
    "    curr_preds = rgf_prob_preds_test[:, 1] > prob\n",
    "    p, r, f, _ = precision_recall_fscore_support(y_true=Y_test, y_pred=curr_preds, average='binary')\n",
    "    print('p={:2f}, prec={:2f}, rec={:2f}, f={:2f}'.format(prob, p, r, f))"
   ]
  },
  {
   "cell_type": "code",
   "execution_count": null,
   "metadata": {},
   "outputs": [],
   "source": []
  }
 ],
 "metadata": {
  "kernelspec": {
   "display_name": "Python 3",
   "language": "python",
   "name": "python3"
  },
  "language_info": {
   "codemirror_mode": {
    "name": "ipython",
    "version": 3
   },
   "file_extension": ".py",
   "mimetype": "text/x-python",
   "name": "python",
   "nbconvert_exporter": "python",
   "pygments_lexer": "ipython3",
   "version": "3.7.3"
  }
 },
 "nbformat": 4,
 "nbformat_minor": 2
}
