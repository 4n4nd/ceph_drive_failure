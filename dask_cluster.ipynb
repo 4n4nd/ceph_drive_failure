{
 "cells": [
  {
   "cell_type": "markdown",
   "metadata": {},
   "source": [
    "# Step 3: Cluster"
   ]
  },
  {
   "cell_type": "code",
   "execution_count": 1,
   "metadata": {},
   "outputs": [],
   "source": [
    "import os\n",
    "import gc\n",
    "import pickle\n",
    "import joblib\n",
    "import cloudpickle\n",
    "import datetime\n",
    "\n",
    "import numpy as np\n",
    "import pandas as pd\n",
    "import dask.dataframe as dd\n",
    "from dask.diagnostics import ProgressBar\n",
    "\n",
    "from matplotlib import pyplot as plt\n",
    "import seaborn as sns\n",
    "\n",
    "import pdb"
   ]
  },
  {
   "cell_type": "code",
   "execution_count": 2,
   "metadata": {},
   "outputs": [],
   "source": [
    "# register progress bar for compute calls in dask so we have an estimate of how long task will take\n",
    "pbar = ProgressBar()\n",
    "pbar.register()"
   ]
  },
  {
   "cell_type": "code",
   "execution_count": 3,
   "metadata": {},
   "outputs": [],
   "source": [
    "# inferred int64 types cause a type mismatch (int vs float) error when dask sees a null value\n",
    "# null values cannot be interpreted as ints\n",
    "custom_dtypes = {\n",
    "    \"date\": \"object\",\n",
    "    \"serial_number\": \"object\",\n",
    "    \"capacity_bytes\": \"float32\",\n",
    "    \"failure\": \"float32\",\n",
    "    \"smart_1_normalized\": \"float32\",\n",
    "    \"smart_1_raw\": \"float32\",\n",
    "    \"smart_5_normalized\": \"float32\",\n",
    "    \"smart_5_raw\": \"float32\",\n",
    "    \"smart_7_normalized\": \"float32\",\n",
    "    \"smart_7_raw\": \"float32\",\n",
    "    \"smart_10_normalized\": \"float32\",\n",
    "    \"smart_10_raw\": \"float32\",\n",
    "    \"smart_184_normalized\": \"float32\",\n",
    "    \"smart_184_raw\": \"float32\",\n",
    "    \"smart_187_normalized\": \"float32\",\n",
    "    \"smart_187_raw\": \"float32\",\n",
    "    \"smart_188_normalized\": \"float32\",\n",
    "    \"smart_188_raw\": \"float32\",\n",
    "    \"smart_189_normalized\": \"float32\",\n",
    "    \"smart_189_raw\": \"float32\",\n",
    "    \"smart_190_normalized\": \"float32\",\n",
    "    \"smart_190_raw\": \"float32\",\n",
    "    \"smart_193_normalized\": \"float32\",\n",
    "    \"smart_193_raw\": \"float32\",\n",
    "    \"smart_194_normalized\": \"float32\",\n",
    "    \"smart_194_raw\": \"float32\",\n",
    "    \"smart_197_normalized\": \"float32\",\n",
    "    \"smart_197_raw\": \"float32\",\n",
    "    \"smart_198_normalized\": \"float32\",\n",
    "    \"smart_198_raw\": \"float32\",\n",
    "    \"smart_240_normalized\": \"float32\",\n",
    "    \"smart_240_raw\": \"float32\",\n",
    "    \"smart_241_normalized\": \"float32\",\n",
    "    \"smart_241_raw\": \"float32\",\n",
    "    \"smart_242_normalized\": \"float32\",\n",
    "    \"smart_242_raw\": \"float32\"\n",
    "}"
   ]
  },
  {
   "cell_type": "code",
   "execution_count": 4,
   "metadata": {},
   "outputs": [],
   "source": [
    "# read all the cleaned seagate data into one dataframe\n",
    "DATA_DIR = \"/home/kachauha/Downloads/data_Q4_2018_clean\"\n",
    "seagate_df = dd.read_csv(os.path.join(DATA_DIR, '*.csv'), dtype=custom_dtypes)"
   ]
  },
  {
   "cell_type": "code",
   "execution_count": 5,
   "metadata": {},
   "outputs": [
    {
     "name": "stdout",
     "output_type": "stream",
     "text": [
      "[########################################] | 100% Completed | 13.9s\n"
     ]
    }
   ],
   "source": [
    "# get the serial numbers for all the failed hard drives\n",
    "failed_serials = seagate_df[seagate_df['failure']==1]['serial_number'].compute()"
   ]
  },
  {
   "cell_type": "markdown",
   "metadata": {},
   "source": [
    "## Collapse Time Dimension"
   ]
  },
  {
   "cell_type": "markdown",
   "metadata": {},
   "source": [
    "### Method 1: Mean, Std, Len"
   ]
  },
  {
   "cell_type": "code",
   "execution_count": 6,
   "metadata": {},
   "outputs": [],
   "source": [
    "# collapse time dim, drop cols that are unncessary for train data\n",
    "seagate_df_grouped = seagate_df.drop(['date', 'failure'], axis=1).groupby('serial_number')\n",
    "\n",
    "# characterize a time series by simple stats - mean,std,max,min,size,kurtosis\n",
    "means = seagate_df_grouped.mean()\n",
    "means = means.rename(columns={col: 'mean_' + col for col in means.columns})\n",
    "\n",
    "stds = seagate_df_grouped.std(ddof=0)\n",
    "stds = stds.rename(columns={col: 'std_' + col for col in stds.columns})\n",
    "stds = stds.fillna(0)    # FIXME: std returns nans even for ddof=0\n",
    "\n",
    "# maxs = seagate_df_grouped.max()\n",
    "# maxs = maxs.rename(columns={col: 'max_' + col for col in maxs.columns})\n",
    "\n",
    "# mins = seagate_df_grouped.min()\n",
    "# mins = mins.rename(columns={col: 'min_' + col for col in mins.columns})\n",
    "\n",
    "days = seagate_df_grouped.size().to_frame('days')"
   ]
  },
  {
   "cell_type": "code",
   "execution_count": 7,
   "metadata": {},
   "outputs": [],
   "source": [
    "# join stats into one df\n",
    "X_train = means.merge(right=stds, left_index=True, right_index=True)\n",
    "# X_train = X_train.merge(right=maxs, left_index=True, right_index=True)\n",
    "# X_train = X_train.merge(right=mins, left_index=True, right_index=True)\n",
    "X_train = X_train.merge(right=days, left_index=True, right_index=True)"
   ]
  },
  {
   "cell_type": "code",
   "execution_count": 18,
   "metadata": {},
   "outputs": [
    {
     "name": "stdout",
     "output_type": "stream",
     "text": [
      "[########################################] | 100% Completed | 42.1s\n"
     ]
    },
    {
     "data": {
      "text/plain": [
       "False"
      ]
     },
     "execution_count": 18,
     "metadata": {},
     "output_type": "execute_result"
    }
   ],
   "source": [
    "# sanity check - ensure no nans\n",
    "X_train.isna().any().any().compute()"
   ]
  },
  {
   "cell_type": "markdown",
   "metadata": {},
   "source": [
    "### Method 2: Exponentially Weighted Fixed Size Window Agg (TODO)"
   ]
  },
  {
   "cell_type": "code",
   "execution_count": null,
   "metadata": {},
   "outputs": [],
   "source": []
  },
  {
   "cell_type": "code",
   "execution_count": 8,
   "metadata": {},
   "outputs": [
    {
     "name": "stdout",
     "output_type": "stream",
     "text": [
      "[########################################] | 100% Completed | 44.1s\n"
     ]
    }
   ],
   "source": [
    "# get ground truth labels\n",
    "Y_train = X_train.index.isin(failed_serials).compute()"
   ]
  },
  {
   "cell_type": "markdown",
   "metadata": {},
   "source": [
    "## Preprocess"
   ]
  },
  {
   "cell_type": "code",
   "execution_count": 10,
   "metadata": {},
   "outputs": [],
   "source": [
    "from dask_ml.preprocessing import StandardScaler, RobustScaler"
   ]
  },
  {
   "cell_type": "code",
   "execution_count": 11,
   "metadata": {},
   "outputs": [
    {
     "name": "stdout",
     "output_type": "stream",
     "text": [
      "[########################################] | 100% Completed | 43.4s\n"
     ]
    }
   ],
   "source": [
    "std_scaler = StandardScaler()\n",
    "rob_scaler = RobustScaler()\n",
    "\n",
    "X_train = std_scaler.fit_transform(X_train)\n",
    "# X_train = rob_scaler.fit_transform(X_train)"
   ]
  },
  {
   "cell_type": "markdown",
   "metadata": {},
   "source": [
    "## Model Saving For Dask"
   ]
  },
  {
   "cell_type": "code",
   "execution_count": 12,
   "metadata": {},
   "outputs": [],
   "source": [
    "def save_model(model, fname, suffix=None):\n",
    "    if suffix is None:\n",
    "        suffix = datetime.datetime.now().strftime(\"%b_%d_%Y_%H_%M_%S\")\n",
    "    with open(fname + '_' + suffix + '.cpkl', 'wb') as file:\n",
    "        cloudpickle.dump(model, file)"
   ]
  },
  {
   "cell_type": "markdown",
   "metadata": {},
   "source": [
    "## Clusters"
   ]
  },
  {
   "cell_type": "code",
   "execution_count": 13,
   "metadata": {},
   "outputs": [],
   "source": [
    "from sklearn.metrics import confusion_matrix, homogeneity_completeness_v_measure"
   ]
  },
  {
   "cell_type": "markdown",
   "metadata": {},
   "source": [
    "### Option 1: Dask ML"
   ]
  },
  {
   "cell_type": "code",
   "execution_count": null,
   "metadata": {},
   "outputs": [],
   "source": [
    "from dask_ml.cluster import KMeans, SpectralClustering"
   ]
  },
  {
   "cell_type": "code",
   "execution_count": 65,
   "metadata": {
    "scrolled": true
   },
   "outputs": [
    {
     "name": "stdout",
     "output_type": "stream",
     "text": [
      "[########################################] | 100% Completed | 40.9s\n",
      "[########################################] | 100% Completed | 44.1s\n",
      "[########################################] | 100% Completed | 42.9s\n",
      "[########################################] | 100% Completed | 43.4s\n",
      "[########################################] | 100% Completed | 45.5s\n",
      "[########################################] | 100% Completed | 44.1s\n",
      "[########################################] | 100% Completed | 41.6s\n",
      "[########################################] | 100% Completed | 41.3s\n",
      "[########################################] | 100% Completed | 41.7s\n",
      "[########################################] | 100% Completed | 47.2s\n",
      "[########################################] | 100% Completed | 42.3s\n",
      "[########################################] | 100% Completed | 42.9s\n",
      "[########################################] | 100% Completed | 41.6s\n",
      "[########################################] | 100% Completed | 41.6s\n",
      "[########################################] | 100% Completed | 41.7s\n",
      "[########################################] | 100% Completed | 42.6s\n",
      "[########################################] | 100% Completed | 43.4s\n",
      "[########################################] | 100% Completed | 41.4s\n",
      "[########################################] | 100% Completed | 40.9s\n",
      "[########################################] | 100% Completed | 44.7s\n",
      "[########################################] | 100% Completed | 44.5s\n",
      "[########################################] | 100% Completed | 43.7s\n",
      "[########################################] | 100% Completed | 41.3s\n",
      "[########################################] | 100% Completed | 43.1s\n",
      "[########################################] | 100% Completed | 43.7s\n",
      "[########################################] | 100% Completed | 44.7s\n",
      "[########################################] | 100% Completed | 43.7s\n",
      "[########################################] | 100% Completed | 43.0s\n",
      "[########################################] | 100% Completed | 43.1s\n",
      "[########################################] | 100% Completed | 43.3s\n",
      "[########################################] | 100% Completed | 43.3s\n",
      "[########################################] | 100% Completed | 43.2s\n",
      "[########################################] | 100% Completed | 44.0s\n",
      "[########################################] | 100% Completed | 39.8s\n",
      "[########################################] | 100% Completed | 39.8s\n",
      "[########################################] | 100% Completed | 39.5s\n",
      "[########################################] | 100% Completed | 39.3s\n",
      "[########################################] | 100% Completed | 39.9s\n",
      "[########################################] | 100% Completed | 39.3s\n",
      "[########################################] | 100% Completed | 39.5s\n",
      "[########################################] | 100% Completed | 39.6s\n",
      "[########################################] | 100% Completed | 39.3s\n",
      "[########################################] | 100% Completed | 39.3s\n",
      "[########################################] | 100% Completed | 39.8s\n",
      "[########################################] | 100% Completed | 39.3s\n",
      "[########################################] | 100% Completed | 39.6s\n",
      "[########################################] | 100% Completed | 39.5s\n",
      "[########################################] | 100% Completed | 39.1s\n",
      "[########################################] | 100% Completed | 40.0s\n",
      "[########################################] | 100% Completed | 39.7s\n",
      "[########################################] | 100% Completed | 39.2s\n",
      "[########################################] | 100% Completed | 39.8s\n",
      "[########################################] | 100% Completed | 39.5s\n",
      "[########################################] | 100% Completed | 39.0s\n",
      "[########################################] | 100% Completed | 39.7s\n",
      "[########################################] | 100% Completed | 43.2s\n",
      "[########################################] | 100% Completed | 41.5s\n",
      "[########################################] | 100% Completed | 44.3s\n",
      "[########################################] | 100% Completed | 47.0s\n",
      "[########################################] | 100% Completed | 44.8s\n",
      "[########################################] | 100% Completed | 46.0s\n",
      "[########################################] | 100% Completed | 47.8s\n",
      "[########################################] | 100% Completed | 45.0s\n",
      "[########################################] | 100% Completed | 43.5s\n",
      "[########################################] | 100% Completed | 46.9s\n",
      "[########################################] | 100% Completed | 44.3s\n",
      "[########################################] | 100% Completed | 41.2s\n",
      "[########################################] | 100% Completed | 41.8s\n",
      "[########################################] | 100% Completed | 40.7s\n",
      "[########################################] | 100% Completed | 46.2s\n",
      "[########################################] | 100% Completed | 44.9s\n",
      "[########################################] | 100% Completed | 44.4s\n",
      "[########################################] | 100% Completed | 42.1s\n",
      "[########################################] | 100% Completed | 42.6s\n",
      "[########################################] | 100% Completed | 43.2s\n",
      "[########################################] | 100% Completed | 42.0s\n",
      "[########################################] | 100% Completed | 41.4s\n",
      "[########################################] | 100% Completed | 42.5s\n",
      "[########################################] | 100% Completed | 44.4s\n",
      "[########################################] | 100% Completed | 44.8s\n",
      "[########################################] | 100% Completed | 46.1s\n",
      "[########################################] | 100% Completed | 43.0s\n",
      "[########################################] | 100% Completed | 42.1s\n",
      "[########################################] | 100% Completed | 42.4s\n",
      "[########################################] | 100% Completed | 40.8s\n",
      "[########################################] | 100% Completed | 42.8s\n",
      "[########################################] | 100% Completed | 43.0s\n",
      "[########################################] | 100% Completed | 44.1s\n",
      "[########################################] | 100% Completed | 47.5s\n",
      "[########################################] | 100% Completed | 44.9s\n",
      "[########################################] | 100% Completed | 42.4s\n",
      "[########################################] | 100% Completed | 42.5s\n",
      "[########################################] | 100% Completed | 43.0s\n",
      "[########################################] | 100% Completed | 42.7s\n",
      "[########################################] | 100% Completed | 42.7s\n",
      "[########################################] | 100% Completed | 42.4s\n",
      "[########################################] | 100% Completed | 43.8s\n",
      "[########################################] | 100% Completed | 42.1s\n",
      "[########################################] | 100% Completed | 42.4s\n",
      "[########################################] | 100% Completed | 42.1s\n",
      "[########################################] | 100% Completed | 42.1s\n",
      "[########################################] | 100% Completed | 42.4s\n",
      "[########################################] | 100% Completed | 42.8s\n",
      "[########################################] | 100% Completed | 42.1s\n",
      "[########################################] | 100% Completed | 42.0s\n",
      "[########################################] | 100% Completed | 42.3s\n",
      "[########################################] | 100% Completed | 42.2s\n",
      "[########################################] | 100% Completed | 42.5s\n",
      "[########################################] | 100% Completed | 42.2s\n",
      "[########################################] | 100% Completed | 41.9s\n",
      "[########################################] | 100% Completed | 42.4s\n",
      "[########################################] | 100% Completed | 42.1s\n",
      "[########################################] | 100% Completed | 42.2s\n",
      "[########################################] | 100% Completed | 42.2s\n",
      "[########################################] | 100% Completed | 42.4s\n",
      "[########################################] | 100% Completed | 42.3s\n",
      "[########################################] | 100% Completed | 42.1s\n",
      "[########################################] | 100% Completed | 42.0s\n",
      "[########################################] | 100% Completed | 42.4s\n",
      "[########################################] | 100% Completed | 42.3s\n",
      "[########################################] | 100% Completed | 42.1s\n",
      "[########################################] | 100% Completed | 42.1s\n",
      "[########################################] | 100% Completed | 42.3s\n",
      "[########################################] | 100% Completed | 41.9s\n",
      "[########################################] | 100% Completed | 42.2s\n",
      "[########################################] | 100% Completed | 41.9s\n",
      "[########################################] | 100% Completed | 42.0s\n",
      "[########################################] | 100% Completed | 41.7s\n",
      "[########################################] | 100% Completed | 41.6s\n",
      "[########################################] | 100% Completed | 41.7s\n",
      "[########################################] | 100% Completed | 42.0s\n",
      "[########################################] | 100% Completed | 41.8s\n",
      "[########################################] | 100% Completed | 42.1s\n",
      "[########################################] | 100% Completed | 41.8s\n",
      "[########################################] | 100% Completed | 42.0s\n",
      "[########################################] | 100% Completed | 42.0s\n",
      "[########################################] | 100% Completed | 41.9s\n",
      "[########################################] | 100% Completed | 41.6s\n",
      "[########################################] | 100% Completed | 41.8s\n",
      "[########################################] | 100% Completed | 41.5s\n",
      "[########################################] | 100% Completed | 41.8s\n",
      "[########################################] | 100% Completed | 41.9s\n",
      "[########################################] | 100% Completed |  0.1s\n",
      "[########################################] | 100% Completed | 42.0s\n",
      "[########################################] | 100% Completed | 41.8s\n",
      "[########################################] | 100% Completed | 42.0s\n",
      "[########################################] | 100% Completed | 41.9s\n",
      "[########################################] | 100% Completed | 42.0s\n",
      "[########################################] | 100% Completed | 41.7s\n",
      "[########################################] | 100% Completed | 42.0s\n"
     ]
    }
   ],
   "source": [
    "# fit two-cluster kmeans\n",
    "kmeans = KMeans(n_clusters=3, random_state=42, tol=0.00001, max_iter=15)\n",
    "kmeans.fit(X_train)\n",
    "\n",
    "# save the model\n",
    "save_model(kmeans, 'kmeans')"
   ]
  },
  {
   "cell_type": "code",
   "execution_count": 66,
   "metadata": {
    "scrolled": true
   },
   "outputs": [
    {
     "name": "stdout",
     "output_type": "stream",
     "text": [
      "[########################################] | 100% Completed | 42.0s\n",
      "[[ 1338 81118   196]\n",
      " [    5   336     0]\n",
      " [    0     0     0]]\n"
     ]
    },
    {
     "data": {
      "text/plain": [
       "<matplotlib.axes._subplots.AxesSubplot at 0x7f5ee3076be0>"
      ]
     },
     "execution_count": 66,
     "metadata": {},
     "output_type": "execute_result"
    },
    {
     "data": {
      "image/png": "[encoded data removed]",
      "text/plain": [
       "<Figure size 432x288 with 2 Axes>"
      ]
     },
     "metadata": {
      "needs_background": "light"
     },
     "output_type": "display_data"
    }
   ],
   "source": [
    "# bring to mem for analysis\n",
    "kmeans_labels = kmeans.labels_.compute()\n",
    "\n",
    "# get conf mat\n",
    "kmeans_conf_mat = confusion_matrix(Y_train, kmeans_labels)\n",
    "print(kmeans_conf_mat)\n",
    "sns.heatmap(kmeans_conf_mat / kmeans_conf_mat.sum(axis=1, keepdims=True),\n",
    "            cmap=\"Blues\")"
   ]
  },
  {
   "cell_type": "code",
   "execution_count": 68,
   "metadata": {
    "scrolled": true
   },
   "outputs": [
    {
     "name": "stdout",
     "output_type": "stream",
     "text": [
      "[########################################] | 100% Completed | 45.7s\n",
      "[########################################] | 100% Completed | 44.9s\n",
      "[########################################] | 100% Completed | 47.4s\n",
      "[########################################] | 100% Completed |  0.3s\n"
     ]
    },
    {
     "ename": "ValueError",
     "evalue": "Input contains NaN, infinity or a value too large for dtype('float64').",
     "output_type": "error",
     "traceback": [
      "\u001b[0;31m---------------------------------------------------------------------------\u001b[0m",
      "\u001b[0;31mValueError\u001b[0m                                Traceback (most recent call last)",
      "\u001b[0;32m<ipython-input-68-9faa689071a8>\u001b[0m in \u001b[0;36m<module>\u001b[0;34m\u001b[0m\n\u001b[1;32m      1\u001b[0m \u001b[0;31m# fit two-cluster kmeans\u001b[0m\u001b[0;34m\u001b[0m\u001b[0;34m\u001b[0m\u001b[0;34m\u001b[0m\u001b[0m\n\u001b[1;32m      2\u001b[0m \u001b[0mspectral\u001b[0m \u001b[0;34m=\u001b[0m \u001b[0mSpectralClustering\u001b[0m\u001b[0;34m(\u001b[0m\u001b[0mn_clusters\u001b[0m\u001b[0;34m=\u001b[0m\u001b[0;36m2\u001b[0m\u001b[0;34m,\u001b[0m \u001b[0mpersist_embedding\u001b[0m\u001b[0;34m=\u001b[0m\u001b[0;32mTrue\u001b[0m\u001b[0;34m,\u001b[0m \u001b[0mrandom_state\u001b[0m\u001b[0;34m=\u001b[0m\u001b[0;36m42\u001b[0m\u001b[0;34m)\u001b[0m\u001b[0;34m\u001b[0m\u001b[0;34m\u001b[0m\u001b[0m\n\u001b[0;32m----> 3\u001b[0;31m \u001b[0mspectral\u001b[0m\u001b[0;34m.\u001b[0m\u001b[0mfit\u001b[0m\u001b[0;34m(\u001b[0m\u001b[0mX_train\u001b[0m\u001b[0;34m.\u001b[0m\u001b[0mto_dask_array\u001b[0m\u001b[0;34m(\u001b[0m\u001b[0mlengths\u001b[0m\u001b[0;34m=\u001b[0m\u001b[0;32mTrue\u001b[0m\u001b[0;34m)\u001b[0m\u001b[0;34m)\u001b[0m\u001b[0;34m\u001b[0m\u001b[0;34m\u001b[0m\u001b[0m\n\u001b[0m\u001b[1;32m      4\u001b[0m \u001b[0;34m\u001b[0m\u001b[0m\n\u001b[1;32m      5\u001b[0m \u001b[0;31m# save the model\u001b[0m\u001b[0;34m\u001b[0m\u001b[0;34m\u001b[0m\u001b[0;34m\u001b[0m\u001b[0m\n",
      "\u001b[0;32m~/.local/share/virtualenvs/ceph_drive_failure-3-2yJKyM/lib/python3.7/site-packages/dask_ml/cluster/spectral.py\u001b[0m in \u001b[0;36mfit\u001b[0;34m(self, X, y)\u001b[0m\n\u001b[1;32m    300\u001b[0m             \u001b[0;32mpass\u001b[0m\u001b[0;34m\u001b[0m\u001b[0;34m\u001b[0m\u001b[0m\n\u001b[1;32m    301\u001b[0m         \u001b[0mlogger\u001b[0m\u001b[0;34m.\u001b[0m\u001b[0minfo\u001b[0m\u001b[0;34m(\u001b[0m\u001b[0;34m\"k-means for assign_labels[starting]\"\u001b[0m\u001b[0;34m)\u001b[0m\u001b[0;34m\u001b[0m\u001b[0;34m\u001b[0m\u001b[0m\n\u001b[0;32m--> 302\u001b[0;31m         \u001b[0mkm\u001b[0m\u001b[0;34m.\u001b[0m\u001b[0mfit\u001b[0m\u001b[0;34m(\u001b[0m\u001b[0mU2\u001b[0m\u001b[0;34m)\u001b[0m\u001b[0;34m\u001b[0m\u001b[0;34m\u001b[0m\u001b[0m\n\u001b[0m\u001b[1;32m    303\u001b[0m         \u001b[0mlogger\u001b[0m\u001b[0;34m.\u001b[0m\u001b[0minfo\u001b[0m\u001b[0;34m(\u001b[0m\u001b[0;34m\"k-means for assign_labels[finished]\"\u001b[0m\u001b[0;34m)\u001b[0m\u001b[0;34m\u001b[0m\u001b[0;34m\u001b[0m\u001b[0m\n\u001b[1;32m    304\u001b[0m \u001b[0;34m\u001b[0m\u001b[0m\n",
      "\u001b[0;32m~/.local/share/virtualenvs/ceph_drive_failure-3-2yJKyM/lib/python3.7/site-packages/dask_ml/cluster/k_means.py\u001b[0m in \u001b[0;36mfit\u001b[0;34m(self, X, y)\u001b[0m\n\u001b[1;32m    187\u001b[0m \u001b[0;34m\u001b[0m\u001b[0m\n\u001b[1;32m    188\u001b[0m     \u001b[0;32mdef\u001b[0m \u001b[0mfit\u001b[0m\u001b[0;34m(\u001b[0m\u001b[0mself\u001b[0m\u001b[0;34m,\u001b[0m \u001b[0mX\u001b[0m\u001b[0;34m,\u001b[0m \u001b[0my\u001b[0m\u001b[0;34m=\u001b[0m\u001b[0;32mNone\u001b[0m\u001b[0;34m)\u001b[0m\u001b[0;34m:\u001b[0m\u001b[0;34m\u001b[0m\u001b[0;34m\u001b[0m\u001b[0m\n\u001b[0;32m--> 189\u001b[0;31m         \u001b[0mX\u001b[0m \u001b[0;34m=\u001b[0m \u001b[0mself\u001b[0m\u001b[0;34m.\u001b[0m\u001b[0m_check_array\u001b[0m\u001b[0;34m(\u001b[0m\u001b[0mX\u001b[0m\u001b[0;34m)\u001b[0m\u001b[0;34m\u001b[0m\u001b[0;34m\u001b[0m\u001b[0m\n\u001b[0m\u001b[1;32m    190\u001b[0m         labels, centroids, inertia, n_iter = k_means(\n\u001b[1;32m    191\u001b[0m             \u001b[0mX\u001b[0m\u001b[0;34m,\u001b[0m\u001b[0;34m\u001b[0m\u001b[0;34m\u001b[0m\u001b[0m\n",
      "\u001b[0;32m~/.local/share/virtualenvs/ceph_drive_failure-3-2yJKyM/lib/python3.7/site-packages/dask_ml/utils.py\u001b[0m in \u001b[0;36mwraps\u001b[0;34m(*args, **kwargs)\u001b[0m\n\u001b[1;32m    334\u001b[0m         \u001b[0;32mdef\u001b[0m \u001b[0mwraps\u001b[0m\u001b[0;34m(\u001b[0m\u001b[0;34m*\u001b[0m\u001b[0margs\u001b[0m\u001b[0;34m,\u001b[0m \u001b[0;34m**\u001b[0m\u001b[0mkwargs\u001b[0m\u001b[0;34m)\u001b[0m\u001b[0;34m:\u001b[0m\u001b[0;34m\u001b[0m\u001b[0;34m\u001b[0m\u001b[0m\n\u001b[1;32m    335\u001b[0m             \u001b[0;32mwith\u001b[0m \u001b[0m_timer\u001b[0m\u001b[0;34m(\u001b[0m\u001b[0mf\u001b[0m\u001b[0;34m.\u001b[0m\u001b[0m__name__\u001b[0m\u001b[0;34m,\u001b[0m \u001b[0m_logger\u001b[0m\u001b[0;34m=\u001b[0m\u001b[0mlogger\u001b[0m\u001b[0;34m,\u001b[0m \u001b[0mlevel\u001b[0m\u001b[0;34m=\u001b[0m\u001b[0mlevel\u001b[0m\u001b[0;34m)\u001b[0m\u001b[0;34m:\u001b[0m\u001b[0;34m\u001b[0m\u001b[0;34m\u001b[0m\u001b[0m\n\u001b[0;32m--> 336\u001b[0;31m                 \u001b[0mresults\u001b[0m \u001b[0;34m=\u001b[0m \u001b[0mf\u001b[0m\u001b[0;34m(\u001b[0m\u001b[0;34m*\u001b[0m\u001b[0margs\u001b[0m\u001b[0;34m,\u001b[0m \u001b[0;34m**\u001b[0m\u001b[0mkwargs\u001b[0m\u001b[0;34m)\u001b[0m\u001b[0;34m\u001b[0m\u001b[0;34m\u001b[0m\u001b[0m\n\u001b[0m\u001b[1;32m    337\u001b[0m             \u001b[0;32mreturn\u001b[0m \u001b[0mresults\u001b[0m\u001b[0;34m\u001b[0m\u001b[0;34m\u001b[0m\u001b[0m\n\u001b[1;32m    338\u001b[0m \u001b[0;34m\u001b[0m\u001b[0m\n",
      "\u001b[0;32m~/.local/share/virtualenvs/ceph_drive_failure-3-2yJKyM/lib/python3.7/site-packages/dask_ml/cluster/k_means.py\u001b[0m in \u001b[0;36m_check_array\u001b[0;34m(self, X)\u001b[0m\n\u001b[1;32m    183\u001b[0m                 \u001b[0;34m\"dtype('float64').\"\u001b[0m\u001b[0;34m\u001b[0m\u001b[0;34m\u001b[0m\u001b[0m\n\u001b[1;32m    184\u001b[0m             )\n\u001b[0;32m--> 185\u001b[0;31m             \u001b[0;32mraise\u001b[0m \u001b[0mValueError\u001b[0m\u001b[0;34m(\u001b[0m\u001b[0mmsg\u001b[0m\u001b[0;34m)\u001b[0m\u001b[0;34m\u001b[0m\u001b[0;34m\u001b[0m\u001b[0m\n\u001b[0m\u001b[1;32m    186\u001b[0m         \u001b[0;32mreturn\u001b[0m \u001b[0mX\u001b[0m\u001b[0;34m\u001b[0m\u001b[0;34m\u001b[0m\u001b[0m\n\u001b[1;32m    187\u001b[0m \u001b[0;34m\u001b[0m\u001b[0m\n",
      "\u001b[0;31mValueError\u001b[0m: Input contains NaN, infinity or a value too large for dtype('float64')."
     ]
    }
   ],
   "source": [
    "# fit two-cluster spectral\n",
    "spectral = SpectralClustering(n_clusters=2, persist_embedding=True, random_state=42)\n",
    "spectral.fit(X_train.to_dask_array(lengths=True))\n",
    "\n",
    "# save the model\n",
    "save_model(spectral, 'spectral')"
   ]
  },
  {
   "cell_type": "code",
   "execution_count": null,
   "metadata": {},
   "outputs": [],
   "source": [
    "# bring to mem for analysis\n",
    "spectral_labels = spectral.labels_.compute()\n",
    "\n",
    "# get conf mat\n",
    "spectral_conf_mat = confusion_matrix(Y_train, spectral_labels)\n",
    "print(spectral_conf_mat)\n",
    "\n",
    "sns.heatmap(spectral_conf_mat / spectral_conf_mat.sum(axis=1, keepdims=True),\n",
    "            cmap=\"Blues\")"
   ]
  },
  {
   "cell_type": "markdown",
   "metadata": {},
   "source": [
    "### Option 2: sklearn with Dask as parallel backend using joblib"
   ]
  },
  {
   "cell_type": "code",
   "execution_count": 17,
   "metadata": {},
   "outputs": [],
   "source": [
    "from joblib import parallel_backend\n",
    "# from sklearn.utils import parallel_backend    # this works too for kmeans\n",
    "\n",
    "from sklearn.cluster import KMeans, SpectralClustering, DBSCAN"
   ]
  },
  {
   "cell_type": "code",
   "execution_count": 15,
   "metadata": {},
   "outputs": [],
   "source": [
    "# start a local Dask client\n",
    "from dask.distributed import Client \n",
    "client = Client()"
   ]
  },
  {
   "cell_type": "code",
   "execution_count": 93,
   "metadata": {},
   "outputs": [
    {
     "name": "stdout",
     "output_type": "stream",
     "text": [
      "========================================\n",
      "k= 2: H=6.848515299160378e-05, C=1.9800378535589948e-05, V=3.071923405442396e-05\n",
      "conf mat:\n",
      "[[81119  1533]\n",
      " [  336     5]]\n",
      "========================================\n",
      "k= 3: H=0.00037707201658545404, C=0.00010120982184295491, V=0.0001595853681000266\n",
      "conf mat:\n",
      "[[81118  1338   196]\n",
      " [  336     5     0]\n",
      " [    0     0     0]]\n",
      "========================================\n",
      "k= 4: H=0.0004120967325706981, C=0.00010087610130649623, V=0.00016207763451594342\n",
      "conf mat:\n",
      "[[81118   908   148   478]\n",
      " [  336     4     0     1]\n",
      " [    0     0     0     0]\n",
      " [    0     0     0     0]]\n",
      "========================================\n",
      "k= 5: H=0.0004702256468091204, C=0.00011183461948498203, V=0.0001806943690480539\n",
      "conf mat:\n",
      "[[81089   906   149   478    30]\n",
      " [  336     4     0     1     0]\n",
      " [    0     0     0     0     0]\n",
      " [    0     0     0     0     0]\n",
      " [    0     0     0     0     0]]\n",
      "========================================\n",
      "k= 6: H=0.00044448513054675645, C=9.974303213248817e-05, V=0.00016292539673169366\n",
      "conf mat:\n",
      "[[81089   624   130   326   454    29]\n",
      " [  336     3     0     1     1     0]\n",
      " [    0     0     0     0     0     0]\n",
      " [    0     0     0     0     0     0]\n",
      " [    0     0     0     0     0     0]\n",
      " [    0     0     0     0     0     0]]\n",
      "========================================\n",
      "k= 7: H=0.00047757221853384613, C=0.00010564183528245437, V=0.00017301231105696234\n",
      "conf mat:\n",
      "[[81089   684    69   272   125   384    29]\n",
      " [  336     3     0     1     0     1     0]\n",
      " [    0     0     0     0     0     0     0]\n",
      " [    0     0     0     0     0     0     0]\n",
      " [    0     0     0     0     0     0     0]\n",
      " [    0     0     0     0     0     0     0]\n",
      " [    0     0     0     0     0     0     0]]\n",
      "========================================\n",
      "k= 8: H=0.0008230870194975019, C=0.00017629472566943523, V=0.0002903913364560139\n",
      "conf mat:\n",
      "[[81089   553   106   197   332    29   301    45]\n",
      " [  336     2     0     0     1     0     2     0]\n",
      " [    0     0     0     0     0     0     0     0]\n",
      " [    0     0     0     0     0     0     0     0]\n",
      " [    0     0     0     0     0     0     0     0]\n",
      " [    0     0     0     0     0     0     0     0]\n",
      " [    0     0     0     0     0     0     0     0]\n",
      " [    0     0     0     0     0     0     0     0]]\n",
      "========================================\n",
      "k= 9: H=0.0009658610061478699, C=0.0002026164729450131, V=0.0003349646936674023\n",
      "conf mat:\n",
      "[[81089   329    94   176    29   275   500   127    33]\n",
      " [  336     1     0     0     0     1     3     0     0]\n",
      " [    0     0     0     0     0     0     0     0     0]\n",
      " [    0     0     0     0     0     0     0     0     0]\n",
      " [    0     0     0     0     0     0     0     0     0]\n",
      " [    0     0     0     0     0     0     0     0     0]\n",
      " [    0     0     0     0     0     0     0     0     0]\n",
      " [    0     0     0     0     0     0     0     0     0]\n",
      " [    0     0     0     0     0     0     0     0     0]]\n"
     ]
    }
   ],
   "source": [
    "with parallel_backend('dask'):\n",
    "    for k in range(2, 10):\n",
    "        # find kmeans clusters for current k\n",
    "        km = skmeans(n_clusters=k, random_state=42)\n",
    "        km.fit(X_train)\n",
    "        \n",
    "        # get metrics for current k\n",
    "        h, c, v = homogeneity_completeness_v_measure(Y_train, km.labels_)\n",
    "        print(\"========================================\")\n",
    "        print(\"k={}: H={}, C={}, V={}\".format(k, h, c, v))\n",
    "        print(\"conf mat:\")\n",
    "        print(confusion_matrix(Y_train, km.labels_))"
   ]
  },
  {
   "cell_type": "code",
   "execution_count": 16,
   "metadata": {
    "scrolled": true
   },
   "outputs": [
    {
     "ename": "MemoryError",
     "evalue": "",
     "output_type": "error",
     "traceback": [
      "\u001b[0;31m---------------------------------------------------------------------------\u001b[0m",
      "\u001b[0;31mMemoryError\u001b[0m                               Traceback (most recent call last)",
      "\u001b[0;32m<ipython-input-16-7411fa244531>\u001b[0m in \u001b[0;36m<module>\u001b[0;34m\u001b[0m\n\u001b[1;32m      3\u001b[0m         \u001b[0;31m# find kmeans clusters for current k\u001b[0m\u001b[0;34m\u001b[0m\u001b[0;34m\u001b[0m\u001b[0;34m\u001b[0m\u001b[0m\n\u001b[1;32m      4\u001b[0m         \u001b[0msc\u001b[0m \u001b[0;34m=\u001b[0m \u001b[0mSpectralClustering\u001b[0m\u001b[0;34m(\u001b[0m\u001b[0mn_clusters\u001b[0m\u001b[0;34m=\u001b[0m\u001b[0mk\u001b[0m\u001b[0;34m,\u001b[0m \u001b[0mrandom_state\u001b[0m\u001b[0;34m=\u001b[0m\u001b[0;36m42\u001b[0m\u001b[0;34m)\u001b[0m\u001b[0;34m\u001b[0m\u001b[0;34m\u001b[0m\u001b[0m\n\u001b[0;32m----> 5\u001b[0;31m         \u001b[0msc\u001b[0m\u001b[0;34m.\u001b[0m\u001b[0mfit\u001b[0m\u001b[0;34m(\u001b[0m\u001b[0mX_train\u001b[0m\u001b[0;34m)\u001b[0m\u001b[0;34m\u001b[0m\u001b[0;34m\u001b[0m\u001b[0m\n\u001b[0m\u001b[1;32m      6\u001b[0m \u001b[0;34m\u001b[0m\u001b[0m\n\u001b[1;32m      7\u001b[0m         \u001b[0;31m# get metrics for current k\u001b[0m\u001b[0;34m\u001b[0m\u001b[0;34m\u001b[0m\u001b[0;34m\u001b[0m\u001b[0m\n",
      "\u001b[0;32m~/.local/share/virtualenvs/ceph_drive_failure-3-2yJKyM/lib/python3.7/site-packages/sklearn/cluster/spectral.py\u001b[0m in \u001b[0;36mfit\u001b[0;34m(self, X, y)\u001b[0m\n\u001b[1;32m    482\u001b[0m             self.affinity_matrix_ = pairwise_kernels(X, metric=self.affinity,\n\u001b[1;32m    483\u001b[0m                                                      \u001b[0mfilter_params\u001b[0m\u001b[0;34m=\u001b[0m\u001b[0;32mTrue\u001b[0m\u001b[0;34m,\u001b[0m\u001b[0;34m\u001b[0m\u001b[0;34m\u001b[0m\u001b[0m\n\u001b[0;32m--> 484\u001b[0;31m                                                      **params)\n\u001b[0m\u001b[1;32m    485\u001b[0m \u001b[0;34m\u001b[0m\u001b[0m\n\u001b[1;32m    486\u001b[0m         \u001b[0mrandom_state\u001b[0m \u001b[0;34m=\u001b[0m \u001b[0mcheck_random_state\u001b[0m\u001b[0;34m(\u001b[0m\u001b[0mself\u001b[0m\u001b[0;34m.\u001b[0m\u001b[0mrandom_state\u001b[0m\u001b[0;34m)\u001b[0m\u001b[0;34m\u001b[0m\u001b[0;34m\u001b[0m\u001b[0m\n",
      "\u001b[0;32m~/.local/share/virtualenvs/ceph_drive_failure-3-2yJKyM/lib/python3.7/site-packages/sklearn/metrics/pairwise.py\u001b[0m in \u001b[0;36mpairwise_kernels\u001b[0;34m(X, Y, metric, filter_params, n_jobs, **kwds)\u001b[0m\n\u001b[1;32m   1743\u001b[0m         \u001b[0;32mraise\u001b[0m \u001b[0mValueError\u001b[0m\u001b[0;34m(\u001b[0m\u001b[0;34m\"Unknown kernel %r\"\u001b[0m \u001b[0;34m%\u001b[0m \u001b[0mmetric\u001b[0m\u001b[0;34m)\u001b[0m\u001b[0;34m\u001b[0m\u001b[0;34m\u001b[0m\u001b[0m\n\u001b[1;32m   1744\u001b[0m \u001b[0;34m\u001b[0m\u001b[0m\n\u001b[0;32m-> 1745\u001b[0;31m     \u001b[0;32mreturn\u001b[0m \u001b[0m_parallel_pairwise\u001b[0m\u001b[0;34m(\u001b[0m\u001b[0mX\u001b[0m\u001b[0;34m,\u001b[0m \u001b[0mY\u001b[0m\u001b[0;34m,\u001b[0m \u001b[0mfunc\u001b[0m\u001b[0;34m,\u001b[0m \u001b[0mn_jobs\u001b[0m\u001b[0;34m,\u001b[0m \u001b[0;34m**\u001b[0m\u001b[0mkwds\u001b[0m\u001b[0;34m)\u001b[0m\u001b[0;34m\u001b[0m\u001b[0;34m\u001b[0m\u001b[0m\n\u001b[0m",
      "\u001b[0;32m~/.local/share/virtualenvs/ceph_drive_failure-3-2yJKyM/lib/python3.7/site-packages/sklearn/metrics/pairwise.py\u001b[0m in \u001b[0;36m_parallel_pairwise\u001b[0;34m(X, Y, func, n_jobs, **kwds)\u001b[0m\n\u001b[1;32m   1208\u001b[0m     \u001b[0;31m# enforce a threading backend to prevent data communication overhead\u001b[0m\u001b[0;34m\u001b[0m\u001b[0;34m\u001b[0m\u001b[0;34m\u001b[0m\u001b[0m\n\u001b[1;32m   1209\u001b[0m     \u001b[0mfd\u001b[0m \u001b[0;34m=\u001b[0m \u001b[0mdelayed\u001b[0m\u001b[0;34m(\u001b[0m\u001b[0m_dist_wrapper\u001b[0m\u001b[0;34m)\u001b[0m\u001b[0;34m\u001b[0m\u001b[0;34m\u001b[0m\u001b[0m\n\u001b[0;32m-> 1210\u001b[0;31m     \u001b[0mret\u001b[0m \u001b[0;34m=\u001b[0m \u001b[0mnp\u001b[0m\u001b[0;34m.\u001b[0m\u001b[0mempty\u001b[0m\u001b[0;34m(\u001b[0m\u001b[0;34m(\u001b[0m\u001b[0mX\u001b[0m\u001b[0;34m.\u001b[0m\u001b[0mshape\u001b[0m\u001b[0;34m[\u001b[0m\u001b[0;36m0\u001b[0m\u001b[0;34m]\u001b[0m\u001b[0;34m,\u001b[0m \u001b[0mY\u001b[0m\u001b[0;34m.\u001b[0m\u001b[0mshape\u001b[0m\u001b[0;34m[\u001b[0m\u001b[0;36m0\u001b[0m\u001b[0;34m]\u001b[0m\u001b[0;34m)\u001b[0m\u001b[0;34m,\u001b[0m \u001b[0mdtype\u001b[0m\u001b[0;34m=\u001b[0m\u001b[0mdtype\u001b[0m\u001b[0;34m,\u001b[0m \u001b[0morder\u001b[0m\u001b[0;34m=\u001b[0m\u001b[0;34m'F'\u001b[0m\u001b[0;34m)\u001b[0m\u001b[0;34m\u001b[0m\u001b[0;34m\u001b[0m\u001b[0m\n\u001b[0m\u001b[1;32m   1211\u001b[0m     Parallel(backend=\"threading\", n_jobs=n_jobs)(\n\u001b[1;32m   1212\u001b[0m         \u001b[0mfd\u001b[0m\u001b[0;34m(\u001b[0m\u001b[0mfunc\u001b[0m\u001b[0;34m,\u001b[0m \u001b[0mret\u001b[0m\u001b[0;34m,\u001b[0m \u001b[0ms\u001b[0m\u001b[0;34m,\u001b[0m \u001b[0mX\u001b[0m\u001b[0;34m,\u001b[0m \u001b[0mY\u001b[0m\u001b[0;34m[\u001b[0m\u001b[0ms\u001b[0m\u001b[0;34m]\u001b[0m\u001b[0;34m,\u001b[0m \u001b[0;34m**\u001b[0m\u001b[0mkwds\u001b[0m\u001b[0;34m)\u001b[0m\u001b[0;34m\u001b[0m\u001b[0;34m\u001b[0m\u001b[0m\n",
      "\u001b[0;31mMemoryError\u001b[0m: "
     ]
    }
   ],
   "source": [
    "with parallel_backend('dask'):\n",
    "    for k in range(2, 6):\n",
    "        # find kmeans clusters for current k\n",
    "        sc = SpectralClustering(n_clusters=k, random_state=42)\n",
    "        sc.fit(X_train)\n",
    "        \n",
    "        # get metrics for current k\n",
    "        h, c, v = homogeneity_completeness_v_measure(Y_train, sc.labels_)\n",
    "        print(\"========================================\")\n",
    "        print(\"k={}: H={}, C={}, V={}\".format(k, h, c, v))\n",
    "        print(\"conf mat:\")\n",
    "        print(confusion_matrix(Y_train, sc.labels_))"
   ]
  },
  {
   "cell_type": "code",
   "execution_count": 25,
   "metadata": {},
   "outputs": [
    {
     "data": {
      "text/plain": [
       "Index(['6VDHZ9H9', '6VDHZAKY', '6VDHZATY', '6VDHZAXD', '6VDHZB48'], dtype='object', name='serial_number')"
      ]
     },
     "execution_count": 25,
     "metadata": {},
     "output_type": "execute_result"
    }
   ],
   "source": [
    "from sklearn.neighbors import DistanceMetric\n",
    "man = DistanceMetric.get_metric('manhattan')\n",
    "X_train.index.head()"
   ]
  },
  {
   "cell_type": "code",
   "execution_count": 36,
   "metadata": {},
   "outputs": [
    {
     "data": {
      "text/plain": [
       "38.522346242013505"
      ]
     },
     "execution_count": 36,
     "metadata": {},
     "output_type": "execute_result"
    }
   ],
   "source": [
    "foo = X_train.loc['6VDHZAXD', :].compute()\n",
    "# bar = X_train.loc['6VDHZATY', :].compute()\n",
    "import scipy\n",
    "scipy.spatial.distance.cityblock(foo, bar)"
   ]
  },
  {
   "cell_type": "code",
   "execution_count": 39,
   "metadata": {},
   "outputs": [
    {
     "name": "stdout",
     "output_type": "stream",
     "text": [
      "========================================\n",
      "e=1: H=0.0040969275756273325, C=0.0005331403538892181, V=0.0009435012404910959\n",
      "conf mat:\n",
      "[[    0     0     0 ...     0     0     0]\n",
      " [80478     5    11 ...     5     6     4]\n",
      " [  341     0     0 ...     0     0     0]\n",
      " ...\n",
      " [    0     0     0 ...     0     0     0]\n",
      " [    0     0     0 ...     0     0     0]\n",
      " [    0     0     0 ...     0     0     0]]\n",
      "========================================\n",
      "e=2: H=0.1669530204593021, C=0.0017809033841935226, V=0.00352421365383619\n",
      "conf mat:\n",
      "[[    0     0     0 ...     0     0     0]\n",
      " [26300 13254   119 ...     5     3     3]\n",
      " [  337     1     0 ...     0     0     0]\n",
      " ...\n",
      " [    0     0     0 ...     0     0     0]\n",
      " [    0     0     0 ...     0     0     0]\n",
      " [    0     0     0 ...     0     0     0]]\n",
      "========================================\n",
      "e=3: H=0.32776595457007096, C=0.004098996279768483, V=0.008096735885950135\n",
      "conf mat:\n",
      "[[    0     0     0 ...     0     0     0]\n",
      " [ 8132 16991    21 ...    21     5     5]\n",
      " [  331     4     0 ...     0     0     0]\n",
      " ...\n",
      " [    0     0     0 ...     0     0     0]\n",
      " [    0     0     0 ...     0     0     0]\n",
      " [    0     0     0 ...     0     0     0]]\n",
      "========================================\n",
      "e=4: H=0.4098237829785913, C=0.006056014861894233, V=0.011935655126138254\n",
      "conf mat:\n",
      "[[    0     0     0 ...     0     0     0]\n",
      " [ 3825    10 21214 ...     8  1199    32]\n",
      " [  321     0     5 ...     0     0     0]\n",
      " ...\n",
      " [    0     0     0 ...     0     0     0]\n",
      " [    0     0     0 ...     0     0     0]\n",
      " [    0     0     0 ...     0     0     0]]\n",
      "========================================\n",
      "e=5: H=0.43639244244612746, C=0.00710538602028686, V=0.013983097823219073\n",
      "conf mat:\n",
      "[[    0     0     0 ...     0     0     0]\n",
      " [ 2300    11 22560 ...    12    12  1199]\n",
      " [  305     0    10 ...     0     0     0]\n",
      " ...\n",
      " [    0     0     0 ...     0     0     0]\n",
      " [    0     0     0 ...     0     0     0]\n",
      " [    0     0     0 ...     0     0     0]]\n"
     ]
    }
   ],
   "source": [
    "with parallel_backend('dask'):\n",
    "    for epsilon in range(1, 6):\n",
    "        # find kmeans clusters for current k\n",
    "        db = DBSCAN(metric='manhattan', eps=epsilon)\n",
    "        db.fit(X_train)\n",
    "        \n",
    "        # get metrics for current k\n",
    "        h, c, v = homogeneity_completeness_v_measure(Y_train, db.labels_)\n",
    "        print(\"========================================\")\n",
    "        print(\"e={}: H={}, C={}, V={}\".format(epsilon, h, c, v))\n",
    "        print(\"conf mat:\")\n",
    "        print(confusion_matrix(Y_train, db.labels_))"
   ]
  },
  {
   "cell_type": "code",
   "execution_count": null,
   "metadata": {},
   "outputs": [],
   "source": []
  }
 ],
 "metadata": {
  "kernelspec": {
   "display_name": "Python 3",
   "language": "python",
   "name": "python3"
  },
  "language_info": {
   "codemirror_mode": {
    "name": "ipython",
    "version": 3
   },
   "file_extension": ".py",
   "mimetype": "text/x-python",
   "name": "python",
   "nbconvert_exporter": "python",
   "pygments_lexer": "ipython3",
   "version": "3.7.3"
  }
 },
 "nbformat": 4,
 "nbformat_minor": 2
}
