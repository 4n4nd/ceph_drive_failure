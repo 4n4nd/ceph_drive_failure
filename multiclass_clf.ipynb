{
 "cells": [
  {
   "cell_type": "markdown",
   "metadata": {
    "toc-hr-collapsed": false
   },
   "source": [
    "# Multiclass Classification\n",
    "An intermediate solution beween regression and classification is classifying in chunks (i.e. good, medium, bad)\n",
    "\n",
    "**NOTE**: For now, we are keeping the same classes as the upstream predictor system which is as follows:\n",
    "1. <2wk = bad\n",
    "2. 2wk-6wk = warning\n",
    "3. \\>6wk = good\n",
    "\n",
    "## Steps\n",
    "1. Segregate data into good medium bad. This way it can be used for ovo, ova, or multiclass classifier\n",
    "2. Train multiclass classifier\n",
    "3. ova\n",
    "4. ovo"
   ]
  },
  {
   "cell_type": "markdown",
   "metadata": {
    "toc-hr-collapsed": false
   },
   "source": [
    "## Get Data\n",
    "Get data in a format that is easier/more efficient to work with. e.g. only take columns that will be used for training, add rul column, etc"
   ]
  },
  {
   "cell_type": "code",
   "execution_count": 1,
   "metadata": {},
   "outputs": [],
   "source": [
    "import os\n",
    "import gc\n",
    "import utils\n",
    "import datetime\n",
    "import pickle\n",
    "import cloudpickle\n",
    "\n",
    "import numpy as np\n",
    "import pandas as pd\n",
    "import dask.dataframe as dd\n",
    "from dask.distributed import Client\n",
    "from dask.diagnostics import ProgressBar\n",
    "\n",
    "from sklearn.metrics import pairwise_distances_argmin\n",
    "from sklearn.metrics import classification_report\n",
    "from sklearn.metrics import confusion_matrix\n",
    "\n",
    "import joblib\n",
    "from joblib import parallel_backend"
   ]
  },
  {
   "cell_type": "code",
   "execution_count": 2,
   "metadata": {},
   "outputs": [],
   "source": [
    "from matplotlib import pyplot as plt\n",
    "import seaborn as sns\n",
    "\n",
    "# Display all cell outputs\n",
    "from IPython.core.interactiveshell import InteractiveShell\n",
    "InteractiveShell.ast_node_interactivity = 'all'"
   ]
  },
  {
   "cell_type": "code",
   "execution_count": 3,
   "metadata": {},
   "outputs": [],
   "source": [
    "pbar = ProgressBar()\n",
    "pbar.register()\n",
    "# client = Client()"
   ]
  },
  {
   "cell_type": "code",
   "execution_count": 4,
   "metadata": {},
   "outputs": [],
   "source": [
    "# inferred int64 types cause a type mismatch (int vs float) error when dask sees a null value\n",
    "# null values cannot be interpreted as ints\n",
    "custom_dtypes = {\n",
    "    \"seagate\": {\n",
    "    \"date\": \"object\",\n",
    "    \"serial_number\": \"object\",\n",
    "    \"capacity_bytes\": \"float32\",\n",
    "    \"failure\": \"float32\",\n",
    "    \"smart_1_normalized\": \"float32\",\n",
    "    \"smart_1_raw\": \"float32\",\n",
    "    \"smart_5_normalized\": \"float32\",\n",
    "    \"smart_5_raw\": \"float32\",\n",
    "    \"smart_7_normalized\": \"float32\",\n",
    "    \"smart_7_raw\": \"float32\",\n",
    "    \"smart_9_normalized\": \"float32\",\n",
    "    \"smart_9_raw\": \"float32\",\n",
    "    \"smart_10_normalized\": \"float32\",\n",
    "    \"smart_10_raw\": \"float32\",\n",
    "    \"smart_184_normalized\": \"float32\",\n",
    "    \"smart_184_raw\": \"float32\",\n",
    "    \"smart_187_normalized\": \"float32\",\n",
    "    \"smart_187_raw\": \"float32\",\n",
    "    \"smart_188_normalized\": \"float32\",\n",
    "    \"smart_188_raw\": \"float32\",\n",
    "    \"smart_189_normalized\": \"float32\",\n",
    "    \"smart_189_raw\": \"float32\",\n",
    "    \"smart_190_normalized\": \"float32\",\n",
    "    \"smart_190_raw\": \"float32\",\n",
    "    \"smart_193_normalized\": \"float32\",\n",
    "    \"smart_193_raw\": \"float32\",\n",
    "    \"smart_194_normalized\": \"float32\",\n",
    "    \"smart_194_raw\": \"float32\",\n",
    "    \"smart_197_normalized\": \"float32\",\n",
    "    \"smart_197_raw\": \"float32\",\n",
    "    \"smart_198_normalized\": \"float32\",\n",
    "    \"smart_198_raw\": \"float32\",\n",
    "    \"smart_240_normalized\": \"float32\",\n",
    "    \"smart_240_raw\": \"float32\",\n",
    "    \"smart_241_normalized\": \"float32\",\n",
    "    \"smart_241_raw\": \"float32\",\n",
    "    \"smart_242_normalized\": \"float32\",\n",
    "    \"smart_242_raw\": \"float32\"\n",
    "},\n",
    "    \"hgst\": {\n",
    "    \"date\": \"object\",\n",
    "    \"serial_number\": \"object\",\n",
    "    \"model\": \"object\",\n",
    "    \"capacity_bytes\": \"float32\",\n",
    "    \"failure\": \"float32\",\n",
    "    \"smart_1_normalized\": \"float32\",\n",
    "    \"smart_1_raw\": \"float32\",\n",
    "    \"smart_2_normalized\": \"float32\",\n",
    "    \"smart_2_raw\": \"float32\",\n",
    "    \"smart_3_normalized\": \"float32\",\n",
    "    \"smart_3_raw\": \"float32\",\n",
    "    \"smart_4_normalized\": \"float32\",\n",
    "    \"smart_4_raw\": \"float32\",\n",
    "    \"smart_5_normalized\": \"float32\",\n",
    "    \"smart_5_raw\": \"float32\",\n",
    "    \"smart_7_normalized\": \"float32\",\n",
    "    \"smart_7_raw\": \"float32\",\n",
    "    \"smart_8_normalized\": \"float32\",\n",
    "    \"smart_8_raw\": \"float32\",\n",
    "    \"smart_9_normalized\": \"float32\",\n",
    "    \"smart_9_raw\": \"float32\",\n",
    "    \"smart_10_normalized\": \"float32\",\n",
    "    \"smart_10_raw\": \"float32\",\n",
    "    \"smart_12_normalized\": \"float32\",\n",
    "    \"smart_12_raw\": \"float32\",\n",
    "    \"smart_22_normalized\": \"float32\",\n",
    "    \"smart_22_raw\": \"float32\",\n",
    "    \"smart_192_normalized\": \"float32\",\n",
    "    \"smart_192_raw\": \"float32\",\n",
    "    \"smart_193_normalized\": \"float32\",\n",
    "    \"smart_193_raw\": \"float32\",\n",
    "    \"smart_194_normalized\": \"float32\",\n",
    "    \"smart_194_raw\": \"float32\",\n",
    "    \"smart_196_normalized\": \"float32\",\n",
    "    \"smart_196_raw\": \"float32\",\n",
    "    \"smart_197_normalized\": \"float32\",\n",
    "    \"smart_197_raw\": \"float32\",\n",
    "    \"smart_198_normalized\": \"float32\",\n",
    "    \"smart_198_raw\": \"float32\",\n",
    "    \"smart_199_normalized\": \"float32\",\n",
    "    \"smart_199_raw\": \"float32\"\n",
    "}}"
   ]
  },
  {
   "cell_type": "code",
   "execution_count": 5,
   "metadata": {},
   "outputs": [
    {
     "name": "stdout",
     "output_type": "stream",
     "text": [
      "[########################################] | 100% Completed | 35.7s\n"
     ]
    }
   ],
   "source": [
    "# read all the cleaned seagate data into one dataframe\n",
    "MANUFACTURER = \"seagate\"\n",
    "DATA_DIR = \"/home/kachauha/Downloads\"\n",
    "df4 = dd.read_csv(os.path.join(DATA_DIR, 'data_Q4_2018_{}_clean'.format(MANUFACTURER), '*.csv'), dtype=custom_dtypes[MANUFACTURER])\n",
    "df3 = dd.read_csv(os.path.join(DATA_DIR, 'data_Q3_2018_{}_clean'.format(MANUFACTURER), '*.csv'), dtype=custom_dtypes[MANUFACTURER])\n",
    "df = dd.concat([df3, df4], interleave_partitions=True)\n",
    "df = utils.optimal_repartition_df(df)"
   ]
  },
  {
   "cell_type": "code",
   "execution_count": 6,
   "metadata": {},
   "outputs": [],
   "source": [
    "# define thresholds as timedelta\n",
    "BAD_THRESHOLD_NDAYS = np.timedelta64(14, 'D')\n",
    "WARNING_THRESHOLD_NDAYS = np.timedelta64(42, 'D')"
   ]
  },
  {
   "cell_type": "markdown",
   "metadata": {},
   "source": [
    "### Get Failed Drives Data"
   ]
  },
  {
   "cell_type": "code",
   "execution_count": 7,
   "metadata": {},
   "outputs": [
    {
     "name": "stdout",
     "output_type": "stream",
     "text": [
      "[########################################] | 100% Completed | 23.2s\n",
      "[########################################] | 100% Completed |  0.8s\n"
     ]
    },
    {
     "data": {
      "text/html": [
       "<div>\n",
       "<style scoped>\n",
       "    .dataframe tbody tr th:only-of-type {\n",
       "        vertical-align: middle;\n",
       "    }\n",
       "\n",
       "    .dataframe tbody tr th {\n",
       "        vertical-align: top;\n",
       "    }\n",
       "\n",
       "    .dataframe thead th {\n",
       "        text-align: right;\n",
       "    }\n",
       "</style>\n",
       "<table border=\"1\" class=\"dataframe\">\n",
       "  <thead>\n",
       "    <tr style=\"text-align: right;\">\n",
       "      <th></th>\n",
       "      <th>date</th>\n",
       "      <th>serial_number</th>\n",
       "      <th>capacity_bytes</th>\n",
       "      <th>failure</th>\n",
       "      <th>smart_1_raw</th>\n",
       "      <th>smart_5_raw</th>\n",
       "      <th>smart_7_raw</th>\n",
       "      <th>smart_9_raw</th>\n",
       "      <th>smart_10_raw</th>\n",
       "      <th>smart_184_raw</th>\n",
       "      <th>...</th>\n",
       "      <th>smart_188_normalized</th>\n",
       "      <th>smart_189_normalized</th>\n",
       "      <th>smart_190_normalized</th>\n",
       "      <th>smart_193_normalized</th>\n",
       "      <th>smart_194_normalized</th>\n",
       "      <th>smart_197_normalized</th>\n",
       "      <th>smart_198_normalized</th>\n",
       "      <th>smart_240_normalized</th>\n",
       "      <th>smart_241_normalized</th>\n",
       "      <th>smart_242_normalized</th>\n",
       "    </tr>\n",
       "  </thead>\n",
       "  <tbody>\n",
       "    <tr>\n",
       "      <th>60</th>\n",
       "      <td>2018-07-01</td>\n",
       "      <td>S301GMGW</td>\n",
       "      <td>4.000787e+12</td>\n",
       "      <td>0.0</td>\n",
       "      <td>171832640.0</td>\n",
       "      <td>0.0</td>\n",
       "      <td>6.912202e+07</td>\n",
       "      <td>25241.0</td>\n",
       "      <td>0.0</td>\n",
       "      <td>0.0</td>\n",
       "      <td>...</td>\n",
       "      <td>100.0</td>\n",
       "      <td>100.0</td>\n",
       "      <td>78.0</td>\n",
       "      <td>63.0</td>\n",
       "      <td>22.0</td>\n",
       "      <td>100.0</td>\n",
       "      <td>100.0</td>\n",
       "      <td>100.0</td>\n",
       "      <td>100.0</td>\n",
       "      <td>100.0</td>\n",
       "    </tr>\n",
       "    <tr>\n",
       "      <th>243</th>\n",
       "      <td>2018-07-01</td>\n",
       "      <td>Z304KR3C</td>\n",
       "      <td>4.000787e+12</td>\n",
       "      <td>0.0</td>\n",
       "      <td>230540768.0</td>\n",
       "      <td>0.0</td>\n",
       "      <td>2.555230e+08</td>\n",
       "      <td>23960.0</td>\n",
       "      <td>0.0</td>\n",
       "      <td>0.0</td>\n",
       "      <td>...</td>\n",
       "      <td>100.0</td>\n",
       "      <td>100.0</td>\n",
       "      <td>81.0</td>\n",
       "      <td>98.0</td>\n",
       "      <td>19.0</td>\n",
       "      <td>100.0</td>\n",
       "      <td>100.0</td>\n",
       "      <td>100.0</td>\n",
       "      <td>100.0</td>\n",
       "      <td>100.0</td>\n",
       "    </tr>\n",
       "    <tr>\n",
       "      <th>613</th>\n",
       "      <td>2018-07-01</td>\n",
       "      <td>ZCH0CDHJ</td>\n",
       "      <td>1.200014e+13</td>\n",
       "      <td>0.0</td>\n",
       "      <td>125181424.0</td>\n",
       "      <td>0.0</td>\n",
       "      <td>2.146338e+08</td>\n",
       "      <td>2901.0</td>\n",
       "      <td>0.0</td>\n",
       "      <td>-100.0</td>\n",
       "      <td>...</td>\n",
       "      <td>100.0</td>\n",
       "      <td>-100.0</td>\n",
       "      <td>71.0</td>\n",
       "      <td>100.0</td>\n",
       "      <td>29.0</td>\n",
       "      <td>100.0</td>\n",
       "      <td>100.0</td>\n",
       "      <td>100.0</td>\n",
       "      <td>100.0</td>\n",
       "      <td>100.0</td>\n",
       "    </tr>\n",
       "    <tr>\n",
       "      <th>840</th>\n",
       "      <td>2018-07-01</td>\n",
       "      <td>ZA171RYT</td>\n",
       "      <td>8.001563e+12</td>\n",
       "      <td>0.0</td>\n",
       "      <td>116709632.0</td>\n",
       "      <td>56.0</td>\n",
       "      <td>2.516390e+09</td>\n",
       "      <td>10216.0</td>\n",
       "      <td>0.0</td>\n",
       "      <td>0.0</td>\n",
       "      <td>...</td>\n",
       "      <td>100.0</td>\n",
       "      <td>100.0</td>\n",
       "      <td>77.0</td>\n",
       "      <td>94.0</td>\n",
       "      <td>23.0</td>\n",
       "      <td>100.0</td>\n",
       "      <td>100.0</td>\n",
       "      <td>100.0</td>\n",
       "      <td>100.0</td>\n",
       "      <td>100.0</td>\n",
       "    </tr>\n",
       "    <tr>\n",
       "      <th>1144</th>\n",
       "      <td>2018-07-01</td>\n",
       "      <td>ZCH07J8T</td>\n",
       "      <td>1.200014e+13</td>\n",
       "      <td>0.0</td>\n",
       "      <td>182899248.0</td>\n",
       "      <td>0.0</td>\n",
       "      <td>7.768506e+08</td>\n",
       "      <td>5908.0</td>\n",
       "      <td>0.0</td>\n",
       "      <td>-100.0</td>\n",
       "      <td>...</td>\n",
       "      <td>100.0</td>\n",
       "      <td>-100.0</td>\n",
       "      <td>66.0</td>\n",
       "      <td>100.0</td>\n",
       "      <td>34.0</td>\n",
       "      <td>100.0</td>\n",
       "      <td>100.0</td>\n",
       "      <td>100.0</td>\n",
       "      <td>100.0</td>\n",
       "      <td>100.0</td>\n",
       "    </tr>\n",
       "  </tbody>\n",
       "</table>\n",
       "<p>5 rows × 38 columns</p>\n",
       "</div>"
      ],
      "text/plain": [
       "            date serial_number  capacity_bytes  failure  smart_1_raw  \\\n",
       "60    2018-07-01      S301GMGW    4.000787e+12      0.0  171832640.0   \n",
       "243   2018-07-01      Z304KR3C    4.000787e+12      0.0  230540768.0   \n",
       "613   2018-07-01      ZCH0CDHJ    1.200014e+13      0.0  125181424.0   \n",
       "840   2018-07-01      ZA171RYT    8.001563e+12      0.0  116709632.0   \n",
       "1144  2018-07-01      ZCH07J8T    1.200014e+13      0.0  182899248.0   \n",
       "\n",
       "      smart_5_raw   smart_7_raw  smart_9_raw  smart_10_raw  smart_184_raw  \\\n",
       "60            0.0  6.912202e+07      25241.0           0.0            0.0   \n",
       "243           0.0  2.555230e+08      23960.0           0.0            0.0   \n",
       "613           0.0  2.146338e+08       2901.0           0.0         -100.0   \n",
       "840          56.0  2.516390e+09      10216.0           0.0            0.0   \n",
       "1144          0.0  7.768506e+08       5908.0           0.0         -100.0   \n",
       "\n",
       "      ...  smart_188_normalized  smart_189_normalized  smart_190_normalized  \\\n",
       "60    ...                 100.0                 100.0                  78.0   \n",
       "243   ...                 100.0                 100.0                  81.0   \n",
       "613   ...                 100.0                -100.0                  71.0   \n",
       "840   ...                 100.0                 100.0                  77.0   \n",
       "1144  ...                 100.0                -100.0                  66.0   \n",
       "\n",
       "      smart_193_normalized  smart_194_normalized  smart_197_normalized  \\\n",
       "60                    63.0                  22.0                 100.0   \n",
       "243                   98.0                  19.0                 100.0   \n",
       "613                  100.0                  29.0                 100.0   \n",
       "840                   94.0                  23.0                 100.0   \n",
       "1144                 100.0                  34.0                 100.0   \n",
       "\n",
       "      smart_198_normalized  smart_240_normalized  smart_241_normalized  \\\n",
       "60                   100.0                 100.0                 100.0   \n",
       "243                  100.0                 100.0                 100.0   \n",
       "613                  100.0                 100.0                 100.0   \n",
       "840                  100.0                 100.0                 100.0   \n",
       "1144                 100.0                 100.0                 100.0   \n",
       "\n",
       "      smart_242_normalized  \n",
       "60                   100.0  \n",
       "243                  100.0  \n",
       "613                  100.0  \n",
       "840                  100.0  \n",
       "1144                 100.0  \n",
       "\n",
       "[5 rows x 38 columns]"
      ]
     },
     "execution_count": 7,
     "metadata": {},
     "output_type": "execute_result"
    }
   ],
   "source": [
    "# get the serial numbers for all the failed hard drives\n",
    "failed_serials = df[df['failure']==1]['serial_number'].compute()\n",
    "\n",
    "# failed drives data\n",
    "failed_df = df[df['serial_number'].isin(failed_serials)]\n",
    "failed_df.head()"
   ]
  },
  {
   "cell_type": "code",
   "execution_count": 8,
   "metadata": {},
   "outputs": [
    {
     "name": "stdout",
     "output_type": "stream",
     "text": [
      "[########################################] | 100% Completed | 12.7s\n"
     ]
    },
    {
     "data": {
      "text/plain": [
       "(array([61., 45., 51., 54., 44., 53., 33.]),\n",
       " array([ 1., 14., 27., 40., 53., 66., 79., 92.]),\n",
       " <a list of 7 Patch objects>)"
      ]
     },
     "execution_count": 8,
     "metadata": {},
     "output_type": "execute_result"
    },
    {
     "data": {
      "image/png": "[encoded data removed]",
      "text/plain": [
       "<Figure size 432x288 with 1 Axes>"
      ]
     },
     "metadata": {
      "needs_background": "light"
     },
     "output_type": "display_data"
    }
   ],
   "source": [
    "# number of days of data available for failed drives\n",
    "days = failed_df[['date', 'serial_number', 'failure']].groupby('serial_number').size().compute()\n",
    "plt.hist(days, bins=7)    # 92 days / 2 weeks = 7 bins"
   ]
  },
  {
   "cell_type": "markdown",
   "metadata": {},
   "source": [
    "### Downsample Working Drives"
   ]
  },
  {
   "cell_type": "code",
   "execution_count": 8,
   "metadata": {},
   "outputs": [
    {
     "name": "stdout",
     "output_type": "stream",
     "text": [
      "[########################################] | 100% Completed |  1min 11.6s\n"
     ]
    },
    {
     "data": {
      "text/html": [
       "<div>\n",
       "<style scoped>\n",
       "    .dataframe tbody tr th:only-of-type {\n",
       "        vertical-align: middle;\n",
       "    }\n",
       "\n",
       "    .dataframe tbody tr th {\n",
       "        vertical-align: top;\n",
       "    }\n",
       "\n",
       "    .dataframe thead th {\n",
       "        text-align: right;\n",
       "    }\n",
       "</style>\n",
       "<table border=\"1\" class=\"dataframe\">\n",
       "  <thead>\n",
       "    <tr style=\"text-align: right;\">\n",
       "      <th></th>\n",
       "      <th>mean_smart_1_raw</th>\n",
       "      <th>mean_smart_5_raw</th>\n",
       "      <th>mean_smart_7_raw</th>\n",
       "      <th>mean_smart_9_raw</th>\n",
       "      <th>mean_smart_10_raw</th>\n",
       "      <th>mean_smart_184_raw</th>\n",
       "      <th>mean_smart_187_raw</th>\n",
       "      <th>mean_smart_188_raw</th>\n",
       "      <th>mean_smart_189_raw</th>\n",
       "      <th>mean_smart_190_raw</th>\n",
       "      <th>...</th>\n",
       "      <th>std_smart_190_normalized</th>\n",
       "      <th>std_smart_193_normalized</th>\n",
       "      <th>std_smart_194_normalized</th>\n",
       "      <th>std_smart_197_normalized</th>\n",
       "      <th>std_smart_198_normalized</th>\n",
       "      <th>std_smart_240_normalized</th>\n",
       "      <th>std_smart_241_normalized</th>\n",
       "      <th>std_smart_242_normalized</th>\n",
       "      <th>capacity_bytes</th>\n",
       "      <th>num_days</th>\n",
       "    </tr>\n",
       "    <tr>\n",
       "      <th>serial_number</th>\n",
       "      <th></th>\n",
       "      <th></th>\n",
       "      <th></th>\n",
       "      <th></th>\n",
       "      <th></th>\n",
       "      <th></th>\n",
       "      <th></th>\n",
       "      <th></th>\n",
       "      <th></th>\n",
       "      <th></th>\n",
       "      <th></th>\n",
       "      <th></th>\n",
       "      <th></th>\n",
       "      <th></th>\n",
       "      <th></th>\n",
       "      <th></th>\n",
       "      <th></th>\n",
       "      <th></th>\n",
       "      <th></th>\n",
       "      <th></th>\n",
       "      <th></th>\n",
       "    </tr>\n",
       "  </thead>\n",
       "  <tbody>\n",
       "    <tr>\n",
       "      <th>6VDHZ71D</th>\n",
       "      <td>1.120956e+08</td>\n",
       "      <td>0.0</td>\n",
       "      <td>3.795581e+08</td>\n",
       "      <td>40377.923077</td>\n",
       "      <td>0.0</td>\n",
       "      <td>0.0</td>\n",
       "      <td>0.0</td>\n",
       "      <td>17.0</td>\n",
       "      <td>0.0</td>\n",
       "      <td>26.318681</td>\n",
       "      <td>...</td>\n",
       "      <td>0.837115</td>\n",
       "      <td>0.0</td>\n",
       "      <td>0.837042</td>\n",
       "      <td>0.0</td>\n",
       "      <td>0.0</td>\n",
       "      <td>0.0</td>\n",
       "      <td>0.0</td>\n",
       "      <td>0.0</td>\n",
       "      <td>3.200729e+11</td>\n",
       "      <td>91</td>\n",
       "    </tr>\n",
       "    <tr>\n",
       "      <th>6VDHZ9H9</th>\n",
       "      <td>1.234109e+08</td>\n",
       "      <td>0.0</td>\n",
       "      <td>2.872033e+08</td>\n",
       "      <td>39796.008696</td>\n",
       "      <td>0.0</td>\n",
       "      <td>0.0</td>\n",
       "      <td>0.0</td>\n",
       "      <td>18.0</td>\n",
       "      <td>0.0</td>\n",
       "      <td>27.530435</td>\n",
       "      <td>...</td>\n",
       "      <td>0.772789</td>\n",
       "      <td>0.0</td>\n",
       "      <td>0.772593</td>\n",
       "      <td>0.0</td>\n",
       "      <td>0.0</td>\n",
       "      <td>0.0</td>\n",
       "      <td>0.0</td>\n",
       "      <td>0.0</td>\n",
       "      <td>3.200729e+11</td>\n",
       "      <td>115</td>\n",
       "    </tr>\n",
       "    <tr>\n",
       "      <th>6VDHZA4H</th>\n",
       "      <td>1.271050e+08</td>\n",
       "      <td>0.0</td>\n",
       "      <td>3.796565e+08</td>\n",
       "      <td>40328.606742</td>\n",
       "      <td>0.0</td>\n",
       "      <td>0.0</td>\n",
       "      <td>0.0</td>\n",
       "      <td>12.0</td>\n",
       "      <td>0.0</td>\n",
       "      <td>25.404494</td>\n",
       "      <td>...</td>\n",
       "      <td>0.817295</td>\n",
       "      <td>0.0</td>\n",
       "      <td>0.817218</td>\n",
       "      <td>0.0</td>\n",
       "      <td>0.0</td>\n",
       "      <td>0.0</td>\n",
       "      <td>0.0</td>\n",
       "      <td>0.0</td>\n",
       "      <td>3.200729e+11</td>\n",
       "      <td>89</td>\n",
       "    </tr>\n",
       "    <tr>\n",
       "      <th>6VDHZAFY</th>\n",
       "      <td>1.205417e+08</td>\n",
       "      <td>0.0</td>\n",
       "      <td>3.796991e+08</td>\n",
       "      <td>40089.560440</td>\n",
       "      <td>0.0</td>\n",
       "      <td>0.0</td>\n",
       "      <td>0.0</td>\n",
       "      <td>8.0</td>\n",
       "      <td>0.0</td>\n",
       "      <td>31.439560</td>\n",
       "      <td>...</td>\n",
       "      <td>0.682824</td>\n",
       "      <td>0.0</td>\n",
       "      <td>0.682735</td>\n",
       "      <td>0.0</td>\n",
       "      <td>0.0</td>\n",
       "      <td>0.0</td>\n",
       "      <td>0.0</td>\n",
       "      <td>0.0</td>\n",
       "      <td>3.200729e+11</td>\n",
       "      <td>91</td>\n",
       "    </tr>\n",
       "    <tr>\n",
       "      <th>6VDHZAKY</th>\n",
       "      <td>1.320863e+08</td>\n",
       "      <td>0.0</td>\n",
       "      <td>2.881417e+08</td>\n",
       "      <td>40232.347826</td>\n",
       "      <td>0.0</td>\n",
       "      <td>0.0</td>\n",
       "      <td>0.0</td>\n",
       "      <td>19.0</td>\n",
       "      <td>0.0</td>\n",
       "      <td>27.147826</td>\n",
       "      <td>...</td>\n",
       "      <td>2.258360</td>\n",
       "      <td>0.0</td>\n",
       "      <td>2.258293</td>\n",
       "      <td>0.0</td>\n",
       "      <td>0.0</td>\n",
       "      <td>0.0</td>\n",
       "      <td>0.0</td>\n",
       "      <td>0.0</td>\n",
       "      <td>3.200729e+11</td>\n",
       "      <td>115</td>\n",
       "    </tr>\n",
       "  </tbody>\n",
       "</table>\n",
       "<p>5 rows × 70 columns</p>\n",
       "</div>"
      ],
      "text/plain": [
       "               mean_smart_1_raw  mean_smart_5_raw  mean_smart_7_raw  \\\n",
       "serial_number                                                         \n",
       "6VDHZ71D           1.120956e+08               0.0      3.795581e+08   \n",
       "6VDHZ9H9           1.234109e+08               0.0      2.872033e+08   \n",
       "6VDHZA4H           1.271050e+08               0.0      3.796565e+08   \n",
       "6VDHZAFY           1.205417e+08               0.0      3.796991e+08   \n",
       "6VDHZAKY           1.320863e+08               0.0      2.881417e+08   \n",
       "\n",
       "               mean_smart_9_raw  mean_smart_10_raw  mean_smart_184_raw  \\\n",
       "serial_number                                                            \n",
       "6VDHZ71D           40377.923077                0.0                 0.0   \n",
       "6VDHZ9H9           39796.008696                0.0                 0.0   \n",
       "6VDHZA4H           40328.606742                0.0                 0.0   \n",
       "6VDHZAFY           40089.560440                0.0                 0.0   \n",
       "6VDHZAKY           40232.347826                0.0                 0.0   \n",
       "\n",
       "               mean_smart_187_raw  mean_smart_188_raw  mean_smart_189_raw  \\\n",
       "serial_number                                                               \n",
       "6VDHZ71D                      0.0                17.0                 0.0   \n",
       "6VDHZ9H9                      0.0                18.0                 0.0   \n",
       "6VDHZA4H                      0.0                12.0                 0.0   \n",
       "6VDHZAFY                      0.0                 8.0                 0.0   \n",
       "6VDHZAKY                      0.0                19.0                 0.0   \n",
       "\n",
       "               mean_smart_190_raw  ...  std_smart_190_normalized  \\\n",
       "serial_number                      ...                             \n",
       "6VDHZ71D                26.318681  ...                  0.837115   \n",
       "6VDHZ9H9                27.530435  ...                  0.772789   \n",
       "6VDHZA4H                25.404494  ...                  0.817295   \n",
       "6VDHZAFY                31.439560  ...                  0.682824   \n",
       "6VDHZAKY                27.147826  ...                  2.258360   \n",
       "\n",
       "               std_smart_193_normalized  std_smart_194_normalized  \\\n",
       "serial_number                                                       \n",
       "6VDHZ71D                            0.0                  0.837042   \n",
       "6VDHZ9H9                            0.0                  0.772593   \n",
       "6VDHZA4H                            0.0                  0.817218   \n",
       "6VDHZAFY                            0.0                  0.682735   \n",
       "6VDHZAKY                            0.0                  2.258293   \n",
       "\n",
       "               std_smart_197_normalized  std_smart_198_normalized  \\\n",
       "serial_number                                                       \n",
       "6VDHZ71D                            0.0                       0.0   \n",
       "6VDHZ9H9                            0.0                       0.0   \n",
       "6VDHZA4H                            0.0                       0.0   \n",
       "6VDHZAFY                            0.0                       0.0   \n",
       "6VDHZAKY                            0.0                       0.0   \n",
       "\n",
       "               std_smart_240_normalized  std_smart_241_normalized  \\\n",
       "serial_number                                                       \n",
       "6VDHZ71D                            0.0                       0.0   \n",
       "6VDHZ9H9                            0.0                       0.0   \n",
       "6VDHZA4H                            0.0                       0.0   \n",
       "6VDHZAFY                            0.0                       0.0   \n",
       "6VDHZAKY                            0.0                       0.0   \n",
       "\n",
       "               std_smart_242_normalized  capacity_bytes  num_days  \n",
       "serial_number                                                      \n",
       "6VDHZ71D                            0.0    3.200729e+11        91  \n",
       "6VDHZ9H9                            0.0    3.200729e+11       115  \n",
       "6VDHZA4H                            0.0    3.200729e+11        89  \n",
       "6VDHZAFY                            0.0    3.200729e+11        91  \n",
       "6VDHZAKY                            0.0    3.200729e+11       115  \n",
       "\n",
       "[5 rows x 70 columns]"
      ]
     },
     "execution_count": 8,
     "metadata": {},
     "output_type": "execute_result"
    }
   ],
   "source": [
    "# extract mean,std,capacity for working drives\n",
    "# but first, drop the columns for which it doesnt make sense the \"aggregate\" values\n",
    "drop_cols = ['date', 'capacity_bytes', 'failure']\n",
    "\n",
    "# FIXME: this is a temp fix. ideally, we should remove model column from the clean data for hgst\n",
    "if MANUFACTURER.lower() != \"seagate\":\n",
    "    drop_cols.append(\"model\")\n",
    "working_feats_df = utils.featurize_ts(df[~df['serial_number'].isin(failed_serials)],\n",
    "                                      drop_cols=drop_cols,\n",
    "                                      num_days=True)\n",
    "working_feats_df.head()"
   ]
  },
  {
   "cell_type": "code",
   "execution_count": 9,
   "metadata": {},
   "outputs": [],
   "source": [
    "from sklearn.cluster import SpectralClustering\n",
    "from sklearn.metrics.pairwise import cosine_similarity"
   ]
  },
  {
   "cell_type": "markdown",
   "metadata": {},
   "source": [
    "**FIXME** euclidean distance is not a good measure for such a high dimensional data, but even dask spectral clustering runs out of memory so we dont have an option."
   ]
  },
  {
   "cell_type": "code",
   "execution_count": 10,
   "metadata": {},
   "outputs": [
    {
     "name": "stdout",
     "output_type": "stream",
     "text": [
      "[########################################] | 100% Completed |  1min 12.8s\n",
      "[########################################] | 100% Completed |  1.1s\n"
     ]
    },
    {
     "data": {
      "text/html": [
       "<div>\n",
       "<style scoped>\n",
       "    .dataframe tbody tr th:only-of-type {\n",
       "        vertical-align: middle;\n",
       "    }\n",
       "\n",
       "    .dataframe tbody tr th {\n",
       "        vertical-align: top;\n",
       "    }\n",
       "\n",
       "    .dataframe thead th {\n",
       "        text-align: right;\n",
       "    }\n",
       "</style>\n",
       "<table border=\"1\" class=\"dataframe\">\n",
       "  <thead>\n",
       "    <tr style=\"text-align: right;\">\n",
       "      <th></th>\n",
       "      <th>date</th>\n",
       "      <th>serial_number</th>\n",
       "      <th>capacity_bytes</th>\n",
       "      <th>failure</th>\n",
       "      <th>smart_1_raw</th>\n",
       "      <th>smart_5_raw</th>\n",
       "      <th>smart_7_raw</th>\n",
       "      <th>smart_9_raw</th>\n",
       "      <th>smart_10_raw</th>\n",
       "      <th>smart_184_raw</th>\n",
       "      <th>...</th>\n",
       "      <th>smart_188_normalized</th>\n",
       "      <th>smart_189_normalized</th>\n",
       "      <th>smart_190_normalized</th>\n",
       "      <th>smart_193_normalized</th>\n",
       "      <th>smart_194_normalized</th>\n",
       "      <th>smart_197_normalized</th>\n",
       "      <th>smart_198_normalized</th>\n",
       "      <th>smart_240_normalized</th>\n",
       "      <th>smart_241_normalized</th>\n",
       "      <th>smart_242_normalized</th>\n",
       "    </tr>\n",
       "  </thead>\n",
       "  <tbody>\n",
       "    <tr>\n",
       "      <th>73</th>\n",
       "      <td>2018-07-01</td>\n",
       "      <td>Z4D03TNS</td>\n",
       "      <td>6.001175e+12</td>\n",
       "      <td>0.0</td>\n",
       "      <td>122487504.0</td>\n",
       "      <td>0.0</td>\n",
       "      <td>6.102987e+09</td>\n",
       "      <td>28493.0</td>\n",
       "      <td>0.0</td>\n",
       "      <td>0.0</td>\n",
       "      <td>...</td>\n",
       "      <td>100.0</td>\n",
       "      <td>89.0</td>\n",
       "      <td>80.0</td>\n",
       "      <td>66.0</td>\n",
       "      <td>20.0</td>\n",
       "      <td>100.0</td>\n",
       "      <td>100.0</td>\n",
       "      <td>100.0</td>\n",
       "      <td>100.0</td>\n",
       "      <td>100.0</td>\n",
       "    </tr>\n",
       "    <tr>\n",
       "      <th>337</th>\n",
       "      <td>2018-07-01</td>\n",
       "      <td>Z4D04WV5</td>\n",
       "      <td>6.001175e+12</td>\n",
       "      <td>0.0</td>\n",
       "      <td>2771024.0</td>\n",
       "      <td>0.0</td>\n",
       "      <td>1.772955e+09</td>\n",
       "      <td>28520.0</td>\n",
       "      <td>0.0</td>\n",
       "      <td>0.0</td>\n",
       "      <td>...</td>\n",
       "      <td>100.0</td>\n",
       "      <td>79.0</td>\n",
       "      <td>75.0</td>\n",
       "      <td>5.0</td>\n",
       "      <td>25.0</td>\n",
       "      <td>100.0</td>\n",
       "      <td>100.0</td>\n",
       "      <td>100.0</td>\n",
       "      <td>100.0</td>\n",
       "      <td>100.0</td>\n",
       "    </tr>\n",
       "    <tr>\n",
       "      <th>391</th>\n",
       "      <td>2018-07-01</td>\n",
       "      <td>Z4D019KB</td>\n",
       "      <td>6.001175e+12</td>\n",
       "      <td>0.0</td>\n",
       "      <td>173405232.0</td>\n",
       "      <td>0.0</td>\n",
       "      <td>1.912900e+10</td>\n",
       "      <td>28507.0</td>\n",
       "      <td>0.0</td>\n",
       "      <td>0.0</td>\n",
       "      <td>...</td>\n",
       "      <td>100.0</td>\n",
       "      <td>78.0</td>\n",
       "      <td>74.0</td>\n",
       "      <td>2.0</td>\n",
       "      <td>26.0</td>\n",
       "      <td>100.0</td>\n",
       "      <td>100.0</td>\n",
       "      <td>100.0</td>\n",
       "      <td>100.0</td>\n",
       "      <td>100.0</td>\n",
       "    </tr>\n",
       "    <tr>\n",
       "      <th>508</th>\n",
       "      <td>2018-07-01</td>\n",
       "      <td>Z4D09YDG</td>\n",
       "      <td>6.001175e+12</td>\n",
       "      <td>0.0</td>\n",
       "      <td>219821008.0</td>\n",
       "      <td>0.0</td>\n",
       "      <td>1.730025e+09</td>\n",
       "      <td>28176.0</td>\n",
       "      <td>0.0</td>\n",
       "      <td>0.0</td>\n",
       "      <td>...</td>\n",
       "      <td>100.0</td>\n",
       "      <td>100.0</td>\n",
       "      <td>74.0</td>\n",
       "      <td>100.0</td>\n",
       "      <td>26.0</td>\n",
       "      <td>100.0</td>\n",
       "      <td>100.0</td>\n",
       "      <td>100.0</td>\n",
       "      <td>100.0</td>\n",
       "      <td>100.0</td>\n",
       "    </tr>\n",
       "    <tr>\n",
       "      <th>747</th>\n",
       "      <td>2018-07-01</td>\n",
       "      <td>Z4D07R2E</td>\n",
       "      <td>6.001175e+12</td>\n",
       "      <td>0.0</td>\n",
       "      <td>47077344.0</td>\n",
       "      <td>0.0</td>\n",
       "      <td>1.689487e+09</td>\n",
       "      <td>28181.0</td>\n",
       "      <td>0.0</td>\n",
       "      <td>0.0</td>\n",
       "      <td>...</td>\n",
       "      <td>100.0</td>\n",
       "      <td>57.0</td>\n",
       "      <td>68.0</td>\n",
       "      <td>100.0</td>\n",
       "      <td>32.0</td>\n",
       "      <td>100.0</td>\n",
       "      <td>100.0</td>\n",
       "      <td>100.0</td>\n",
       "      <td>100.0</td>\n",
       "      <td>100.0</td>\n",
       "    </tr>\n",
       "  </tbody>\n",
       "</table>\n",
       "<p>5 rows × 38 columns</p>\n",
       "</div>"
      ],
      "text/plain": [
       "           date serial_number  capacity_bytes  failure  smart_1_raw  \\\n",
       "73   2018-07-01      Z4D03TNS    6.001175e+12      0.0  122487504.0   \n",
       "337  2018-07-01      Z4D04WV5    6.001175e+12      0.0    2771024.0   \n",
       "391  2018-07-01      Z4D019KB    6.001175e+12      0.0  173405232.0   \n",
       "508  2018-07-01      Z4D09YDG    6.001175e+12      0.0  219821008.0   \n",
       "747  2018-07-01      Z4D07R2E    6.001175e+12      0.0   47077344.0   \n",
       "\n",
       "     smart_5_raw   smart_7_raw  smart_9_raw  smart_10_raw  smart_184_raw  ...  \\\n",
       "73           0.0  6.102987e+09      28493.0           0.0            0.0  ...   \n",
       "337          0.0  1.772955e+09      28520.0           0.0            0.0  ...   \n",
       "391          0.0  1.912900e+10      28507.0           0.0            0.0  ...   \n",
       "508          0.0  1.730025e+09      28176.0           0.0            0.0  ...   \n",
       "747          0.0  1.689487e+09      28181.0           0.0            0.0  ...   \n",
       "\n",
       "     smart_188_normalized  smart_189_normalized  smart_190_normalized  \\\n",
       "73                  100.0                  89.0                  80.0   \n",
       "337                 100.0                  79.0                  75.0   \n",
       "391                 100.0                  78.0                  74.0   \n",
       "508                 100.0                 100.0                  74.0   \n",
       "747                 100.0                  57.0                  68.0   \n",
       "\n",
       "     smart_193_normalized  smart_194_normalized  smart_197_normalized  \\\n",
       "73                   66.0                  20.0                 100.0   \n",
       "337                   5.0                  25.0                 100.0   \n",
       "391                   2.0                  26.0                 100.0   \n",
       "508                 100.0                  26.0                 100.0   \n",
       "747                 100.0                  32.0                 100.0   \n",
       "\n",
       "     smart_198_normalized  smart_240_normalized  smart_241_normalized  \\\n",
       "73                  100.0                 100.0                 100.0   \n",
       "337                 100.0                 100.0                 100.0   \n",
       "391                 100.0                 100.0                 100.0   \n",
       "508                 100.0                 100.0                 100.0   \n",
       "747                 100.0                 100.0                 100.0   \n",
       "\n",
       "     smart_242_normalized  \n",
       "73                  100.0  \n",
       "337                 100.0  \n",
       "391                 100.0  \n",
       "508                 100.0  \n",
       "747                 100.0  \n",
       "\n",
       "[5 rows x 38 columns]"
      ]
     },
     "execution_count": 10,
     "metadata": {},
     "output_type": "execute_result"
    }
   ],
   "source": [
    "# apply clustering to get the serial numbers that best represent the working drives\n",
    "num_working_serials = 500\n",
    "# sc = SpectralClustering(n_clusters=num_working_serials, \n",
    "#                         affinity=cosine_similarity, \n",
    "# #                         n_neighbors=50,\n",
    "#                         n_jobs=-1)\n",
    "# sc = SpectralClustering(n_clusters=num_working_serials, n_jobs=-1)\n",
    "working_repr_sers = utils.get_downsampled_working_sers(working_feats_df.compute(), num_working_serials)\n",
    "# working_repr_sers = df[~df['serial_number'].isin(failed_serials)]['serial_number'].unique().sample(frac=0.1).compute()\n",
    "\n",
    "# downsample the dataset\n",
    "working_df = df[df['serial_number'].isin(working_repr_sers)]\n",
    "working_df.head()"
   ]
  },
  {
   "cell_type": "markdown",
   "metadata": {},
   "source": [
    "### Combine Failed and Working Drives\n",
    "Even the combined data should be small enough since we have downsampled significantly. Therefore bring the combined df in memory so it is easier to work with"
   ]
  },
  {
   "cell_type": "code",
   "execution_count": 11,
   "metadata": {},
   "outputs": [
    {
     "name": "stdout",
     "output_type": "stream",
     "text": [
      "[########################################] | 100% Completed |  0.9s\n"
     ]
    },
    {
     "data": {
      "text/html": [
       "<div>\n",
       "<style scoped>\n",
       "    .dataframe tbody tr th:only-of-type {\n",
       "        vertical-align: middle;\n",
       "    }\n",
       "\n",
       "    .dataframe tbody tr th {\n",
       "        vertical-align: top;\n",
       "    }\n",
       "\n",
       "    .dataframe thead th {\n",
       "        text-align: right;\n",
       "    }\n",
       "</style>\n",
       "<table border=\"1\" class=\"dataframe\">\n",
       "  <thead>\n",
       "    <tr style=\"text-align: right;\">\n",
       "      <th></th>\n",
       "      <th>date</th>\n",
       "      <th>serial_number</th>\n",
       "      <th>capacity_bytes</th>\n",
       "      <th>failure</th>\n",
       "      <th>smart_1_raw</th>\n",
       "      <th>smart_5_raw</th>\n",
       "      <th>smart_7_raw</th>\n",
       "      <th>smart_9_raw</th>\n",
       "      <th>smart_10_raw</th>\n",
       "      <th>smart_184_raw</th>\n",
       "      <th>...</th>\n",
       "      <th>smart_188_normalized</th>\n",
       "      <th>smart_189_normalized</th>\n",
       "      <th>smart_190_normalized</th>\n",
       "      <th>smart_193_normalized</th>\n",
       "      <th>smart_194_normalized</th>\n",
       "      <th>smart_197_normalized</th>\n",
       "      <th>smart_198_normalized</th>\n",
       "      <th>smart_240_normalized</th>\n",
       "      <th>smart_241_normalized</th>\n",
       "      <th>smart_242_normalized</th>\n",
       "    </tr>\n",
       "  </thead>\n",
       "  <tbody>\n",
       "    <tr>\n",
       "      <th>60</th>\n",
       "      <td>2018-07-01</td>\n",
       "      <td>S301GMGW</td>\n",
       "      <td>4.000787e+12</td>\n",
       "      <td>0.0</td>\n",
       "      <td>171832640.0</td>\n",
       "      <td>0.0</td>\n",
       "      <td>6.912202e+07</td>\n",
       "      <td>25241.0</td>\n",
       "      <td>0.0</td>\n",
       "      <td>0.0</td>\n",
       "      <td>...</td>\n",
       "      <td>100.0</td>\n",
       "      <td>100.0</td>\n",
       "      <td>78.0</td>\n",
       "      <td>63.0</td>\n",
       "      <td>22.0</td>\n",
       "      <td>100.0</td>\n",
       "      <td>100.0</td>\n",
       "      <td>100.0</td>\n",
       "      <td>100.0</td>\n",
       "      <td>100.0</td>\n",
       "    </tr>\n",
       "    <tr>\n",
       "      <th>243</th>\n",
       "      <td>2018-07-01</td>\n",
       "      <td>Z304KR3C</td>\n",
       "      <td>4.000787e+12</td>\n",
       "      <td>0.0</td>\n",
       "      <td>230540768.0</td>\n",
       "      <td>0.0</td>\n",
       "      <td>2.555230e+08</td>\n",
       "      <td>23960.0</td>\n",
       "      <td>0.0</td>\n",
       "      <td>0.0</td>\n",
       "      <td>...</td>\n",
       "      <td>100.0</td>\n",
       "      <td>100.0</td>\n",
       "      <td>81.0</td>\n",
       "      <td>98.0</td>\n",
       "      <td>19.0</td>\n",
       "      <td>100.0</td>\n",
       "      <td>100.0</td>\n",
       "      <td>100.0</td>\n",
       "      <td>100.0</td>\n",
       "      <td>100.0</td>\n",
       "    </tr>\n",
       "    <tr>\n",
       "      <th>613</th>\n",
       "      <td>2018-07-01</td>\n",
       "      <td>ZCH0CDHJ</td>\n",
       "      <td>1.200014e+13</td>\n",
       "      <td>0.0</td>\n",
       "      <td>125181424.0</td>\n",
       "      <td>0.0</td>\n",
       "      <td>2.146338e+08</td>\n",
       "      <td>2901.0</td>\n",
       "      <td>0.0</td>\n",
       "      <td>-100.0</td>\n",
       "      <td>...</td>\n",
       "      <td>100.0</td>\n",
       "      <td>-100.0</td>\n",
       "      <td>71.0</td>\n",
       "      <td>100.0</td>\n",
       "      <td>29.0</td>\n",
       "      <td>100.0</td>\n",
       "      <td>100.0</td>\n",
       "      <td>100.0</td>\n",
       "      <td>100.0</td>\n",
       "      <td>100.0</td>\n",
       "    </tr>\n",
       "    <tr>\n",
       "      <th>840</th>\n",
       "      <td>2018-07-01</td>\n",
       "      <td>ZA171RYT</td>\n",
       "      <td>8.001563e+12</td>\n",
       "      <td>0.0</td>\n",
       "      <td>116709632.0</td>\n",
       "      <td>56.0</td>\n",
       "      <td>2.516390e+09</td>\n",
       "      <td>10216.0</td>\n",
       "      <td>0.0</td>\n",
       "      <td>0.0</td>\n",
       "      <td>...</td>\n",
       "      <td>100.0</td>\n",
       "      <td>100.0</td>\n",
       "      <td>77.0</td>\n",
       "      <td>94.0</td>\n",
       "      <td>23.0</td>\n",
       "      <td>100.0</td>\n",
       "      <td>100.0</td>\n",
       "      <td>100.0</td>\n",
       "      <td>100.0</td>\n",
       "      <td>100.0</td>\n",
       "    </tr>\n",
       "    <tr>\n",
       "      <th>1144</th>\n",
       "      <td>2018-07-01</td>\n",
       "      <td>ZCH07J8T</td>\n",
       "      <td>1.200014e+13</td>\n",
       "      <td>0.0</td>\n",
       "      <td>182899248.0</td>\n",
       "      <td>0.0</td>\n",
       "      <td>7.768506e+08</td>\n",
       "      <td>5908.0</td>\n",
       "      <td>0.0</td>\n",
       "      <td>-100.0</td>\n",
       "      <td>...</td>\n",
       "      <td>100.0</td>\n",
       "      <td>-100.0</td>\n",
       "      <td>66.0</td>\n",
       "      <td>100.0</td>\n",
       "      <td>34.0</td>\n",
       "      <td>100.0</td>\n",
       "      <td>100.0</td>\n",
       "      <td>100.0</td>\n",
       "      <td>100.0</td>\n",
       "      <td>100.0</td>\n",
       "    </tr>\n",
       "  </tbody>\n",
       "</table>\n",
       "<p>5 rows × 38 columns</p>\n",
       "</div>"
      ],
      "text/plain": [
       "            date serial_number  capacity_bytes  failure  smart_1_raw  \\\n",
       "60    2018-07-01      S301GMGW    4.000787e+12      0.0  171832640.0   \n",
       "243   2018-07-01      Z304KR3C    4.000787e+12      0.0  230540768.0   \n",
       "613   2018-07-01      ZCH0CDHJ    1.200014e+13      0.0  125181424.0   \n",
       "840   2018-07-01      ZA171RYT    8.001563e+12      0.0  116709632.0   \n",
       "1144  2018-07-01      ZCH07J8T    1.200014e+13      0.0  182899248.0   \n",
       "\n",
       "      smart_5_raw   smart_7_raw  smart_9_raw  smart_10_raw  smart_184_raw  \\\n",
       "60            0.0  6.912202e+07      25241.0           0.0            0.0   \n",
       "243           0.0  2.555230e+08      23960.0           0.0            0.0   \n",
       "613           0.0  2.146338e+08       2901.0           0.0         -100.0   \n",
       "840          56.0  2.516390e+09      10216.0           0.0            0.0   \n",
       "1144          0.0  7.768506e+08       5908.0           0.0         -100.0   \n",
       "\n",
       "      ...  smart_188_normalized  smart_189_normalized  smart_190_normalized  \\\n",
       "60    ...                 100.0                 100.0                  78.0   \n",
       "243   ...                 100.0                 100.0                  81.0   \n",
       "613   ...                 100.0                -100.0                  71.0   \n",
       "840   ...                 100.0                 100.0                  77.0   \n",
       "1144  ...                 100.0                -100.0                  66.0   \n",
       "\n",
       "      smart_193_normalized  smart_194_normalized  smart_197_normalized  \\\n",
       "60                    63.0                  22.0                 100.0   \n",
       "243                   98.0                  19.0                 100.0   \n",
       "613                  100.0                  29.0                 100.0   \n",
       "840                   94.0                  23.0                 100.0   \n",
       "1144                 100.0                  34.0                 100.0   \n",
       "\n",
       "      smart_198_normalized  smart_240_normalized  smart_241_normalized  \\\n",
       "60                   100.0                 100.0                 100.0   \n",
       "243                  100.0                 100.0                 100.0   \n",
       "613                  100.0                 100.0                 100.0   \n",
       "840                  100.0                 100.0                 100.0   \n",
       "1144                 100.0                 100.0                 100.0   \n",
       "\n",
       "      smart_242_normalized  \n",
       "60                   100.0  \n",
       "243                  100.0  \n",
       "613                  100.0  \n",
       "840                  100.0  \n",
       "1144                 100.0  \n",
       "\n",
       "[5 rows x 38 columns]"
      ]
     },
     "execution_count": 11,
     "metadata": {},
     "output_type": "execute_result"
    }
   ],
   "source": [
    "# concatenate rows\n",
    "df = failed_df.append(working_df)\n",
    "\n",
    "# drop columns that wont be useful for prediction\n",
    "if MANUFACTURER == \"hgst\":\n",
    "    df = df.drop('model', axis=1)\n",
    "\n",
    "df.head()"
   ]
  },
  {
   "cell_type": "markdown",
   "metadata": {},
   "source": [
    "### Add RUL column\n",
    "**NOTE**: RUL values make sense only for the failed drives, because they have been observed to fail. For working drives, actual failure time is unknown and therefore RUL values are not meaningful. For the purposes of this notebook, RUL is used only as a tool for processing/labelling data "
   ]
  },
  {
   "cell_type": "code",
   "execution_count": 12,
   "metadata": {},
   "outputs": [],
   "source": [
    "# convert from str to datetime\n",
    "df['date'] = df['date'].astype('datetime64')\n",
    "\n",
    "# =============================== FOR DASK =============================== #\n",
    "# create meta of the resulting failed_df otherwise dask complains\n",
    "rul_meta = df._meta\n",
    "rul_meta = rul_meta.assign(rul_days=rul_meta['date'].max()-rul_meta['date'])\n",
    "# ======================================================================== #\n",
    "\n",
    "# get remaining useful life as diff(today, maxday)\n",
    "# reset index coz result is multiindexed. drop=True coz serial_number already exists as a col\n",
    "df = df.groupby('serial_number').apply(utils.append_rul_days_column, meta=rul_meta).reset_index(drop=True)"
   ]
  },
  {
   "cell_type": "code",
   "execution_count": 13,
   "metadata": {},
   "outputs": [
    {
     "name": "stdout",
     "output_type": "stream",
     "text": [
      "[########################################] | 100% Completed | 29.1s\n"
     ]
    },
    {
     "data": {
      "text/html": [
       "<div>\n",
       "<style scoped>\n",
       "    .dataframe tbody tr th:only-of-type {\n",
       "        vertical-align: middle;\n",
       "    }\n",
       "\n",
       "    .dataframe tbody tr th {\n",
       "        vertical-align: top;\n",
       "    }\n",
       "\n",
       "    .dataframe thead th {\n",
       "        text-align: right;\n",
       "    }\n",
       "</style>\n",
       "<table border=\"1\" class=\"dataframe\">\n",
       "  <thead>\n",
       "    <tr style=\"text-align: right;\">\n",
       "      <th></th>\n",
       "      <th>date</th>\n",
       "      <th>serial_number</th>\n",
       "      <th>capacity_bytes</th>\n",
       "      <th>failure</th>\n",
       "      <th>smart_1_raw</th>\n",
       "      <th>smart_5_raw</th>\n",
       "      <th>smart_7_raw</th>\n",
       "      <th>smart_9_raw</th>\n",
       "      <th>smart_10_raw</th>\n",
       "      <th>smart_184_raw</th>\n",
       "      <th>...</th>\n",
       "      <th>smart_189_normalized</th>\n",
       "      <th>smart_190_normalized</th>\n",
       "      <th>smart_193_normalized</th>\n",
       "      <th>smart_194_normalized</th>\n",
       "      <th>smart_197_normalized</th>\n",
       "      <th>smart_198_normalized</th>\n",
       "      <th>smart_240_normalized</th>\n",
       "      <th>smart_241_normalized</th>\n",
       "      <th>smart_242_normalized</th>\n",
       "      <th>rul_days</th>\n",
       "    </tr>\n",
       "  </thead>\n",
       "  <tbody>\n",
       "    <tr>\n",
       "      <th>0</th>\n",
       "      <td>2018-07-09</td>\n",
       "      <td>S3013ZAE</td>\n",
       "      <td>4.000787e+12</td>\n",
       "      <td>0.0</td>\n",
       "      <td>204378528.0</td>\n",
       "      <td>0.0</td>\n",
       "      <td>251208576.0</td>\n",
       "      <td>8480.0</td>\n",
       "      <td>0.0</td>\n",
       "      <td>0.0</td>\n",
       "      <td>...</td>\n",
       "      <td>100.0</td>\n",
       "      <td>77.0</td>\n",
       "      <td>58.0</td>\n",
       "      <td>23.0</td>\n",
       "      <td>100.0</td>\n",
       "      <td>100.0</td>\n",
       "      <td>100.0</td>\n",
       "      <td>100.0</td>\n",
       "      <td>100.0</td>\n",
       "      <td>17 days</td>\n",
       "    </tr>\n",
       "    <tr>\n",
       "      <th>1</th>\n",
       "      <td>2018-07-10</td>\n",
       "      <td>S3013ZAE</td>\n",
       "      <td>4.000787e+12</td>\n",
       "      <td>0.0</td>\n",
       "      <td>113277992.0</td>\n",
       "      <td>0.0</td>\n",
       "      <td>252024080.0</td>\n",
       "      <td>8505.0</td>\n",
       "      <td>0.0</td>\n",
       "      <td>0.0</td>\n",
       "      <td>...</td>\n",
       "      <td>100.0</td>\n",
       "      <td>77.0</td>\n",
       "      <td>58.0</td>\n",
       "      <td>23.0</td>\n",
       "      <td>100.0</td>\n",
       "      <td>100.0</td>\n",
       "      <td>100.0</td>\n",
       "      <td>100.0</td>\n",
       "      <td>100.0</td>\n",
       "      <td>16 days</td>\n",
       "    </tr>\n",
       "    <tr>\n",
       "      <th>2</th>\n",
       "      <td>2018-07-11</td>\n",
       "      <td>S3013ZAE</td>\n",
       "      <td>4.000787e+12</td>\n",
       "      <td>0.0</td>\n",
       "      <td>30916168.0</td>\n",
       "      <td>0.0</td>\n",
       "      <td>252839648.0</td>\n",
       "      <td>8528.0</td>\n",
       "      <td>0.0</td>\n",
       "      <td>0.0</td>\n",
       "      <td>...</td>\n",
       "      <td>100.0</td>\n",
       "      <td>77.0</td>\n",
       "      <td>58.0</td>\n",
       "      <td>23.0</td>\n",
       "      <td>100.0</td>\n",
       "      <td>100.0</td>\n",
       "      <td>100.0</td>\n",
       "      <td>100.0</td>\n",
       "      <td>100.0</td>\n",
       "      <td>15 days</td>\n",
       "    </tr>\n",
       "    <tr>\n",
       "      <th>3</th>\n",
       "      <td>2018-07-12</td>\n",
       "      <td>S3013ZAE</td>\n",
       "      <td>4.000787e+12</td>\n",
       "      <td>0.0</td>\n",
       "      <td>174516896.0</td>\n",
       "      <td>0.0</td>\n",
       "      <td>253647264.0</td>\n",
       "      <td>8552.0</td>\n",
       "      <td>0.0</td>\n",
       "      <td>0.0</td>\n",
       "      <td>...</td>\n",
       "      <td>100.0</td>\n",
       "      <td>78.0</td>\n",
       "      <td>58.0</td>\n",
       "      <td>22.0</td>\n",
       "      <td>100.0</td>\n",
       "      <td>100.0</td>\n",
       "      <td>100.0</td>\n",
       "      <td>100.0</td>\n",
       "      <td>100.0</td>\n",
       "      <td>14 days</td>\n",
       "    </tr>\n",
       "    <tr>\n",
       "      <th>4</th>\n",
       "      <td>2018-07-13</td>\n",
       "      <td>S3013ZAE</td>\n",
       "      <td>4.000787e+12</td>\n",
       "      <td>0.0</td>\n",
       "      <td>160012416.0</td>\n",
       "      <td>8.0</td>\n",
       "      <td>254813904.0</td>\n",
       "      <td>8574.0</td>\n",
       "      <td>0.0</td>\n",
       "      <td>0.0</td>\n",
       "      <td>...</td>\n",
       "      <td>100.0</td>\n",
       "      <td>77.0</td>\n",
       "      <td>58.0</td>\n",
       "      <td>23.0</td>\n",
       "      <td>100.0</td>\n",
       "      <td>100.0</td>\n",
       "      <td>100.0</td>\n",
       "      <td>100.0</td>\n",
       "      <td>100.0</td>\n",
       "      <td>13 days</td>\n",
       "    </tr>\n",
       "  </tbody>\n",
       "</table>\n",
       "<p>5 rows × 39 columns</p>\n",
       "</div>"
      ],
      "text/plain": [
       "        date serial_number  capacity_bytes  failure  smart_1_raw  smart_5_raw  \\\n",
       "0 2018-07-09      S3013ZAE    4.000787e+12      0.0  204378528.0          0.0   \n",
       "1 2018-07-10      S3013ZAE    4.000787e+12      0.0  113277992.0          0.0   \n",
       "2 2018-07-11      S3013ZAE    4.000787e+12      0.0   30916168.0          0.0   \n",
       "3 2018-07-12      S3013ZAE    4.000787e+12      0.0  174516896.0          0.0   \n",
       "4 2018-07-13      S3013ZAE    4.000787e+12      0.0  160012416.0          8.0   \n",
       "\n",
       "   smart_7_raw  smart_9_raw  smart_10_raw  smart_184_raw  ...  \\\n",
       "0  251208576.0       8480.0           0.0            0.0  ...   \n",
       "1  252024080.0       8505.0           0.0            0.0  ...   \n",
       "2  252839648.0       8528.0           0.0            0.0  ...   \n",
       "3  253647264.0       8552.0           0.0            0.0  ...   \n",
       "4  254813904.0       8574.0           0.0            0.0  ...   \n",
       "\n",
       "   smart_189_normalized  smart_190_normalized  smart_193_normalized  \\\n",
       "0                 100.0                  77.0                  58.0   \n",
       "1                 100.0                  77.0                  58.0   \n",
       "2                 100.0                  77.0                  58.0   \n",
       "3                 100.0                  78.0                  58.0   \n",
       "4                 100.0                  77.0                  58.0   \n",
       "\n",
       "   smart_194_normalized  smart_197_normalized  smart_198_normalized  \\\n",
       "0                  23.0                 100.0                 100.0   \n",
       "1                  23.0                 100.0                 100.0   \n",
       "2                  23.0                 100.0                 100.0   \n",
       "3                  22.0                 100.0                 100.0   \n",
       "4                  23.0                 100.0                 100.0   \n",
       "\n",
       "   smart_240_normalized  smart_241_normalized  smart_242_normalized  rul_days  \n",
       "0                 100.0                 100.0                 100.0   17 days  \n",
       "1                 100.0                 100.0                 100.0   16 days  \n",
       "2                 100.0                 100.0                 100.0   15 days  \n",
       "3                 100.0                 100.0                 100.0   14 days  \n",
       "4                 100.0                 100.0                 100.0   13 days  \n",
       "\n",
       "[5 rows x 39 columns]"
      ]
     },
     "execution_count": 13,
     "metadata": {},
     "output_type": "execute_result"
    }
   ],
   "source": [
    "df.head()"
   ]
  },
  {
   "cell_type": "markdown",
   "metadata": {},
   "source": [
    "## Create Rolling Aggregates\n",
    "Instead of having raw values in rows, use rolling aggregates of those values. This is closer to the setup we will have during inference time. Also, this will provide more data points because there will be multiple data points for a single hard drive.\n",
    "\n",
    "It turns out that almost all the values being used as features are already simple rolling counts, and not instantaneous counts. The only instantaneous features are temperature related."
   ]
  },
  {
   "cell_type": "markdown",
   "metadata": {},
   "source": [
    "## Add Multiclass Labels\n",
    "All data points will be treated as unique data points. Labels will be added according to rul. The numerical representation of labels are as follows:\n",
    "1. 0 = good\n",
    "2. 1 = warning\n",
    "3. 2 = bad"
   ]
  },
  {
   "cell_type": "code",
   "execution_count": 14,
   "metadata": {},
   "outputs": [
    {
     "name": "stdout",
     "output_type": "stream",
     "text": [
      "[########################################] | 100% Completed | 35.1s\n",
      "((110306, 39),)\n"
     ]
    }
   ],
   "source": [
    "# remove working drive data that is recorded after [quarter end minus 6 weeks]\n",
    "# because we dont know (as of quarter end) if those drives survived more than 6 weeks or not\n",
    "df = df[(df['serial_number'].isin(failed_serials)) | (df['rul_days'] >= WARNING_THRESHOLD_NDAYS)]\n",
    "print(dd.compute(df.shape))"
   ]
  },
  {
   "cell_type": "code",
   "execution_count": 15,
   "metadata": {},
   "outputs": [],
   "source": [
    "# NOTE: assignment must be done in th\n",
    "# df.head()is order otherwise it wont be correct. FIXME\n",
    "# assign all as good initially\n",
    "df['status'] = 0\n",
    "\n",
    "# overwrite those which have rul less than 6 weeks as warning\n",
    "df['status'] = df['status'].mask(df['rul_days'] < WARNING_THRESHOLD_NDAYS, 1)\n",
    "\n",
    "# overwrite those which have rul less than 2 weeks as bad\n",
    "df['status'] = df['status'].mask(df['rul_days'] < BAD_THRESHOLD_NDAYS, 2)"
   ]
  },
  {
   "cell_type": "code",
   "execution_count": 16,
   "metadata": {},
   "outputs": [
    {
     "name": "stdout",
     "output_type": "stream",
     "text": [
      "[########################################] | 100% Completed | 30.7s\n"
     ]
    },
    {
     "data": {
      "text/html": [
       "<div>\n",
       "<style scoped>\n",
       "    .dataframe tbody tr th:only-of-type {\n",
       "        vertical-align: middle;\n",
       "    }\n",
       "\n",
       "    .dataframe tbody tr th {\n",
       "        vertical-align: top;\n",
       "    }\n",
       "\n",
       "    .dataframe thead th {\n",
       "        text-align: right;\n",
       "    }\n",
       "</style>\n",
       "<table border=\"1\" class=\"dataframe\">\n",
       "  <thead>\n",
       "    <tr style=\"text-align: right;\">\n",
       "      <th></th>\n",
       "      <th>date</th>\n",
       "      <th>serial_number</th>\n",
       "      <th>capacity_bytes</th>\n",
       "      <th>failure</th>\n",
       "      <th>smart_1_raw</th>\n",
       "      <th>smart_5_raw</th>\n",
       "      <th>smart_7_raw</th>\n",
       "      <th>smart_9_raw</th>\n",
       "      <th>smart_10_raw</th>\n",
       "      <th>smart_184_raw</th>\n",
       "      <th>...</th>\n",
       "      <th>smart_190_normalized</th>\n",
       "      <th>smart_193_normalized</th>\n",
       "      <th>smart_194_normalized</th>\n",
       "      <th>smart_197_normalized</th>\n",
       "      <th>smart_198_normalized</th>\n",
       "      <th>smart_240_normalized</th>\n",
       "      <th>smart_241_normalized</th>\n",
       "      <th>smart_242_normalized</th>\n",
       "      <th>rul_days</th>\n",
       "      <th>status</th>\n",
       "    </tr>\n",
       "  </thead>\n",
       "  <tbody>\n",
       "    <tr>\n",
       "      <th>0</th>\n",
       "      <td>2018-07-01</td>\n",
       "      <td>S3013ZAE</td>\n",
       "      <td>4.000787e+12</td>\n",
       "      <td>0.0</td>\n",
       "      <td>123075744.0</td>\n",
       "      <td>0.0</td>\n",
       "      <td>244572592.0</td>\n",
       "      <td>8288.0</td>\n",
       "      <td>0.0</td>\n",
       "      <td>0.0</td>\n",
       "      <td>...</td>\n",
       "      <td>77.0</td>\n",
       "      <td>58.0</td>\n",
       "      <td>23.0</td>\n",
       "      <td>100.0</td>\n",
       "      <td>100.0</td>\n",
       "      <td>100.0</td>\n",
       "      <td>100.0</td>\n",
       "      <td>100.0</td>\n",
       "      <td>25 days</td>\n",
       "      <td>1</td>\n",
       "    </tr>\n",
       "    <tr>\n",
       "      <th>1</th>\n",
       "      <td>2018-07-02</td>\n",
       "      <td>S3013ZAE</td>\n",
       "      <td>4.000787e+12</td>\n",
       "      <td>0.0</td>\n",
       "      <td>241377408.0</td>\n",
       "      <td>0.0</td>\n",
       "      <td>245515824.0</td>\n",
       "      <td>8312.0</td>\n",
       "      <td>0.0</td>\n",
       "      <td>0.0</td>\n",
       "      <td>...</td>\n",
       "      <td>77.0</td>\n",
       "      <td>58.0</td>\n",
       "      <td>23.0</td>\n",
       "      <td>100.0</td>\n",
       "      <td>100.0</td>\n",
       "      <td>100.0</td>\n",
       "      <td>100.0</td>\n",
       "      <td>100.0</td>\n",
       "      <td>24 days</td>\n",
       "      <td>1</td>\n",
       "    </tr>\n",
       "    <tr>\n",
       "      <th>2</th>\n",
       "      <td>2018-07-03</td>\n",
       "      <td>S3013ZAE</td>\n",
       "      <td>4.000787e+12</td>\n",
       "      <td>0.0</td>\n",
       "      <td>40051376.0</td>\n",
       "      <td>0.0</td>\n",
       "      <td>246422416.0</td>\n",
       "      <td>8337.0</td>\n",
       "      <td>0.0</td>\n",
       "      <td>0.0</td>\n",
       "      <td>...</td>\n",
       "      <td>77.0</td>\n",
       "      <td>58.0</td>\n",
       "      <td>23.0</td>\n",
       "      <td>100.0</td>\n",
       "      <td>100.0</td>\n",
       "      <td>100.0</td>\n",
       "      <td>100.0</td>\n",
       "      <td>100.0</td>\n",
       "      <td>23 days</td>\n",
       "      <td>1</td>\n",
       "    </tr>\n",
       "    <tr>\n",
       "      <th>3</th>\n",
       "      <td>2018-07-04</td>\n",
       "      <td>S3013ZAE</td>\n",
       "      <td>4.000787e+12</td>\n",
       "      <td>0.0</td>\n",
       "      <td>155812720.0</td>\n",
       "      <td>0.0</td>\n",
       "      <td>247226512.0</td>\n",
       "      <td>8360.0</td>\n",
       "      <td>0.0</td>\n",
       "      <td>0.0</td>\n",
       "      <td>...</td>\n",
       "      <td>76.0</td>\n",
       "      <td>58.0</td>\n",
       "      <td>24.0</td>\n",
       "      <td>100.0</td>\n",
       "      <td>100.0</td>\n",
       "      <td>100.0</td>\n",
       "      <td>100.0</td>\n",
       "      <td>100.0</td>\n",
       "      <td>22 days</td>\n",
       "      <td>1</td>\n",
       "    </tr>\n",
       "    <tr>\n",
       "      <th>4</th>\n",
       "      <td>2018-07-05</td>\n",
       "      <td>S3013ZAE</td>\n",
       "      <td>4.000787e+12</td>\n",
       "      <td>0.0</td>\n",
       "      <td>85878560.0</td>\n",
       "      <td>0.0</td>\n",
       "      <td>248055072.0</td>\n",
       "      <td>8384.0</td>\n",
       "      <td>0.0</td>\n",
       "      <td>0.0</td>\n",
       "      <td>...</td>\n",
       "      <td>76.0</td>\n",
       "      <td>58.0</td>\n",
       "      <td>24.0</td>\n",
       "      <td>100.0</td>\n",
       "      <td>100.0</td>\n",
       "      <td>100.0</td>\n",
       "      <td>100.0</td>\n",
       "      <td>100.0</td>\n",
       "      <td>21 days</td>\n",
       "      <td>1</td>\n",
       "    </tr>\n",
       "  </tbody>\n",
       "</table>\n",
       "<p>5 rows × 40 columns</p>\n",
       "</div>"
      ],
      "text/plain": [
       "        date serial_number  capacity_bytes  failure  smart_1_raw  smart_5_raw  \\\n",
       "0 2018-07-01      S3013ZAE    4.000787e+12      0.0  123075744.0          0.0   \n",
       "1 2018-07-02      S3013ZAE    4.000787e+12      0.0  241377408.0          0.0   \n",
       "2 2018-07-03      S3013ZAE    4.000787e+12      0.0   40051376.0          0.0   \n",
       "3 2018-07-04      S3013ZAE    4.000787e+12      0.0  155812720.0          0.0   \n",
       "4 2018-07-05      S3013ZAE    4.000787e+12      0.0   85878560.0          0.0   \n",
       "\n",
       "   smart_7_raw  smart_9_raw  smart_10_raw  smart_184_raw  ...  \\\n",
       "0  244572592.0       8288.0           0.0            0.0  ...   \n",
       "1  245515824.0       8312.0           0.0            0.0  ...   \n",
       "2  246422416.0       8337.0           0.0            0.0  ...   \n",
       "3  247226512.0       8360.0           0.0            0.0  ...   \n",
       "4  248055072.0       8384.0           0.0            0.0  ...   \n",
       "\n",
       "   smart_190_normalized  smart_193_normalized  smart_194_normalized  \\\n",
       "0                  77.0                  58.0                  23.0   \n",
       "1                  77.0                  58.0                  23.0   \n",
       "2                  77.0                  58.0                  23.0   \n",
       "3                  76.0                  58.0                  24.0   \n",
       "4                  76.0                  58.0                  24.0   \n",
       "\n",
       "   smart_197_normalized  smart_198_normalized  smart_240_normalized  \\\n",
       "0                 100.0                 100.0                 100.0   \n",
       "1                 100.0                 100.0                 100.0   \n",
       "2                 100.0                 100.0                 100.0   \n",
       "3                 100.0                 100.0                 100.0   \n",
       "4                 100.0                 100.0                 100.0   \n",
       "\n",
       "   smart_241_normalized  smart_242_normalized  rul_days  status  \n",
       "0                 100.0                 100.0   25 days       1  \n",
       "1                 100.0                 100.0   24 days       1  \n",
       "2                 100.0                 100.0   23 days       1  \n",
       "3                 100.0                 100.0   22 days       1  \n",
       "4                 100.0                 100.0   21 days       1  \n",
       "\n",
       "[5 rows x 40 columns]"
      ]
     },
     "execution_count": 16,
     "metadata": {},
     "output_type": "execute_result"
    }
   ],
   "source": [
    "df.head()"
   ]
  },
  {
   "cell_type": "markdown",
   "metadata": {},
   "source": [
    "## Preprocess and Prepare"
   ]
  },
  {
   "cell_type": "code",
   "execution_count": 17,
   "metadata": {},
   "outputs": [],
   "source": [
    "from sklearn.preprocessing import StandardScaler, RobustScaler\n",
    "from sklearn.model_selection import train_test_split"
   ]
  },
  {
   "cell_type": "code",
   "execution_count": 18,
   "metadata": {},
   "outputs": [
    {
     "name": "stdout",
     "output_type": "stream",
     "text": [
      "[########################################] | 100% Completed | 34.9s\n",
      "[########################################] | 100% Completed | 34.9s\n"
     ]
    }
   ],
   "source": [
    "# bring into memory. this is likely not very big\n",
    "X_df = df.drop(['date', 'serial_number', 'failure', 'rul_days', 'status'], axis=1).compute()\n",
    "Y_df = df[['date', 'serial_number', 'failure', 'rul_days', 'status']].compute()"
   ]
  },
  {
   "cell_type": "code",
   "execution_count": 19,
   "metadata": {},
   "outputs": [
    {
     "data": {
      "text/plain": [
       "841"
      ]
     },
     "execution_count": 19,
     "metadata": {},
     "output_type": "execute_result"
    }
   ],
   "source": [
    "# clean up memory\n",
    "del failed_df\n",
    "del working_df\n",
    "del working_feats_df\n",
    "gc.collect()"
   ]
  },
  {
   "cell_type": "code",
   "execution_count": 21,
   "metadata": {},
   "outputs": [],
   "source": [
    "# split\n",
    "# with parallel_backend('dask'):\n",
    "# FIXME: dask_ml.train_test_split does not support stratified sampling. this could be dangerous\n",
    "X_train, X_test, Y_train, Y_test = train_test_split(X_df, Y_df['status'], stratify=Y_df['status'], test_size=0.2)"
   ]
  },
  {
   "cell_type": "code",
   "execution_count": 22,
   "metadata": {},
   "outputs": [],
   "source": [
    "# trecolumnsas regular dataset and scale\n",
    "# with parallel_backend('dask'):\n",
    "scaler = RobustScaler()\n",
    "X_train = scaler.fit_transform(X_train)"
   ]
  },
  {
   "cell_type": "code",
   "execution_count": 29,
   "metadata": {},
   "outputs": [
    {
     "data": {
      "text/plain": [
       "['pretrained/hgst_preprocessor_Aug_08_2019_15_10_14.joblib']"
      ]
     },
     "execution_count": 29,
     "metadata": {},
     "output_type": "execute_result"
    }
   ],
   "source": [
    "# FIXME: this would not work for dask objects (delayed objects) - MUST use cloudpickle for that\n",
    "fname = 'pretrained/{}_preprocessor_{}.joblib'.format(MANUFACTURER, datetime.datetime.now().strftime(\"%b_%d_%Y_%H_%M_%S\"))\n",
    "joblib.dump(scaler, fname)"
   ]
  },
  {
   "cell_type": "markdown",
   "metadata": {
    "toc-hr-collapsed": false
   },
   "source": [
    "## Establish Baseline"
   ]
  },
  {
   "cell_type": "markdown",
   "metadata": {},
   "source": [
    "What would a baseline multiclass classifier look like? This can be found using a naive approach where drives are classified purely based on predefined/inferred thresholds.\n",
    "\n",
    "Thresholds can be set in a variety of ways. A simple and naive way would be to involve all the covariates to determine the threshold boundary using their mean, or std, or max, or min values. Then, based some distance metric, drive can be classified."
   ]
  },
  {
   "cell_type": "code",
   "execution_count": 23,
   "metadata": {},
   "outputs": [
    {
     "data": {
      "text/plain": [
       "array([[7896, 4490, 5034],\n",
       "       [ 775, 1322,  850],\n",
       "       [ 397,  736,  562]])"
      ]
     },
     "execution_count": 23,
     "metadata": {},
     "output_type": "execute_result"
    },
    {
     "data": {
      "text/plain": [
       "array([[0.4532721 , 0.25774971, 0.28897819],\n",
       "       [0.2629793 , 0.44859179, 0.28842891],\n",
       "       [0.23421829, 0.43421829, 0.33156342]])"
      ]
     },
     "execution_count": 23,
     "metadata": {},
     "output_type": "execute_result"
    }
   ],
   "source": [
    "# use mean values as threshold\n",
    "class0_mean = X_train[(Y_train==0).values, :].mean(axis=0, keepdims=True)\n",
    "class1_mean = X_train[(Y_train==1).values, :].mean(axis=0, keepdims=True)\n",
    "class2_mean = X_train[(Y_train==2).values, :].mean(axis=0, keepdims=True)\n",
    "class_means = np.vstack((class0_mean, class1_mean, class2_mean))\n",
    "\n",
    "# predict based on a distance metric from mean values\n",
    "# NOTE: canberra, cosine generally work better than l2,l1,etc\n",
    "preds = pairwise_distances_argmin(scaler.transform(X_test), class_means, metric='canberra')\n",
    "\n",
    "# how does the baseline look\n",
    "cm = confusion_matrix(Y_test, preds)\n",
    "cm\n",
    "cm / cm.sum(axis=1, keepdims=True)"
   ]
  },
  {
   "cell_type": "code",
   "execution_count": 24,
   "metadata": {},
   "outputs": [
    {
     "data": {
      "text/plain": [
       "array([[8559, 6925, 1936],\n",
       "       [ 242, 1917,  788],\n",
       "       [ 146, 1102,  447]])"
      ]
     },
     "execution_count": 24,
     "metadata": {},
     "output_type": "execute_result"
    },
    {
     "data": {
      "text/plain": [
       "array([[0.4913318 , 0.39753157, 0.11113662],\n",
       "       [0.08211741, 0.65049203, 0.26739057],\n",
       "       [0.08613569, 0.65014749, 0.26371681]])"
      ]
     },
     "execution_count": 24,
     "metadata": {},
     "output_type": "execute_result"
    }
   ],
   "source": [
    "# use median values as threshold\n",
    "class0_median = np.median(X_train[(Y_train==0).values, :], axis=0, keepdims=True)\n",
    "class1_median = np.median(X_train[(Y_train==1).values, :], axis=0, keepdims=True)\n",
    "class2_median = np.median(X_train[(Y_train==2).values, :], axis=0, keepdims=True)\n",
    "class_medians = np.vstack((class0_median, class1_median, class2_median))\n",
    "\n",
    "# predict based on a distance metric from median values\n",
    "# NOTE: canberra, cosine generally work better than l2,l1,etc\n",
    "preds = pairwise_distances_argmin(scaler.transform(X_test), class_medians, metric='canberra')\n",
    "\n",
    "# how does the baseline look\n",
    "cm = confusion_matrix(Y_test, preds)\n",
    "cm\n",
    "cm / cm.sum(axis=1, keepdims=True)"
   ]
  },
  {
   "cell_type": "code",
   "execution_count": 25,
   "metadata": {},
   "outputs": [
    {
     "data": {
      "text/plain": [
       "array([[6913, 3825, 6682],\n",
       "       [1874,  214,  859],\n",
       "       [1107,  127,  461]])"
      ]
     },
     "execution_count": 25,
     "metadata": {},
     "output_type": "execute_result"
    },
    {
     "data": {
      "text/plain": [
       "array([[0.39684271, 0.2195752 , 0.38358209],\n",
       "       [0.63590092, 0.07261622, 0.29148286],\n",
       "       [0.65309735, 0.07492625, 0.2719764 ]])"
      ]
     },
     "execution_count": 25,
     "metadata": {},
     "output_type": "execute_result"
    }
   ],
   "source": [
    "# use min values as threshold\n",
    "class0_min = X_train[(Y_train==0).values, :].min(axis=0, keepdims=True)\n",
    "class1_min = X_train[(Y_train==1).values, :].min(axis=0, keepdims=True)\n",
    "class2_min = X_train[(Y_train==2).values, :].min(axis=0, keepdims=True)\n",
    "class_mins = np.vstack((class0_min, class1_min, class2_min))\n",
    "\n",
    "# predict based on a distance metric from min values\n",
    "# NOTE: canberra, cosine generally work better than l2,l1,etc\n",
    "preds = pairwise_distances_argmin(scaler.transform(X_test), class_mins, metric='cosine')\n",
    "\n",
    "# how does the baseline look\n",
    "cm = confusion_matrix(Y_test, preds)\n",
    "cm\n",
    "cm / cm.sum(axis=1, keepdims=True)"
   ]
  },
  {
   "cell_type": "code",
   "execution_count": 26,
   "metadata": {},
   "outputs": [
    {
     "data": {
      "text/plain": [
       "array([[16773,   584,    63],\n",
       "       [ 2946,     0,     1],\n",
       "       [ 1687,     8,     0]])"
      ]
     },
     "execution_count": 26,
     "metadata": {},
     "output_type": "execute_result"
    },
    {
     "data": {
      "text/plain": [
       "array([[9.62858783e-01, 3.35246843e-02, 3.61653272e-03],\n",
       "       [9.99660672e-01, 0.00000000e+00, 3.39328130e-04],\n",
       "       [9.95280236e-01, 4.71976401e-03, 0.00000000e+00]])"
      ]
     },
     "execution_count": 26,
     "metadata": {},
     "output_type": "execute_result"
    }
   ],
   "source": [
    "# use max values as threshold\n",
    "class0_max = X_train[(Y_train==0).values, :].max(axis=0, keepdims=True)\n",
    "class1_max = X_train[(Y_train==1).values, :].max(axis=0, keepdims=True)\n",
    "class2_max = X_train[(Y_train==2).values, :].max(axis=0, keepdims=True)\n",
    "class_maxs = np.vstack((class0_max, class1_max, class2_max))\n",
    "\n",
    "# predict based on a distance metric from max values\n",
    "# NOTE: canberra, cosine generally work better than l2,l1,etc\n",
    "# preds = pairwise_distances_argmin(X_test, class_maxs, metric='cosine')\n",
    "class0_confs = (scaler.transform(X_test) > class0_max).sum(axis=1, keepdims=True)\n",
    "class1_confs = (scaler.transform(X_test) > class1_max).sum(axis=1, keepdims=True)\n",
    "class2_confs = (scaler.transform(X_test) > class2_max).sum(axis=1, keepdims=True)\n",
    "class_confs = np.hstack((class0_confs, class1_confs, class2_confs))\n",
    "preds = np.argmax(class_confs, axis=1)\n",
    "\n",
    "# how does the baseline look\n",
    "cm = confusion_matrix(Y_test, preds)\n",
    "cm\n",
    "cm / cm.sum(axis=1, keepdims=True)"
   ]
  },
  {
   "cell_type": "markdown",
   "metadata": {},
   "source": [
    "**TODO**: groupby serial number then max value"
   ]
  },
  {
   "cell_type": "markdown",
   "metadata": {
    "toc-hr-collapsed": false
   },
   "source": [
    "## Train"
   ]
  },
  {
   "cell_type": "markdown",
   "metadata": {},
   "source": [
    "### RGF"
   ]
  },
  {
   "cell_type": "code",
   "execution_count": 27,
   "metadata": {},
   "outputs": [
    {
     "name": "stderr",
     "output_type": "stream",
     "text": [
      "/home/kachauha/.local/share/virtualenvs/ceph_drive_failure-3-2yJKyM/lib/python3.7/site-packages/sklearn/externals/joblib/__init__.py:15: DeprecationWarning: sklearn.externals.joblib is deprecated in 0.21 and will be removed in 0.23. Please import this functionality directly from joblib, which can be installed with: pip install joblib. If this warning is raised when loading pickled models, you may need to re-serialize those models with scikit-learn 0.21+.\n",
      "  warnings.warn(msg, category=DeprecationWarning)\n",
      "/home/kachauha/.local/share/virtualenvs/ceph_drive_failure-3-2yJKyM/lib/python3.7/site-packages/sklearn/externals/six.py:31: DeprecationWarning: The module is deprecated in version 0.21 and will be removed in version 0.23 since we've dropped support for Python 2.7. Please rely on the official version of six (https://pypi.org/project/six/).\n",
      "  \"(https://pypi.org/project/six/).\", DeprecationWarning)\n"
     ]
    }
   ],
   "source": [
    "from rgf.sklearn import RGFClassifier"
   ]
  },
  {
   "cell_type": "code",
   "execution_count": 28,
   "metadata": {},
   "outputs": [
    {
     "data": {
      "text/plain": [
       "RGFClassifier(algorithm='RGF', calc_prob='sigmoid', init_model=None, l2=1e-12,\n",
       "              learning_rate=0.01, loss='Log', max_leaf=5000,\n",
       "              memory_policy='generous', min_samples_leaf=10, n_iter=None,\n",
       "              n_jobs=-1, n_tree_search=1, normalize=False, opt_interval=100,\n",
       "              reg_depth=1.0, sl2=None, test_interval=100, verbose=0)"
      ]
     },
     "execution_count": 28,
     "metadata": {},
     "output_type": "execute_result"
    }
   ],
   "source": [
    "# with parallel_backend('dask'):\n",
    "rgf_clf = RGFClassifier(max_leaf=5000, l2=1e-12, learning_rate=0.01)\n",
    "rgf_clf.fit(X_train, Y_train)"
   ]
  },
  {
   "cell_type": "code",
   "execution_count": 29,
   "metadata": {},
   "outputs": [
    {
     "name": "stdout",
     "output_type": "stream",
     "text": [
      "[[0.99 0.01 0.  ]\n",
      " [0.07 0.91 0.03]\n",
      " [0.03 0.07 0.9 ]]\n",
      "              precision    recall  f1-score   support\n",
      "\n",
      "        good       0.99      0.99      0.99     17420\n",
      "     warning       0.92      0.91      0.91      2947\n",
      "         bad       0.95      0.90      0.92      1695\n",
      "\n",
      "    accuracy                           0.97     22062\n",
      "   macro avg       0.95      0.93      0.94     22062\n",
      "weighted avg       0.97      0.97      0.97     22062\n",
      "\n"
     ]
    }
   ],
   "source": [
    "# get preds\n",
    "rgf_preds = rgf_clf.predict(scaler.transform(X_test))\n",
    "rgf_confmat = confusion_matrix(Y_test, rgf_preds)\n",
    "\n",
    "print(np.around(rgf_confmat / rgf_confmat.sum(axis=1, keepdims=True), decimals=2))\n",
    "print(classification_report(Y_test, rgf_preds, target_names=['good', 'warning', 'bad']))"
   ]
  },
  {
   "cell_type": "markdown",
   "metadata": {},
   "source": [
    "### SVM"
   ]
  },
  {
   "cell_type": "code",
   "execution_count": 30,
   "metadata": {},
   "outputs": [],
   "source": [
    "from sklearn.svm import SVC"
   ]
  },
  {
   "cell_type": "code",
   "execution_count": 31,
   "metadata": {},
   "outputs": [
    {
     "data": {
      "text/plain": [
       "SVC(C=1.0, cache_size=200, class_weight='balanced', coef0=0.0,\n",
       "    decision_function_shape='ovr', degree=3, gamma='auto_deprecated',\n",
       "    kernel='rbf', max_iter=-1, probability=False, random_state=None,\n",
       "    shrinking=True, tol=0.001, verbose=False)"
      ]
     },
     "execution_count": 31,
     "metadata": {},
     "output_type": "execute_result"
    }
   ],
   "source": [
    "svc = SVC(class_weight='balanced')\n",
    "svc.fit(X_train, Y_train)"
   ]
  },
  {
   "cell_type": "code",
   "execution_count": 32,
   "metadata": {},
   "outputs": [
    {
     "name": "stdout",
     "output_type": "stream",
     "text": [
      "[[0.66 0.32 0.02]\n",
      " [0.02 0.86 0.12]\n",
      " [0.02 0.56 0.42]]\n",
      "              precision    recall  f1-score   support\n",
      "\n",
      "        good       0.99      0.66      0.79     17420\n",
      "     warning       0.28      0.86      0.42      2947\n",
      "         bad       0.51      0.42      0.46      1695\n",
      "\n",
      "    accuracy                           0.67     22062\n",
      "   macro avg       0.60      0.65      0.56     22062\n",
      "weighted avg       0.86      0.67      0.72     22062\n",
      "\n"
     ]
    }
   ],
   "source": [
    "# get preds\n",
    "svc_preds = svc.predict(scaler.transform(X_test))\n",
    "svc_confmat = confusion_matrix(Y_test, svc_preds)\n",
    "\n",
    "print(np.around(svc_confmat / svc_confmat.sum(axis=1, keepdims=True), decimals=2))\n",
    "print(classification_report(Y_test, svc_preds, target_names=['good', 'warning', 'bad']))"
   ]
  },
  {
   "cell_type": "markdown",
   "metadata": {},
   "source": [
    "### Vanilla Decision Tree"
   ]
  },
  {
   "cell_type": "code",
   "execution_count": 36,
   "metadata": {},
   "outputs": [],
   "source": [
    "from sklearn.tree import DecisionTreeClassifier"
   ]
  },
  {
   "cell_type": "code",
   "execution_count": 37,
   "metadata": {},
   "outputs": [
    {
     "data": {
      "text/plain": [
       "DecisionTreeClassifier(class_weight=None, criterion='gini', max_depth=None,\n",
       "                       max_features=None, max_leaf_nodes=None,\n",
       "                       min_impurity_decrease=0.0, min_impurity_split=None,\n",
       "                       min_samples_leaf=1, min_samples_split=2,\n",
       "                       min_weight_fraction_leaf=0.0, presort=False,\n",
       "                       random_state=None, splitter='best')"
      ]
     },
     "execution_count": 37,
     "metadata": {},
     "output_type": "execute_result"
    }
   ],
   "source": [
    "# with joblib.parallel_backend('dask'):\n",
    "dt_clf = DecisionTreeClassifier()\n",
    "dt_clf.fit(X_train, Y_train)"
   ]
  },
  {
   "cell_type": "code",
   "execution_count": 38,
   "metadata": {},
   "outputs": [
    {
     "name": "stdout",
     "output_type": "stream",
     "text": [
      "[[0.99 0.01 0.  ]\n",
      " [0.06 0.91 0.03]\n",
      " [0.04 0.07 0.89]]\n",
      "              precision    recall  f1-score   support\n",
      "\n",
      "        good       0.99      0.99      0.99     17420\n",
      "     warning       0.91      0.91      0.91      2947\n",
      "         bad       0.91      0.89      0.90      1695\n",
      "\n",
      "    accuracy                           0.97     22062\n",
      "   macro avg       0.94      0.93      0.93     22062\n",
      "weighted avg       0.97      0.97      0.97     22062\n",
      "\n"
     ]
    }
   ],
   "source": [
    "# with joblib.parallel_backend('dask'):\n",
    "# get preds\n",
    "dt_preds = dt_clf.predict(scaler.transform(X_test))\n",
    "dt_confmat = confusion_matrix(Y_test, dt_preds)\n",
    "\n",
    "print(np.around(dt_confmat / dt_confmat.sum(axis=1, keepdims=True), decimals=2))\n",
    "print(classification_report(Y_test, dt_preds, target_names=['good', 'warning', 'bad']))"
   ]
  },
  {
   "cell_type": "code",
   "execution_count": 38,
   "metadata": {},
   "outputs": [
    {
     "data": {
      "text/plain": [
       "['pretrained/hgst_predictor_dt_Aug_08_2019_15_11_32.joblib']"
      ]
     },
     "execution_count": 38,
     "metadata": {},
     "output_type": "execute_result"
    }
   ],
   "source": [
    "# FIXME: this would not work for dask objects (delayed objects) - MUST use cloudpickle for that\n",
    "fname = 'pretrained/{}_predictor_dt_{}.joblib'.format(MANUFACTURER, datetime.datetime.now().strftime(\"%b_%d_%Y_%H_%M_%S\"))\n",
    "joblib.dump(dt_clf, fname)"
   ]
  },
  {
   "cell_type": "markdown",
   "metadata": {},
   "source": [
    "### Vanilla Random Forest"
   ]
  },
  {
   "cell_type": "code",
   "execution_count": 39,
   "metadata": {},
   "outputs": [],
   "source": [
    "from sklearn.ensemble import RandomForestClassifier"
   ]
  },
  {
   "cell_type": "code",
   "execution_count": 40,
   "metadata": {},
   "outputs": [
    {
     "data": {
      "text/plain": [
       "RandomForestClassifier(bootstrap=True, class_weight='balanced',\n",
       "                       criterion='gini', max_depth=None, max_features='auto',\n",
       "                       max_leaf_nodes=None, min_impurity_decrease=0.0,\n",
       "                       min_impurity_split=None, min_samples_leaf=1,\n",
       "                       min_samples_split=2, min_weight_fraction_leaf=0.0,\n",
       "                       n_estimators=50, n_jobs=-1, oob_score=False,\n",
       "                       random_state=None, verbose=0, warm_start=False)"
      ]
     },
     "execution_count": 40,
     "metadata": {},
     "output_type": "execute_result"
    }
   ],
   "source": [
    "rf_clf = RandomForestClassifier(n_estimators=50, class_weight='balanced', n_jobs=-1)\n",
    "rf_clf.fit(X_train, Y_train)"
   ]
  },
  {
   "cell_type": "code",
   "execution_count": 41,
   "metadata": {},
   "outputs": [
    {
     "name": "stdout",
     "output_type": "stream",
     "text": [
      "[[0.99 0.   0.  ]\n",
      " [0.06 0.92 0.02]\n",
      " [0.04 0.06 0.89]]\n",
      "              precision    recall  f1-score   support\n",
      "\n",
      "        good       0.99      0.99      0.99     17420\n",
      "     warning       0.93      0.92      0.93      2947\n",
      "         bad       0.95      0.89      0.92      1695\n",
      "\n",
      "    accuracy                           0.98     22062\n",
      "   macro avg       0.96      0.94      0.95     22062\n",
      "weighted avg       0.98      0.98      0.98     22062\n",
      "\n"
     ]
    }
   ],
   "source": [
    "# get preds\n",
    "rf_preds = rf_clf.predict(scaler.transform(X_test))\n",
    "rf_confmat = confusion_matrix(Y_test, rf_preds)\n",
    "\n",
    "print(np.around(rf_confmat / rf_confmat.sum(axis=1, keepdims=True), decimals=2))\n",
    "print(classification_report(Y_test, rf_preds, target_names=['good', 'warning', 'bad']))"
   ]
  },
  {
   "cell_type": "markdown",
   "metadata": {},
   "source": [
    "### XGBoost"
   ]
  },
  {
   "cell_type": "code",
   "execution_count": 42,
   "metadata": {},
   "outputs": [],
   "source": [
    "from xgboost import XGBClassifier"
   ]
  },
  {
   "cell_type": "code",
   "execution_count": 43,
   "metadata": {},
   "outputs": [
    {
     "data": {
      "text/plain": [
       "XGBClassifier(base_score=0.5, booster='gbtree', colsample_bylevel=1,\n",
       "              colsample_bynode=1, colsample_bytree=1, gamma=0,\n",
       "              learning_rate=0.1, max_delta_step=0, max_depth=16,\n",
       "              min_child_weight=1, missing=None, n_estimators=100, n_jobs=8,\n",
       "              nthread=None, objective='multi:softprob', random_state=0,\n",
       "              reg_alpha=0, reg_lambda=1, scale_pos_weight=1, seed=None,\n",
       "              silent=None, subsample=1, verbosity=1)"
      ]
     },
     "execution_count": 43,
     "metadata": {},
     "output_type": "execute_result"
    }
   ],
   "source": [
    "xgb_clf = XGBClassifier(max_depth=16, n_jobs=8)\n",
    "xgb_clf.fit(X_train, Y_train)"
   ]
  },
  {
   "cell_type": "code",
   "execution_count": 44,
   "metadata": {},
   "outputs": [
    {
     "name": "stdout",
     "output_type": "stream",
     "text": [
      "[[0.99 0.   0.  ]\n",
      " [0.06 0.92 0.02]\n",
      " [0.06 0.06 0.88]]\n",
      "              precision    recall  f1-score   support\n",
      "\n",
      "        good       0.98      0.99      0.99     17420\n",
      "     warning       0.93      0.92      0.93      2947\n",
      "         bad       0.95      0.88      0.91      1695\n",
      "\n",
      "    accuracy                           0.98     22062\n",
      "   macro avg       0.96      0.93      0.94     22062\n",
      "weighted avg       0.98      0.98      0.98     22062\n",
      "\n"
     ]
    }
   ],
   "source": [
    "# get preds\n",
    "xgb_preds = xgb_clf.predict(scaler.transform(X_test))\n",
    "xgb_confmat = confusion_matrix(Y_test, xgb_preds)\n",
    "\n",
    "print(np.around(xgb_confmat / xgb_confmat.sum(axis=1, keepdims=True), decimals=2))\n",
    "print(classification_report(Y_test, xgb_preds, target_names=['good', 'warning', 'bad']))"
   ]
  },
  {
   "cell_type": "markdown",
   "metadata": {},
   "source": [
    "### MLP"
   ]
  },
  {
   "cell_type": "code",
   "execution_count": 45,
   "metadata": {},
   "outputs": [],
   "source": [
    "from dask_ml.wrappers import Incremental\n",
    "from sklearn.neural_network import MLPClassifier"
   ]
  },
  {
   "cell_type": "code",
   "execution_count": 47,
   "metadata": {},
   "outputs": [
    {
     "data": {
      "text/plain": [
       "MLPClassifier(activation='relu', alpha=0.0001, batch_size=512, beta_1=0.9,\n",
       "              beta_2=0.999, early_stopping=False, epsilon=1e-08,\n",
       "              hidden_layer_sizes=(256, 512, 128), learning_rate='constant',\n",
       "              learning_rate_init=0.001, max_iter=200, momentum=0.9,\n",
       "              n_iter_no_change=10, nesterovs_momentum=True, power_t=0.5,\n",
       "              random_state=24, shuffle=True, solver='adam', tol=0.0001,\n",
       "              validation_fraction=0.1, verbose=False, warm_start=True)"
      ]
     },
     "execution_count": 47,
     "metadata": {},
     "output_type": "execute_result"
    }
   ],
   "source": [
    "mlp = MLPClassifier(hidden_layer_sizes=(256, 512, 128), batch_size=512, warm_start=True, random_state=24)\n",
    "# clf = Incremental(mlp)\n",
    "mlp.fit(X_train, Y_train)"
   ]
  },
  {
   "cell_type": "code",
   "execution_count": 36,
   "metadata": {},
   "outputs": [
    {
     "data": {
      "text/plain": [
       "['pretrained/seagate_predictor_clf_Aug_12_2019_14_26_08.joblib']"
      ]
     },
     "execution_count": 36,
     "metadata": {},
     "output_type": "execute_result"
    }
   ],
   "source": [
    "fname = 'pretrained/{}_predictor_clf_{}.joblib'.format(MANUFACTURER, datetime.datetime.now().strftime(\"%b_%d_%Y_%H_%M_%S\"))\n",
    "joblib.dump(clf, fname)"
   ]
  },
  {
   "cell_type": "code",
   "execution_count": 49,
   "metadata": {},
   "outputs": [
    {
     "name": "stdout",
     "output_type": "stream",
     "text": [
      "[[0.98 0.02 0.01]\n",
      " [0.51 0.43 0.06]\n",
      " [0.38 0.3  0.31]]\n",
      "              precision    recall  f1-score   support\n",
      "\n",
      "        good       0.89      0.98      0.93     17420\n",
      "     warning       0.61      0.43      0.50      2947\n",
      "         bad       0.67      0.31      0.43      1695\n",
      "\n",
      "    accuracy                           0.85     22062\n",
      "   macro avg       0.72      0.57      0.62     22062\n",
      "weighted avg       0.83      0.85      0.83     22062\n",
      "\n"
     ]
    }
   ],
   "source": [
    "# with parallel_backend('dask'):\n",
    "# get preds\n",
    "mlp_preds = mlp.predict(scaler.transform(X_test))\n",
    "mlp_confmat = confusion_matrix(Y_test, mlp_preds)\n",
    "\n",
    "print(np.around(mlp_confmat / mlp_confmat.sum(axis=1, keepdims=True), decimals=2))\n",
    "print(classification_report(Y_test, mlp_preds, target_names=['good', 'warning', 'bad']))"
   ]
  },
  {
   "cell_type": "code",
   "execution_count": null,
   "metadata": {},
   "outputs": [],
   "source": []
  }
 ],
 "metadata": {
  "kernelspec": {
   "display_name": "Python 3",
   "language": "python",
   "name": "python3"
  },
  "language_info": {
   "codemirror_mode": {
    "name": "ipython",
    "version": 3
   },
   "file_extension": ".py",
   "mimetype": "text/x-python",
   "name": "python",
   "nbconvert_exporter": "python",
   "pygments_lexer": "ipython3",
   "version": "3.7.4"
  },
  "toc-showtags": false
 },
 "nbformat": 4,
 "nbformat_minor": 4
}
